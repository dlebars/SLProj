{
 "cells": [
  {
   "cell_type": "markdown",
   "metadata": {},
   "source": [
    "# Compare the GMST and ocean/atmosphere dynamic sea level anomalies for different scenarios"
   ]
  },
  {
   "cell_type": "markdown",
   "metadata": {},
   "source": [
    "We investigate here the possibility that GMST is not a good driver for this part of sea level.\n",
    "\n",
    "This is based on an NCL script: CompTE_GMST.ncl"
   ]
  },
  {
   "cell_type": "code",
   "execution_count": 84,
   "metadata": {},
   "outputs": [],
   "source": [
    "import numpy as np\n",
    "import xarray as xr\n",
    "import pandas as pd\n",
    "import matplotlib.pyplot as plt\n",
    "import scipy.stats"
   ]
  },
  {
   "cell_type": "code",
   "execution_count": 98,
   "metadata": {},
   "outputs": [
    {
     "name": "stdout",
     "output_type": "stream",
     "text": [
      "(21, 114)\n",
      "['bcc-csm1-1', 'bcc-csm1-1-m', 'MIROC-ESM', 'MIROC5', 'MIROC-ESM-CHEM', 'IPSL-CM5A-LR', 'IPSL-CM5A-MR', 'GFDL-ESM2G', 'GFDL-ESM2M', 'NorESM1-M', 'NorESM1-ME', 'CCSM4', 'FGOALS-g2', 'HadGEM2-ES', 'CSIRO-Mk3-6-0', 'CanESM2', 'GISS-E2-R', 'MRI-CGCM3', 'MPI-ESM-LR', 'MPI-ESM-MR', 'CNRM-CM5']\n"
     ]
    }
   ],
   "source": [
    "DIR_PROJ = '/Users/dewilebars/Projects/Project_ProbSLR/'\n",
    "DIR_ZOS  = DIR_PROJ+'Project_ProbSLR_archiveKNMIwks/CMIP5_ThermalExp/'\n",
    "DIR_T    = DIR_PROJ+'Data_Proj/Data_AR5/Tglobal/'\n",
    "\n",
    "SCE      = 'rcp26'\n",
    "\n",
    "fzos     = xr.open_dataset(DIR_ZOS+'CMIP5_SeaLevel_'+SCE+'_zos_1986-2100.nc')\n",
    "fzostoga = xr.open_dataset(DIR_ZOS+'CMIP5_SeaLevel_'+SCE+'_zostoga_1986-2100.nc')\n",
    "fzossga  = xr.open_dataset(DIR_ZOS+'CMIP5_SeaLevel_'+SCE+'_zossga_1986-2100.nc')\n",
    "fzos_avg = xr.open_dataset(DIR_ZOS+'CMIP5_SeaLevel_'+SCE+'_zos_avg_1986-2100.nc')\n",
    "\n",
    "time     = fzos.time\n",
    "dimt     = len(time)\n",
    "zos      = np.array(fzos.LocalSeaLevel)\n",
    "zostoga  = np.array(fzostoga.GlobalSeaLevel)\n",
    "zossga   = np.array(fzossga.GlobalSeaLevel)\n",
    "zos_avg  = np.array(fzos_avg.AverageSeaLevel) \n",
    "dimzos = zos.shape\n",
    "print(dimzos)\n",
    "\n",
    "# Read model names, this need a little function because characters are not read \n",
    "#properly by xarray\n",
    "def read_ModelNames(ds):\n",
    "    mod_names = []\n",
    "    for i in range(len(ds.ModelNames)):\n",
    "        mod_names.append(str(ds.ModelNames[i].values)[2:-1])\n",
    "    return mod_names\n",
    "zos_ModelNames     = read_ModelNames(fzos)\n",
    "zostoga_ModelNames = read_ModelNames(fzostoga)\n",
    "zossga_ModelNames  = read_ModelNames(fzossga)\n",
    "zos_avg_ModelNames = read_ModelNames(fzos_avg)\n",
    "\n",
    "print(zos_ModelNames)"
   ]
  },
  {
   "cell_type": "code",
   "execution_count": 99,
   "metadata": {},
   "outputs": [
    {
     "name": "stdout",
     "output_type": "stream",
     "text": [
      "Using bcc-csm1-1 with zostoga for global\n",
      "Using bcc-csm1-1-m with zostoga for global\n",
      "Using MIROC-ESM with zostoga for global\n",
      "Using MIROC5 with zostoga for global\n",
      "Using MIROC-ESM-CHEM with zostoga for global\n",
      "Using IPSL-CM5A-LR with zostoga for global\n",
      "Using IPSL-CM5A-MR with zostoga for global\n",
      "Using GFDL-ESM2G with zossga for global\n",
      "Using GFDL-ESM2M with zossga for global\n",
      "Using NorESM1-M with zostoga for global\n",
      "Using NorESM1-ME with zostoga for global\n",
      "Using CCSM4 with zostoga for global\n",
      "No global steric data for FGOALS-g2\n",
      "Using HadGEM2-ES with zostoga for global\n",
      "Using CSIRO-Mk3-6-0 with zostoga for global\n",
      "Using CanESM2 with zostoga for global\n",
      "Using GISS-E2-R with zostoga for global\n",
      "Using MRI-CGCM3 with zostoga for global\n",
      "Using MPI-ESM-LR with zostoga for global\n",
      "Using MPI-ESM-MR with zostoga for global\n",
      "Using CNRM-CM5 with zostoga for global\n"
     ]
    }
   ],
   "source": [
    "### Combine global and regional sea level change\n",
    "\n",
    "glob_sl = np.zeros(zos.shape)\n",
    "for m in range(0,dimzos[0]):\n",
    "    try:\n",
    "        inds = zostoga_ModelNames.index(zos_ModelNames[m])\n",
    "        glob_sl[m,:]  = zostoga[inds,:]\n",
    "        print('Using '+zos_ModelNames[m]+' with zostoga for global')\n",
    "    except:\n",
    "        try:\n",
    "            inds = zossga_ModelNames.index(zos_ModelNames[m])\n",
    "            glob_sl[m,:]  = zossga[inds,:]\n",
    "            print(\"Using \"+zos_ModelNames[m]+' with zossga for global')\n",
    "        except:\n",
    "            print(\"No global steric data for \"+zos_ModelNames[m])\n",
    "            glob_sl[m,:] = np.nan\n",
    "    try:\n",
    "        inds = zos_avg_ModelNames.index(zos_ModelNames[m])\n",
    "        glob_sl[m,:] = glob_sl[m,:] - zos_avg[inds,:]\n",
    "    except:\n",
    "        print('Missing zos_avg for model '+zos_ModelNames[m])\n",
    "\n",
    "tot_sl  = zos + glob_sl\n",
    "        \n",
    "ind_s1 = np.where(time==1986.5)[0][0]\n",
    "ind_e1 = np.where(time==2005.5)[0][0]\n",
    "ind_s2 = np.where(time==2091.5)[0][0] # 2081.5\n",
    "ind_e2 = np.where(time==2099.5)[0][0]\n",
    "\n",
    "tot_sl_avg1  = tot_sl[:,ind_s1:ind_e1+1].mean(axis=1)\n",
    "tot_sl_avg2  = tot_sl[:,ind_s2:ind_e2+1].mean(axis=1)\n",
    "glob_sl_avg1 = glob_sl[:,ind_s1:ind_e1+1].mean(axis=1)\n",
    "glob_sl_avg2 = glob_sl[:,ind_s2:ind_e2+1].mean(axis=1)\n",
    "\n",
    "Delta_tot_sl  = tot_sl_avg2 - tot_sl_avg1\n",
    "Delta_glob_sl = glob_sl_avg2 - glob_sl_avg1"
   ]
  },
  {
   "cell_type": "code",
   "execution_count": 100,
   "metadata": {},
   "outputs": [
    {
     "name": "stdout",
     "output_type": "stream",
     "text": [
      "Reading temperature for bcc-csm1-1\n",
      "Reading temperature for bcc-csm1-1-m\n",
      "Reading temperature for MIROC-ESM\n",
      "Reading temperature for MIROC5\n",
      "Reading temperature for MIROC-ESM-CHEM\n",
      "Reading temperature for IPSL-CM5A-LR\n",
      "Reading temperature for IPSL-CM5A-MR\n",
      "Reading temperature for GFDL-ESM2G\n",
      "Reading temperature for GFDL-ESM2M\n",
      "Reading temperature for NorESM1-M\n",
      "Reading temperature for NorESM1-ME\n",
      "Reading temperature for CCSM4\n",
      "Reading temperature for FGOALS-g2\n",
      "Temperature file missing for: FGOALS-g2\n",
      "Reading temperature for HadGEM2-ES\n",
      "Reading temperature for CSIRO-Mk3-6-0\n",
      "Reading temperature for CanESM2\n",
      "Reading temperature for GISS-E2-R\n",
      "Reading temperature for MRI-CGCM3\n",
      "Reading temperature for MPI-ESM-LR\n",
      "Reading temperature for MPI-ESM-MR\n",
      "Reading temperature for CNRM-CM5\n"
     ]
    }
   ],
   "source": [
    "# Read temperature\n",
    "temp  = np.zeros(dimzos)\n",
    "temp_avg1 = np.zeros(dimzos[0])\n",
    "temp_avg2 = np.zeros(dimzos[0])\n",
    "col_names = ['Year', 'Jan', 'Feb', 'Mar', 'Apr', 'May', 'Jun', 'Jul', 'Aug', \\\n",
    "             'Sep', 'Oct', 'Nov', 'Dec']\n",
    "for m in range(dimzos[0]):\n",
    "    print('Reading temperature for '+zos_ModelNames[m])\n",
    "    file_name = 'global_tas_Amon_'+zos_ModelNames[m]+'_'+SCE+'_r1i1p1.dat'\n",
    "    try:\n",
    "        TEMP = pd.read_csv(DIR_T+file_name, comment='#', delim_whitespace=True, \\\n",
    "                           names=col_names)\n",
    "        timeT = TEMP['Year'][:]\n",
    "        TEMPy = TEMP.iloc[:,1:].mean(axis=1) # Compute yearly averages\n",
    "        ind_s1 = np.where(timeT==1986)[0][0]\n",
    "        ind_e1 = np.where(timeT==2005)[0][0]\n",
    "        ind_s2 = np.where(timeT==2091)[0][0]\n",
    "        ind_e2 = np.where(timeT==2099)[0][0]\n",
    "        temp_avg1[m] = TEMPy[ind_s1:ind_e1+1].mean()\n",
    "        temp_avg2[m] = TEMPy[ind_s2:ind_e2+1].mean()\n",
    "        del(TEMP)\n",
    "        del(timeT)\n",
    "        del(TEMPy)\n",
    "    except:\n",
    "        print('Temperature file missing for: '+zos_ModelNames[m])\n",
    "        temp_avg1[m] = np.nan\n",
    "        temp_avg2[m] = np.nan\n"
   ]
  },
  {
   "cell_type": "code",
   "execution_count": 101,
   "metadata": {},
   "outputs": [
    {
     "name": "stdout",
     "output_type": "stream",
     "text": [
      "[ 0.10906015  0.08844789  0.05701888  0.19399667  0.12368641  0.21305368\n",
      "  0.1939541   0.11576963  0.14145447 -0.00091578 -0.00149908  0.13900689\n",
      "         nan  0.10011796  0.16586857  0.15616132  0.02430253  0.09798653\n",
      "  0.13499485  0.11864899 -0.00121616]\n"
     ]
    }
   ],
   "source": [
    "\n",
    "Delta_temp    = temp_avg2 - temp_avg1\n",
    "\n",
    "print(Delta_glob_sl)"
   ]
  },
  {
   "cell_type": "code",
   "execution_count": 102,
   "metadata": {},
   "outputs": [
    {
     "data": {
      "text/html": [
       "<div>\n",
       "<style scoped>\n",
       "    .dataframe tbody tr th:only-of-type {\n",
       "        vertical-align: middle;\n",
       "    }\n",
       "\n",
       "    .dataframe tbody tr th {\n",
       "        vertical-align: top;\n",
       "    }\n",
       "\n",
       "    .dataframe thead th {\n",
       "        text-align: right;\n",
       "    }\n",
       "</style>\n",
       "<table border=\"1\" class=\"dataframe\">\n",
       "  <thead>\n",
       "    <tr style=\"text-align: right;\">\n",
       "      <th></th>\n",
       "      <th>GMST</th>\n",
       "      <th>GMSL</th>\n",
       "      <th>RegSL</th>\n",
       "    </tr>\n",
       "  </thead>\n",
       "  <tbody>\n",
       "    <tr>\n",
       "      <th>GMST</th>\n",
       "      <td>1.000000</td>\n",
       "      <td>0.191925</td>\n",
       "      <td>0.715208</td>\n",
       "    </tr>\n",
       "    <tr>\n",
       "      <th>GMSL</th>\n",
       "      <td>0.191925</td>\n",
       "      <td>1.000000</td>\n",
       "      <td>0.222987</td>\n",
       "    </tr>\n",
       "    <tr>\n",
       "      <th>RegSL</th>\n",
       "      <td>0.715208</td>\n",
       "      <td>0.222987</td>\n",
       "      <td>1.000000</td>\n",
       "    </tr>\n",
       "  </tbody>\n",
       "</table>\n",
       "</div>"
      ],
      "text/plain": [
       "           GMST      GMSL     RegSL\n",
       "GMST   1.000000  0.191925  0.715208\n",
       "GMSL   0.191925  1.000000  0.222987\n",
       "RegSL  0.715208  0.222987  1.000000"
      ]
     },
     "execution_count": 102,
     "metadata": {},
     "output_type": "execute_result"
    }
   ],
   "source": [
    "# Compute correlations\n",
    "# print('Pearson correlation between local sea level and GMST:')\n",
    "# print(scipy.stats.pearsonr(Delta_temp, Delta_tot_sl))\n",
    "# print('Pearson correlation between global mean sea level and GMST:')\n",
    "# print(scipy.stats.pearsonr(Delta_temp, Delta_glob_sl))\n",
    "\n",
    "df = pd.DataFrame({'GMST':Delta_temp, 'GMSL':Delta_glob_sl, 'RegSL':Delta_tot_sl})\n",
    "rho = df.corr()\n",
    "rho"
   ]
  },
  {
   "cell_type": "code",
   "execution_count": 103,
   "metadata": {},
   "outputs": [
    {
     "data": {
      "text/plain": [
       "[<matplotlib.lines.Line2D at 0x1c234997d0>]"
      ]
     },
     "execution_count": 103,
     "metadata": {},
     "output_type": "execute_result"
    },
    {
     "data": {
      "image/png": "[encoded data removed]",
      "text/plain": [
       "<Figure size 432x288 with 1 Axes>"
      ]
     },
     "metadata": {
      "needs_background": "light"
     },
     "output_type": "display_data"
    }
   ],
   "source": [
    "# Plot\n",
    "fig, ax = plt.subplots()\n",
    "ax.plot(Delta_temp, Delta_tot_sl, '.')"
   ]
  },
  {
   "cell_type": "code",
   "execution_count": 104,
   "metadata": {},
   "outputs": [
    {
     "data": {
      "text/plain": [
       "[<matplotlib.lines.Line2D at 0x1c23846f10>]"
      ]
     },
     "execution_count": 104,
     "metadata": {},
     "output_type": "execute_result"
    },
    {
     "data": {
      "image/png": "[encoded data removed]",
      "text/plain": [
       "<Figure size 432x288 with 1 Axes>"
      ]
     },
     "metadata": {
      "needs_background": "light"
     },
     "output_type": "display_data"
    }
   ],
   "source": [
    "fig, ax = plt.subplots()\n",
    "ax.plot(Delta_temp, Delta_glob_sl, '.')"
   ]
  },
  {
   "cell_type": "code",
   "execution_count": 82,
   "metadata": {},
   "outputs": [
    {
     "data": {
      "text/plain": [
       "[<matplotlib.lines.Line2D at 0x32112a190>]"
      ]
     },
     "execution_count": 82,
     "metadata": {},
     "output_type": "execute_result"
    },
    {
     "data": {
      "image/png": "[encoded data removed]",
      "text/plain": [
       "<Figure size 432x288 with 1 Axes>"
      ]
     },
     "metadata": {
      "needs_background": "light"
     },
     "output_type": "display_data"
    }
   ],
   "source": [
    "fzos.LocalSeaLevel[11,:].plot()"
   ]
  },
  {
   "cell_type": "code",
   "execution_count": null,
   "metadata": {},
   "outputs": [],
   "source": []
  }
 ],
 "metadata": {
  "kernelspec": {
   "display_name": "Python [conda env:p37ds] *",
   "language": "python",
   "name": "conda-env-p37ds-py"
  },
  "language_info": {
   "codemirror_mode": {
    "name": "ipython",
    "version": 3
   },
   "file_extension": ".py",
   "mimetype": "text/x-python",
   "name": "python",
   "nbconvert_exporter": "python",
   "pygments_lexer": "ipython3",
   "version": "3.7.4"
  }
 },
 "nbformat": 4,
 "nbformat_minor": 4
}
