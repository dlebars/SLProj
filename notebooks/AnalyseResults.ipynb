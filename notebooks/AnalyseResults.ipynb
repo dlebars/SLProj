{
 "cells": [
  {
   "cell_type": "markdown",
   "metadata": {},
   "source": [
    "## Analyse results from the sea level projections NetCDF files"
   ]
  },
  {
   "cell_type": "code",
   "execution_count": 3,
   "metadata": {},
   "outputs": [],
   "source": [
    "import xarray as xr\n",
    "import sys\n",
    "sys.path.append('../code')\n",
    "import func_misc as misc"
   ]
  },
  {
   "cell_type": "code",
   "execution_count": 5,
   "metadata": {},
   "outputs": [
    {
     "data": {
      "text/plain": [
       "<xarray.Dataset>\n",
       "Dimensions:  (bin: 521, proc: 11, time: 95)\n",
       "Coordinates:\n",
       "  * time     (time) int64 2006 2007 2008 2009 2010 2011 2012 2013 2014 2015 ...\n",
       "  * proc     (proc) object 'Global steric' 'Local ocean' 'Inverse barometer' ...\n",
       "  * bin      (bin) float64 -20.0 -19.0 -18.0 -17.0 -16.0 -15.0 -14.0 -13.0 ...\n",
       "Data variables:\n",
       "    MAT_RES  (time, proc, bin) float64 ...\n",
       "Attributes:\n",
       "    options:        Computations were done with the following options:: Local...\n",
       "    source_file:    This NetCDF file was built from the Probabilistic Sea Lev...\n",
       "    creation_date:  2020-01-20 21:02"
      ]
     },
     "execution_count": 5,
     "metadata": {},
     "output_type": "execute_result"
    }
   ],
   "source": [
    "AR5G85_ds = xr.open_dataset('../outputs/SeaLevelPDF_AR5_glo_rcp85.nc')\n",
    "AR5G85_ds"
   ]
  },
  {
   "cell_type": "code",
   "execution_count": 12,
   "metadata": {},
   "outputs": [
    {
     "data": {
      "text/html": [
       "<div>\n",
       "<style scoped>\n",
       "    .dataframe tbody tr th:only-of-type {\n",
       "        vertical-align: middle;\n",
       "    }\n",
       "\n",
       "    .dataframe tbody tr th {\n",
       "        vertical-align: top;\n",
       "    }\n",
       "\n",
       "    .dataframe thead th {\n",
       "        text-align: right;\n",
       "    }\n",
       "</style>\n",
       "<table border=\"1\" class=\"dataframe\">\n",
       "  <thead>\n",
       "    <tr style=\"text-align: right;\">\n",
       "      <th></th>\n",
       "      <th>values</th>\n",
       "    </tr>\n",
       "    <tr>\n",
       "      <th>percentiles</th>\n",
       "      <th></th>\n",
       "    </tr>\n",
       "  </thead>\n",
       "  <tbody>\n",
       "    <tr>\n",
       "      <th>1.0</th>\n",
       "      <td>41.0</td>\n",
       "    </tr>\n",
       "    <tr>\n",
       "      <th>5.0</th>\n",
       "      <td>48.0</td>\n",
       "    </tr>\n",
       "    <tr>\n",
       "      <th>10.0</th>\n",
       "      <td>51.0</td>\n",
       "    </tr>\n",
       "    <tr>\n",
       "      <th>17.0</th>\n",
       "      <td>54.0</td>\n",
       "    </tr>\n",
       "    <tr>\n",
       "      <th>20.0</th>\n",
       "      <td>55.0</td>\n",
       "    </tr>\n",
       "    <tr>\n",
       "      <th>50.0</th>\n",
       "      <td>64.0</td>\n",
       "    </tr>\n",
       "    <tr>\n",
       "      <th>80.0</th>\n",
       "      <td>74.0</td>\n",
       "    </tr>\n",
       "    <tr>\n",
       "      <th>83.0</th>\n",
       "      <td>75.0</td>\n",
       "    </tr>\n",
       "    <tr>\n",
       "      <th>90.0</th>\n",
       "      <td>80.0</td>\n",
       "    </tr>\n",
       "    <tr>\n",
       "      <th>95.0</th>\n",
       "      <td>85.0</td>\n",
       "    </tr>\n",
       "    <tr>\n",
       "      <th>99.0</th>\n",
       "      <td>97.0</td>\n",
       "    </tr>\n",
       "    <tr>\n",
       "      <th>99.5</th>\n",
       "      <td>101.0</td>\n",
       "    </tr>\n",
       "    <tr>\n",
       "      <th>99.9</th>\n",
       "      <td>110.0</td>\n",
       "    </tr>\n",
       "  </tbody>\n",
       "</table>\n",
       "</div>"
      ],
      "text/plain": [
       "             values\n",
       "percentiles        \n",
       "1.0            41.0\n",
       "5.0            48.0\n",
       "10.0           51.0\n",
       "17.0           54.0\n",
       "20.0           55.0\n",
       "50.0           64.0\n",
       "80.0           74.0\n",
       "83.0           75.0\n",
       "90.0           80.0\n",
       "95.0           85.0\n",
       "99.0           97.0\n",
       "99.5          101.0\n",
       "99.9          110.0"
      ]
     },
     "execution_count": 12,
     "metadata": {},
     "output_type": "execute_result"
    }
   ],
   "source": [
    "Perc  = (1,5,10,17,20,50,80,83,90,95,99,99.5,99.9)\n",
    "perc = misc.perc_df(AR5G85_ds.MAT_RES[-1,10,:], Perc, AR5G85_ds.bin)\n",
    "perc"
   ]
  },
  {
   "cell_type": "code",
   "execution_count": 9,
   "metadata": {},
   "outputs": [
    {
     "data": {
      "text/plain": [
       "<xarray.DataArray 'MAT_RES' (bin: 521)>\n",
       "array([0., 0., 0., ..., 0., 0., 0.])\n",
       "Coordinates:\n",
       "    time     int64 2100\n",
       "    proc     <U5 'Total'\n",
       "  * bin      (bin) float64 -20.0 -19.0 -18.0 -17.0 -16.0 -15.0 -14.0 -13.0 ...\n",
       "Attributes:\n",
       "    units:      cm\n",
       "    long_name:  This variable contains the pdfs of each sea levelcontributor ..."
      ]
     },
     "execution_count": 9,
     "metadata": {},
     "output_type": "execute_result"
    }
   ],
   "source": [
    "AR5G85_ds.MAT_RES[-1,10,:]"
   ]
  },
  {
   "cell_type": "code",
   "execution_count": null,
   "metadata": {},
   "outputs": [],
   "source": []
  }
 ],
 "metadata": {
  "kernelspec": {
   "display_name": "Python 3",
   "language": "python",
   "name": "python3"
  },
  "language_info": {
   "codemirror_mode": {
    "name": "ipython",
    "version": 3
   },
   "file_extension": ".py",
   "mimetype": "text/x-python",
   "name": "python",
   "nbconvert_exporter": "python",
   "pygments_lexer": "ipython3",
   "version": "3.7.4"
  }
 },
 "nbformat": 4,
 "nbformat_minor": 4
}
