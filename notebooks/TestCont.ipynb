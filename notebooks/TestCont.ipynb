{
 "cells": [
  {
   "cell_type": "markdown",
   "metadata": {},
   "source": [
    "## Test individual sea level contributors"
   ]
  },
  {
   "cell_type": "code",
   "execution_count": 1,
   "metadata": {},
   "outputs": [],
   "source": [
    "import glob\n",
    "import sys\n",
    "sys.path.append('../code')\n",
    "\n",
    "import numpy as np\n",
    "import matplotlib.pyplot as plt\n",
    "import importlib\n",
    "import pandas as pd\n",
    "import xarray as xr\n",
    "from IPython.display import display\n",
    "\n",
    "import func_odyn as odyn\n",
    "import func_misc as misc\n",
    "import func_gic as gic\n",
    "import func_gre as gre\n",
    "import func_ant as ant\n",
    "import func_B19 as b19\n",
    "\n",
    "# Interactive plots\n",
    "#%matplotlib widget\n",
    "# Static plots\n",
    "%matplotlib inline"
   ]
  },
  {
   "cell_type": "code",
   "execution_count": 21,
   "metadata": {},
   "outputs": [
    {
     "data": {
      "text/plain": [
       "<module 'func_ant' from '../code/func_ant.py'>"
      ]
     },
     "execution_count": 21,
     "metadata": {},
     "output_type": "execute_result"
    }
   ],
   "source": [
    "importlib.reload(odyn)\n",
    "importlib.reload(misc)\n",
    "importlib.reload(ant)\n"
   ]
  },
  {
   "cell_type": "code",
   "execution_count": 2,
   "metadata": {},
   "outputs": [],
   "source": [
    "SCE = 'rcp85'\n",
    "ROOT = '/Users/dewilebars/Projects/Project_ProbSLR/Data_Proj/'\n",
    "DIR_T = ROOT+'Data_AR5/Tglobal/'\n",
    "DIR_T_cmip6 = f'{ROOT}Data_CMIP6/tas-global-averaged_20200429/'\n",
    "#DIR_T_cmip6 = f'{ROOT}Data_CMIP6/tas-global-area-averaged/'\n",
    "DIR_IPCC = ROOT+'Data_AR5/Final_Projections/'\n",
    "DIR_O       = ROOT + 'Data_AR5/Ocean/1x1_reg/'\n",
    "DIR_OG      = ROOT + 'Data_AR5/Ocean/globalmeans_from_1x1_glob/'\n",
    "\n",
    "N = int(1e5)\n",
    "start_date = 1980    # Start reading data\n",
    "ys = 2006   # Starting point for the integration, if this is changed problems in functions\n",
    "ye = 2100   # End year for computation\n",
    "nb_y = ye-start_date+1       # Period where data needs to be read\n",
    "nb_y2 = ye - ys +1           # Period of integration of the model\n",
    "TIME       = np.arange( start_date, ye + 1 )\n",
    "TIME2      = np.arange( ys, ye + 1, 1 )\n",
    "GAM = 1\n",
    "GRE = 'KNMI14'\n",
    "NormD  = np.random.normal(0, 1, N)\n",
    "Aoc = 3.6704e14              # Ocean Area (m2)\n",
    "rho_w = 1e3                  # Water density (kg.m-3)\n",
    "fac = -1e12 / (Aoc * rho_w)  # Convert Giga tones to m sea level\n",
    "MOD = [\"ACCESS1-0\",\"BCC-CSM1-1\",\"CanESM2\",\"CNRM-CM5\",\"CSIRO-Mk3-6-0\",\"GFDL-ESM2G\", \\\n",
    "    \"GFDL-ESM2M\",\"GISS-E2-R\",\"HadGEM2-CC\",\"HadGEM2-ES\",\"inmcm4\",\"IPSL-CM5A-LR\", \\\n",
    "    \"IPSL-CM5A-MR\",\"MIROC5\",\"MIROC-ESM-CHEM\",\"MIROC-ESM\",\"MPI-ESM-LR\",\"MPI-ESM-MR\", \\\n",
    "    \"MRI-CGCM3\",\"NorESM1-ME\",\"NorESM1-M\"]\n",
    "i_ys   = np.where(TIME == ys)[0][0]\n",
    "\n",
    "#### Specific parameters\n",
    "## Initial Antarctic dynamics contribution\n",
    "a1_up_a           = 0.061    # Unit is cm/y, equal to observations in 2006\n",
    "a1_lo_a           = 0.021\n",
    "## Initial Greenland dynamics contribution\n",
    "a1_up_g           = 0.076    # Unit is cm/y, equal to observations in 2006\n",
    "a1_lo_g           = 0.043\n",
    "\n",
    "ref_steric = [1986, 2005] # Reference period for steric sea level"
   ]
  },
  {
   "cell_type": "code",
   "execution_count": 3,
   "metadata": {},
   "outputs": [],
   "source": [
    "def comp_plot_dist(X_ens, lo, hi, title_in, SCE):\n",
    "    '''Easily compute the distribution, plot a histogram and table of percentile \n",
    "    values'''\n",
    "    nbin = int(hi - lo)*20 \n",
    "    X_pdf, bins = np.histogram(X_ens, bins=nbin, range=(lo, hi), density=True)\n",
    "    bin_centers = (bins[1:] + bins[:-1])/2\n",
    "\n",
    "    plt.bar(bin_centers, X_pdf, width=1)\n",
    "    plt.ylabel('PDF')\n",
    "    plt.title(title_in + ' for '+SCE)\n",
    "    plt.show()\n",
    "    \n",
    "    Perc  = (1,5,10,17,20,50,80,83,90,95,99,99.5,99.9)\n",
    "    perc = misc.perc_df(X_pdf, Perc, bin_centers)\n",
    "    print(\"### Distribution ###\")\n",
    "    display(perc)"
   ]
  },
  {
   "cell_type": "markdown",
   "metadata": {},
   "source": [
    "### Test ocean dynamics function: odyn.odyn_glob_ipcc"
   ]
  },
  {
   "cell_type": "code",
   "execution_count": 5,
   "metadata": {},
   "outputs": [
    {
     "name": "stdout",
     "output_type": "stream",
     "text": [
      "(3, 100000, 95)\n"
     ]
    },
    {
     "data": {
      "image/png": "[encoded data removed]",
      "text/plain": [
       "<Figure size 432x288 with 1 Axes>"
      ]
     },
     "metadata": {
      "needs_background": "light"
     },
     "output_type": "display_data"
    },
    {
     "name": "stdout",
     "output_type": "stream",
     "text": [
      "### Distribution ###\n"
     ]
    },
    {
     "data": {
      "text/html": [
       "<div>\n",
       "<style scoped>\n",
       "    .dataframe tbody tr th:only-of-type {\n",
       "        vertical-align: middle;\n",
       "    }\n",
       "\n",
       "    .dataframe tbody tr th {\n",
       "        vertical-align: top;\n",
       "    }\n",
       "\n",
       "    .dataframe thead th {\n",
       "        text-align: right;\n",
       "    }\n",
       "</style>\n",
       "<table border=\"1\" class=\"dataframe\">\n",
       "  <thead>\n",
       "    <tr style=\"text-align: right;\">\n",
       "      <th></th>\n",
       "      <th>values</th>\n",
       "    </tr>\n",
       "    <tr>\n",
       "      <th>percentiles</th>\n",
       "      <th></th>\n",
       "    </tr>\n",
       "  </thead>\n",
       "  <tbody>\n",
       "    <tr>\n",
       "      <th>1.0</th>\n",
       "      <td>21.825</td>\n",
       "    </tr>\n",
       "    <tr>\n",
       "      <th>5.0</th>\n",
       "      <td>24.725</td>\n",
       "    </tr>\n",
       "    <tr>\n",
       "      <th>10.0</th>\n",
       "      <td>26.275</td>\n",
       "    </tr>\n",
       "    <tr>\n",
       "      <th>17.0</th>\n",
       "      <td>27.675</td>\n",
       "    </tr>\n",
       "    <tr>\n",
       "      <th>20.0</th>\n",
       "      <td>28.125</td>\n",
       "    </tr>\n",
       "    <tr>\n",
       "      <th>50.0</th>\n",
       "      <td>31.775</td>\n",
       "    </tr>\n",
       "    <tr>\n",
       "      <th>80.0</th>\n",
       "      <td>35.375</td>\n",
       "    </tr>\n",
       "    <tr>\n",
       "      <th>83.0</th>\n",
       "      <td>35.875</td>\n",
       "    </tr>\n",
       "    <tr>\n",
       "      <th>90.0</th>\n",
       "      <td>37.275</td>\n",
       "    </tr>\n",
       "    <tr>\n",
       "      <th>95.0</th>\n",
       "      <td>38.825</td>\n",
       "    </tr>\n",
       "    <tr>\n",
       "      <th>99.0</th>\n",
       "      <td>41.775</td>\n",
       "    </tr>\n",
       "    <tr>\n",
       "      <th>99.5</th>\n",
       "      <td>42.825</td>\n",
       "    </tr>\n",
       "    <tr>\n",
       "      <th>99.9</th>\n",
       "      <td>44.925</td>\n",
       "    </tr>\n",
       "  </tbody>\n",
       "</table>\n",
       "</div>"
      ],
      "text/plain": [
       "             values\n",
       "percentiles        \n",
       "1.0          21.825\n",
       "5.0          24.725\n",
       "10.0         26.275\n",
       "17.0         27.675\n",
       "20.0         28.125\n",
       "50.0         31.775\n",
       "80.0         35.375\n",
       "83.0         35.875\n",
       "90.0         37.275\n",
       "95.0         38.825\n",
       "99.0         41.775\n",
       "99.5         42.825\n",
       "99.9         44.925"
      ]
     },
     "metadata": {},
     "output_type": "display_data"
    }
   ],
   "source": [
    "X_O = odyn.odyn_glob_ipcc(SCE, DIR_IPCC, N, nb_y2, GAM, NormD)\n",
    "print(X_O.shape)\n",
    "comp_plot_dist(X_O[0,:,-1], -20.5, 100.5, 'Plot thermal expansion', SCE)\n"
   ]
  },
  {
   "cell_type": "markdown",
   "metadata": {},
   "source": [
    "### Test ocean dynamics function: odyn.odyn_loc"
   ]
  },
  {
   "cell_type": "code",
   "execution_count": 6,
   "metadata": {},
   "outputs": [
    {
     "name": "stderr",
     "output_type": "stream",
     "text": [
      "/Users/dewilebars/anaconda3/envs/p38ds/lib/python3.8/site-packages/xarray/core/nanops.py:142: RuntimeWarning: Mean of empty slice\n",
      "  return np.nanmean(a, axis=axis, dtype=dtype)\n"
     ]
    },
    {
     "name": "stdout",
     "output_type": "stream",
     "text": [
      "(3, 100000, 95)\n"
     ]
    },
    {
     "data": {
      "image/png": "[encoded data removed]",
      "text/plain": [
       "<Figure size 432x288 with 1 Axes>"
      ]
     },
     "metadata": {
      "needs_background": "light"
     },
     "output_type": "display_data"
    },
    {
     "name": "stdout",
     "output_type": "stream",
     "text": [
      "### Distribution ###\n"
     ]
    },
    {
     "data": {
      "text/html": [
       "<div>\n",
       "<style scoped>\n",
       "    .dataframe tbody tr th:only-of-type {\n",
       "        vertical-align: middle;\n",
       "    }\n",
       "\n",
       "    .dataframe tbody tr th {\n",
       "        vertical-align: top;\n",
       "    }\n",
       "\n",
       "    .dataframe thead th {\n",
       "        text-align: right;\n",
       "    }\n",
       "</style>\n",
       "<table border=\"1\" class=\"dataframe\">\n",
       "  <thead>\n",
       "    <tr style=\"text-align: right;\">\n",
       "      <th></th>\n",
       "      <th>values</th>\n",
       "    </tr>\n",
       "    <tr>\n",
       "      <th>percentiles</th>\n",
       "      <th></th>\n",
       "    </tr>\n",
       "  </thead>\n",
       "  <tbody>\n",
       "    <tr>\n",
       "      <th>1.0</th>\n",
       "      <td>23.025</td>\n",
       "    </tr>\n",
       "    <tr>\n",
       "      <th>5.0</th>\n",
       "      <td>30.375</td>\n",
       "    </tr>\n",
       "    <tr>\n",
       "      <th>10.0</th>\n",
       "      <td>34.275</td>\n",
       "    </tr>\n",
       "    <tr>\n",
       "      <th>17.0</th>\n",
       "      <td>37.925</td>\n",
       "    </tr>\n",
       "    <tr>\n",
       "      <th>20.0</th>\n",
       "      <td>39.075</td>\n",
       "    </tr>\n",
       "    <tr>\n",
       "      <th>50.0</th>\n",
       "      <td>48.275</td>\n",
       "    </tr>\n",
       "    <tr>\n",
       "      <th>80.0</th>\n",
       "      <td>57.525</td>\n",
       "    </tr>\n",
       "    <tr>\n",
       "      <th>83.0</th>\n",
       "      <td>58.725</td>\n",
       "    </tr>\n",
       "    <tr>\n",
       "      <th>90.0</th>\n",
       "      <td>62.325</td>\n",
       "    </tr>\n",
       "    <tr>\n",
       "      <th>95.0</th>\n",
       "      <td>66.225</td>\n",
       "    </tr>\n",
       "    <tr>\n",
       "      <th>99.0</th>\n",
       "      <td>73.725</td>\n",
       "    </tr>\n",
       "    <tr>\n",
       "      <th>99.5</th>\n",
       "      <td>76.375</td>\n",
       "    </tr>\n",
       "    <tr>\n",
       "      <th>99.9</th>\n",
       "      <td>81.775</td>\n",
       "    </tr>\n",
       "  </tbody>\n",
       "</table>\n",
       "</div>"
      ],
      "text/plain": [
       "             values\n",
       "percentiles        \n",
       "1.0          23.025\n",
       "5.0          30.375\n",
       "10.0         34.275\n",
       "17.0         37.925\n",
       "20.0         39.075\n",
       "50.0         48.275\n",
       "80.0         57.525\n",
       "83.0         58.725\n",
       "90.0         62.325\n",
       "95.0         66.225\n",
       "99.0         73.725\n",
       "99.5         76.375\n",
       "99.9         81.775"
      ]
     },
     "metadata": {},
     "output_type": "display_data"
    }
   ],
   "source": [
    "LOC = 60, 51, -3.5, 7.5 # lat_N, lat_S, lon_W, lon_E\n",
    "LowPass = False\n",
    "\n",
    "X_O = odyn.odyn_loc(SCE, MOD, DIR_O, DIR_OG, LOC, \n",
    "                    ref_steric, ye, N, ys, GAM, NormD, LowPass)\n",
    "print(X_O.shape)\n",
    "comp_plot_dist(X_O[0,:,-1], -20.5, 100.5, 'Plot thermal expansion', SCE)\n"
   ]
  },
  {
   "cell_type": "markdown",
   "metadata": {},
   "source": [
    "### Test ocean dynamics function: odyn.odyn_cmip"
   ]
  },
  {
   "cell_type": "code",
   "execution_count": 69,
   "metadata": {},
   "outputs": [
    {
     "data": {
      "text/plain": [
       "<module 'func_odyn' from '../code/func_odyn.py'>"
      ]
     },
     "execution_count": 69,
     "metadata": {},
     "output_type": "execute_result"
    }
   ],
   "source": [
    "# Works for ye greater than 2100 if LowPass is on by extrapolating a 2nd order fit of each model in the future \n",
    "importlib.reload(odyn)"
   ]
  },
  {
   "cell_type": "code",
   "execution_count": 70,
   "metadata": {},
   "outputs": [
    {
     "name": "stdout",
     "output_type": "stream",
     "text": [
      "(3, 100000, 95)\n"
     ]
    },
    {
     "data": {
      "image/png": "[encoded data removed]",
      "text/plain": [
       "<Figure size 432x288 with 1 Axes>"
      ]
     },
     "metadata": {
      "needs_background": "light"
     },
     "output_type": "display_data"
    },
    {
     "name": "stdout",
     "output_type": "stream",
     "text": [
      "### Distribution ###\n"
     ]
    },
    {
     "data": {
      "text/html": [
       "<div>\n",
       "<style scoped>\n",
       "    .dataframe tbody tr th:only-of-type {\n",
       "        vertical-align: middle;\n",
       "    }\n",
       "\n",
       "    .dataframe tbody tr th {\n",
       "        vertical-align: top;\n",
       "    }\n",
       "\n",
       "    .dataframe thead th {\n",
       "        text-align: right;\n",
       "    }\n",
       "</style>\n",
       "<table border=\"1\" class=\"dataframe\">\n",
       "  <thead>\n",
       "    <tr style=\"text-align: right;\">\n",
       "      <th></th>\n",
       "      <th>values</th>\n",
       "    </tr>\n",
       "    <tr>\n",
       "      <th>percentiles</th>\n",
       "      <th></th>\n",
       "    </tr>\n",
       "  </thead>\n",
       "  <tbody>\n",
       "    <tr>\n",
       "      <th>1.0</th>\n",
       "      <td>25.375</td>\n",
       "    </tr>\n",
       "    <tr>\n",
       "      <th>5.0</th>\n",
       "      <td>33.975</td>\n",
       "    </tr>\n",
       "    <tr>\n",
       "      <th>10.0</th>\n",
       "      <td>38.475</td>\n",
       "    </tr>\n",
       "    <tr>\n",
       "      <th>17.0</th>\n",
       "      <td>42.675</td>\n",
       "    </tr>\n",
       "    <tr>\n",
       "      <th>20.0</th>\n",
       "      <td>44.025</td>\n",
       "    </tr>\n",
       "    <tr>\n",
       "      <th>50.0</th>\n",
       "      <td>54.725</td>\n",
       "    </tr>\n",
       "    <tr>\n",
       "      <th>80.0</th>\n",
       "      <td>65.425</td>\n",
       "    </tr>\n",
       "    <tr>\n",
       "      <th>83.0</th>\n",
       "      <td>66.825</td>\n",
       "    </tr>\n",
       "    <tr>\n",
       "      <th>90.0</th>\n",
       "      <td>71.025</td>\n",
       "    </tr>\n",
       "    <tr>\n",
       "      <th>95.0</th>\n",
       "      <td>75.475</td>\n",
       "    </tr>\n",
       "    <tr>\n",
       "      <th>99.0</th>\n",
       "      <td>84.225</td>\n",
       "    </tr>\n",
       "    <tr>\n",
       "      <th>99.5</th>\n",
       "      <td>87.275</td>\n",
       "    </tr>\n",
       "    <tr>\n",
       "      <th>99.9</th>\n",
       "      <td>93.525</td>\n",
       "    </tr>\n",
       "  </tbody>\n",
       "</table>\n",
       "</div>"
      ],
      "text/plain": [
       "             values\n",
       "percentiles        \n",
       "1.0          25.375\n",
       "5.0          33.975\n",
       "10.0         38.475\n",
       "17.0         42.675\n",
       "20.0         44.025\n",
       "50.0         54.725\n",
       "80.0         65.425\n",
       "83.0         66.825\n",
       "90.0         71.025\n",
       "95.0         75.475\n",
       "99.0         84.225\n",
       "99.5         87.275\n",
       "99.9         93.525"
      ]
     },
     "metadata": {},
     "output_type": "display_data"
    }
   ],
   "source": [
    "LowPass = False\n",
    "LOC = [60, 51, -3.5, 7.5]\n",
    "DIR_CMIP = '../../CMIP_SeaLevel/outputs/'\n",
    "\n",
    "X_O2 = odyn.odyn_cmip('ssp585', DIR_CMIP, LOC, \n",
    "                     ref_steric, 2100, N, ys, GAM, NormD, LowPass)\n",
    "print(X_O2.shape)\n",
    "comp_plot_dist(X_O2[0,:,-1], -20.5, 200.5, 'Plot thermal expansion', SCE)"
   ]
  },
  {
   "cell_type": "code",
   "execution_count": 76,
   "metadata": {},
   "outputs": [
    {
     "name": "stderr",
     "output_type": "stream",
     "text": [
      "/Users/dewilebars/anaconda3/envs/p38ds/lib/python3.8/site-packages/dask/array/numpy_compat.py:40: RuntimeWarning: invalid value encountered in true_divide\n",
      "  x = np.divide(x1, x2, out)\n",
      "/Users/dewilebars/anaconda3/envs/p38ds/lib/python3.8/site-packages/dask/array/numpy_compat.py:40: RuntimeWarning: invalid value encountered in true_divide\n",
      "  x = np.divide(x1, x2, out)\n",
      "/Users/dewilebars/anaconda3/envs/p38ds/lib/python3.8/site-packages/dask/array/numpy_compat.py:40: RuntimeWarning: invalid value encountered in true_divide\n",
      "  x = np.divide(x1, x2, out)\n",
      "/Users/dewilebars/anaconda3/envs/p38ds/lib/python3.8/site-packages/dask/array/numpy_compat.py:40: RuntimeWarning: invalid value encountered in true_divide\n",
      "  x = np.divide(x1, x2, out)\n"
     ]
    },
    {
     "name": "stdout",
     "output_type": "stream",
     "text": [
      "(3, 100000, 95)\n"
     ]
    },
    {
     "data": {
      "image/png": "[encoded data removed]",
      "text/plain": [
       "<Figure size 432x288 with 1 Axes>"
      ]
     },
     "metadata": {
      "needs_background": "light"
     },
     "output_type": "display_data"
    },
    {
     "name": "stdout",
     "output_type": "stream",
     "text": [
      "### Distribution ###\n"
     ]
    },
    {
     "data": {
      "text/html": [
       "<div>\n",
       "<style scoped>\n",
       "    .dataframe tbody tr th:only-of-type {\n",
       "        vertical-align: middle;\n",
       "    }\n",
       "\n",
       "    .dataframe tbody tr th {\n",
       "        vertical-align: top;\n",
       "    }\n",
       "\n",
       "    .dataframe thead th {\n",
       "        text-align: right;\n",
       "    }\n",
       "</style>\n",
       "<table border=\"1\" class=\"dataframe\">\n",
       "  <thead>\n",
       "    <tr style=\"text-align: right;\">\n",
       "      <th></th>\n",
       "      <th>values</th>\n",
       "    </tr>\n",
       "    <tr>\n",
       "      <th>percentiles</th>\n",
       "      <th></th>\n",
       "    </tr>\n",
       "  </thead>\n",
       "  <tbody>\n",
       "    <tr>\n",
       "      <th>1.0</th>\n",
       "      <td>18.025</td>\n",
       "    </tr>\n",
       "    <tr>\n",
       "      <th>5.0</th>\n",
       "      <td>25.925</td>\n",
       "    </tr>\n",
       "    <tr>\n",
       "      <th>10.0</th>\n",
       "      <td>30.125</td>\n",
       "    </tr>\n",
       "    <tr>\n",
       "      <th>17.0</th>\n",
       "      <td>34.025</td>\n",
       "    </tr>\n",
       "    <tr>\n",
       "      <th>20.0</th>\n",
       "      <td>35.275</td>\n",
       "    </tr>\n",
       "    <tr>\n",
       "      <th>50.0</th>\n",
       "      <td>45.125</td>\n",
       "    </tr>\n",
       "    <tr>\n",
       "      <th>80.0</th>\n",
       "      <td>55.025</td>\n",
       "    </tr>\n",
       "    <tr>\n",
       "      <th>83.0</th>\n",
       "      <td>56.325</td>\n",
       "    </tr>\n",
       "    <tr>\n",
       "      <th>90.0</th>\n",
       "      <td>60.175</td>\n",
       "    </tr>\n",
       "    <tr>\n",
       "      <th>95.0</th>\n",
       "      <td>64.325</td>\n",
       "    </tr>\n",
       "    <tr>\n",
       "      <th>99.0</th>\n",
       "      <td>72.425</td>\n",
       "    </tr>\n",
       "    <tr>\n",
       "      <th>99.5</th>\n",
       "      <td>75.225</td>\n",
       "    </tr>\n",
       "    <tr>\n",
       "      <th>99.9</th>\n",
       "      <td>81.025</td>\n",
       "    </tr>\n",
       "  </tbody>\n",
       "</table>\n",
       "</div>"
      ],
      "text/plain": [
       "             values\n",
       "percentiles        \n",
       "1.0          18.025\n",
       "5.0          25.925\n",
       "10.0         30.125\n",
       "17.0         34.025\n",
       "20.0         35.275\n",
       "50.0         45.125\n",
       "80.0         55.025\n",
       "83.0         56.325\n",
       "90.0         60.175\n",
       "95.0         64.325\n",
       "99.0         72.425\n",
       "99.5         75.225\n",
       "99.9         81.025"
      ]
     },
     "metadata": {},
     "output_type": "display_data"
    }
   ],
   "source": [
    "X_O2 = odyn.odyn_cmip('rcp85', DIR_CMIP, LOC, \n",
    "                     ref_steric, 2100, N, ys, GAM, NormD, LowPass)\n",
    "print(X_O2.shape)\n",
    "comp_plot_dist(X_O2[0,:,-1], -20.5, 200.5, 'Plot thermal expansion', SCE)"
   ]
  },
  {
   "cell_type": "markdown",
   "metadata": {},
   "source": [
    "### Test the temperature projection function"
   ]
  },
  {
   "cell_type": "code",
   "execution_count": 104,
   "metadata": {},
   "outputs": [
    {
     "data": {
      "text/plain": [
       "<module 'func_misc' from '../code/func_misc.py'>"
      ]
     },
     "execution_count": 104,
     "metadata": {},
     "output_type": "execute_result"
    }
   ],
   "source": [
    "importlib.reload(misc)"
   ]
  },
  {
   "cell_type": "code",
   "execution_count": 5,
   "metadata": {},
   "outputs": [],
   "source": [
    "def comp_plot_dist_temp(X_ens, lo, hi, title_in, SCE):\n",
    "    '''Easily compute the distribution, plot a histogram and table of percentile \n",
    "    values'''\n",
    "    nbin = 100\n",
    "    X_pdf, bins = np.histogram(X_ens, bins=nbin, range=(lo, hi), density=True)\n",
    "    bin_centers = (bins[1:] + bins[:-1])/2\n",
    "\n",
    "    plt.bar(bin_centers, X_pdf, width=1)\n",
    "    plt.ylabel('PDF')\n",
    "    plt.title(title_in + ' for '+SCE)\n",
    "    plt.show()\n",
    "    \n",
    "    Perc  = (1,5,10,17,20,50,80,83,90,95,99,99.5,99.9)\n",
    "    perc = misc.perc_df(X_pdf, Perc, bin_centers)\n",
    "    print(\"### Distribution ###\")\n",
    "    display(perc)"
   ]
  },
  {
   "cell_type": "code",
   "execution_count": 6,
   "metadata": {},
   "outputs": [
    {
     "data": {
      "image/png": "[encoded data removed]",
      "text/plain": [
       "<Figure size 432x288 with 1 Axes>"
      ]
     },
     "metadata": {
      "needs_background": "light"
     },
     "output_type": "display_data"
    },
    {
     "name": "stdout",
     "output_type": "stream",
     "text": [
      "### Distribution ###\n"
     ]
    },
    {
     "data": {
      "text/html": [
       "<div>\n",
       "<style scoped>\n",
       "    .dataframe tbody tr th:only-of-type {\n",
       "        vertical-align: middle;\n",
       "    }\n",
       "\n",
       "    .dataframe tbody tr th {\n",
       "        vertical-align: top;\n",
       "    }\n",
       "\n",
       "    .dataframe thead th {\n",
       "        text-align: right;\n",
       "    }\n",
       "</style>\n",
       "<table border=\"1\" class=\"dataframe\">\n",
       "  <thead>\n",
       "    <tr style=\"text-align: right;\">\n",
       "      <th></th>\n",
       "      <th>values</th>\n",
       "    </tr>\n",
       "    <tr>\n",
       "      <th>percentiles</th>\n",
       "      <th></th>\n",
       "    </tr>\n",
       "  </thead>\n",
       "  <tbody>\n",
       "    <tr>\n",
       "      <th>1.0</th>\n",
       "      <td>2.285</td>\n",
       "    </tr>\n",
       "    <tr>\n",
       "      <th>5.0</th>\n",
       "      <td>2.825</td>\n",
       "    </tr>\n",
       "    <tr>\n",
       "      <th>10.0</th>\n",
       "      <td>3.095</td>\n",
       "    </tr>\n",
       "    <tr>\n",
       "      <th>17.0</th>\n",
       "      <td>3.365</td>\n",
       "    </tr>\n",
       "    <tr>\n",
       "      <th>20.0</th>\n",
       "      <td>3.455</td>\n",
       "    </tr>\n",
       "    <tr>\n",
       "      <th>50.0</th>\n",
       "      <td>4.175</td>\n",
       "    </tr>\n",
       "    <tr>\n",
       "      <th>80.0</th>\n",
       "      <td>4.895</td>\n",
       "    </tr>\n",
       "    <tr>\n",
       "      <th>83.0</th>\n",
       "      <td>4.985</td>\n",
       "    </tr>\n",
       "    <tr>\n",
       "      <th>90.0</th>\n",
       "      <td>5.255</td>\n",
       "    </tr>\n",
       "    <tr>\n",
       "      <th>95.0</th>\n",
       "      <td>5.525</td>\n",
       "    </tr>\n",
       "    <tr>\n",
       "      <th>99.0</th>\n",
       "      <td>6.155</td>\n",
       "    </tr>\n",
       "    <tr>\n",
       "      <th>99.5</th>\n",
       "      <td>6.335</td>\n",
       "    </tr>\n",
       "    <tr>\n",
       "      <th>99.9</th>\n",
       "      <td>6.695</td>\n",
       "    </tr>\n",
       "  </tbody>\n",
       "</table>\n",
       "</div>"
      ],
      "text/plain": [
       "             values\n",
       "percentiles        \n",
       "1.0           2.285\n",
       "5.0           2.825\n",
       "10.0          3.095\n",
       "17.0          3.365\n",
       "20.0          3.455\n",
       "50.0          4.175\n",
       "80.0          4.895\n",
       "83.0          4.985\n",
       "90.0          5.255\n",
       "95.0          5.525\n",
       "99.0          6.155\n",
       "99.5          6.335\n",
       "99.9          6.695"
      ]
     },
     "metadata": {},
     "output_type": "display_data"
    }
   ],
   "source": [
    "LowPass = False\n",
    "SCE = 'rcp85'\n",
    "ye = 2100\n",
    "\n",
    "path = DIR_T+'global_tas_Amon_*_'+SCE+'_r1i1p1.dat'\n",
    "files  = glob.glob(path)\n",
    "\n",
    "TGLOB = misc.tglob_cmip5( files, SCE, start_date, ye , LowPass, False)\n",
    "TGLOBs = TGLOB.sel(time=slice(ys,None))\n",
    "T_gic = TGLOBs - TGLOB.sel(time=slice(1986,2005)).mean(dim='time')\n",
    "Td_gic = misc.normal_distrib(T_gic, GAM, NormD)\n",
    "comp_plot_dist_temp(Td_gic[:,-1], -1, 8, 'GMST', SCE)"
   ]
  },
  {
   "cell_type": "code",
   "execution_count": 99,
   "metadata": {},
   "outputs": [
    {
     "name": "stdout",
     "output_type": "stream",
     "text": [
      "No README file in folder\n",
      "Some years are missing for tas CAMS-CSM1-0\n",
      "[1986 1987 1988 1989 1990 1991 1992 1993 1994 1995 1996 1997 1998 1999\n",
      " 2000 2001 2002 2003 2004 2005 2006 2007 2008 2009 2010 2011 2012 2013\n",
      " 2014 2015 2016 2017 2018 2019 2020 2021 2022 2023 2024 2025 2026 2027\n",
      " 2028 2029 2030 2031 2032 2033 2034 2035 2036 2037 2038 2039 2040 2041\n",
      " 2042 2043 2044 2045 2046 2047 2048 2049 2050 2051 2052 2053 2054 2055\n",
      " 2056 2057 2058 2059 2060 2061 2062 2063 2064 2065 2066 2067 2068 2069\n",
      " 2070 2071 2072 2073 2074 2075 2076 2077 2078 2079 2080 2081 2082 2083\n",
      " 2084 2085 2086 2087 2088 2089 2090 2091 2092 2093 2094 2095 2096 2097\n",
      " 2098 2099]\n",
      "Filing up the gap by extrapolation\n"
     ]
    },
    {
     "ename": "AttributeError",
     "evalue": "'numpy.ndarray' object has no attribute 'sel'",
     "output_type": "error",
     "traceback": [
      "\u001b[0;31m---------------------------------------------------------------------------\u001b[0m",
      "\u001b[0;31mAttributeError\u001b[0m                            Traceback (most recent call last)",
      "\u001b[0;32m<ipython-input-99-c4b64e76621c>\u001b[0m in \u001b[0;36m<module>\u001b[0;34m\u001b[0m\n\u001b[1;32m      1\u001b[0m \u001b[0mTGLOB\u001b[0m \u001b[0;34m=\u001b[0m \u001b[0mmisc\u001b[0m\u001b[0;34m.\u001b[0m\u001b[0mtglob_cmip6\u001b[0m\u001b[0;34m(\u001b[0m\u001b[0mDIR_T_cmip6\u001b[0m\u001b[0;34m,\u001b[0m \u001b[0;34m'ssp585'\u001b[0m\u001b[0;34m,\u001b[0m \u001b[0mstart_date\u001b[0m\u001b[0;34m,\u001b[0m \u001b[0mye\u001b[0m\u001b[0;34m,\u001b[0m \u001b[0mLowPass\u001b[0m\u001b[0;34m,\u001b[0m \u001b[0;32mFalse\u001b[0m\u001b[0;34m)\u001b[0m\u001b[0;34m\u001b[0m\u001b[0;34m\u001b[0m\u001b[0m\n\u001b[0;32m----> 2\u001b[0;31m \u001b[0mTGLOBs\u001b[0m \u001b[0;34m=\u001b[0m \u001b[0mTGLOB\u001b[0m\u001b[0;34m.\u001b[0m\u001b[0msel\u001b[0m\u001b[0;34m(\u001b[0m\u001b[0mtime\u001b[0m\u001b[0;34m=\u001b[0m\u001b[0mslice\u001b[0m\u001b[0;34m(\u001b[0m\u001b[0mys\u001b[0m\u001b[0;34m,\u001b[0m\u001b[0;32mNone\u001b[0m\u001b[0;34m)\u001b[0m\u001b[0;34m)\u001b[0m\u001b[0;34m\u001b[0m\u001b[0;34m\u001b[0m\u001b[0m\n\u001b[0m\u001b[1;32m      3\u001b[0m \u001b[0;34m\u001b[0m\u001b[0m\n\u001b[1;32m      4\u001b[0m \u001b[0mT_gic\u001b[0m \u001b[0;34m=\u001b[0m \u001b[0mTGLOBs\u001b[0m \u001b[0;34m-\u001b[0m \u001b[0mTGLOB\u001b[0m\u001b[0;34m.\u001b[0m\u001b[0msel\u001b[0m\u001b[0;34m(\u001b[0m\u001b[0mtime\u001b[0m\u001b[0;34m=\u001b[0m\u001b[0mslice\u001b[0m\u001b[0;34m(\u001b[0m\u001b[0;36m1986\u001b[0m\u001b[0;34m,\u001b[0m\u001b[0;36m2005\u001b[0m\u001b[0;34m)\u001b[0m\u001b[0;34m)\u001b[0m\u001b[0;34m.\u001b[0m\u001b[0mmean\u001b[0m\u001b[0;34m(\u001b[0m\u001b[0mdim\u001b[0m\u001b[0;34m=\u001b[0m\u001b[0;34m'time'\u001b[0m\u001b[0;34m)\u001b[0m\u001b[0;34m\u001b[0m\u001b[0;34m\u001b[0m\u001b[0m\n\u001b[1;32m      5\u001b[0m \u001b[0mTd_gic\u001b[0m \u001b[0;34m=\u001b[0m \u001b[0mmisc\u001b[0m\u001b[0;34m.\u001b[0m\u001b[0mnormal_distrib\u001b[0m\u001b[0;34m(\u001b[0m\u001b[0mT_gic\u001b[0m\u001b[0;34m,\u001b[0m \u001b[0mGAM\u001b[0m\u001b[0;34m,\u001b[0m \u001b[0mNormD\u001b[0m\u001b[0;34m)\u001b[0m\u001b[0;34m\u001b[0m\u001b[0;34m\u001b[0m\u001b[0m\n",
      "\u001b[0;31mAttributeError\u001b[0m: 'numpy.ndarray' object has no attribute 'sel'"
     ]
    }
   ],
   "source": [
    "TGLOB = misc.tglob_cmip6(DIR_T_cmip6, 'ssp585', start_date, ye, LowPass, False)\n",
    "TGLOBs = TGLOB.sel(time=slice(ys,None))\n",
    "\n",
    "T_gic = TGLOBs - TGLOB.sel(time=slice(1986,2005)).mean(dim='time')\n",
    "Td_gic = misc.normal_distrib(T_gic, GAM, NormD)\n",
    "comp_plot_dist_temp(Td_gic[:,-1], -1, 8, 'GMST', SCE)"
   ]
  },
  {
   "cell_type": "code",
   "execution_count": 105,
   "metadata": {},
   "outputs": [
    {
     "data": {
      "image/png": "[encoded data removed]",
      "text/plain": [
       "<Figure size 432x288 with 1 Axes>"
      ]
     },
     "metadata": {
      "needs_background": "light"
     },
     "output_type": "display_data"
    },
    {
     "name": "stdout",
     "output_type": "stream",
     "text": [
      "### Distribution ###\n"
     ]
    },
    {
     "data": {
      "text/html": [
       "<div>\n",
       "<style scoped>\n",
       "    .dataframe tbody tr th:only-of-type {\n",
       "        vertical-align: middle;\n",
       "    }\n",
       "\n",
       "    .dataframe tbody tr th {\n",
       "        vertical-align: top;\n",
       "    }\n",
       "\n",
       "    .dataframe thead th {\n",
       "        text-align: right;\n",
       "    }\n",
       "</style>\n",
       "<table border=\"1\" class=\"dataframe\">\n",
       "  <thead>\n",
       "    <tr style=\"text-align: right;\">\n",
       "      <th></th>\n",
       "      <th>values</th>\n",
       "    </tr>\n",
       "    <tr>\n",
       "      <th>percentiles</th>\n",
       "      <th></th>\n",
       "    </tr>\n",
       "  </thead>\n",
       "  <tbody>\n",
       "    <tr>\n",
       "      <th>1.0</th>\n",
       "      <td>2.105</td>\n",
       "    </tr>\n",
       "    <tr>\n",
       "      <th>5.0</th>\n",
       "      <td>2.735</td>\n",
       "    </tr>\n",
       "    <tr>\n",
       "      <th>10.0</th>\n",
       "      <td>3.095</td>\n",
       "    </tr>\n",
       "    <tr>\n",
       "      <th>17.0</th>\n",
       "      <td>3.455</td>\n",
       "    </tr>\n",
       "    <tr>\n",
       "      <th>20.0</th>\n",
       "      <td>3.545</td>\n",
       "    </tr>\n",
       "    <tr>\n",
       "      <th>50.0</th>\n",
       "      <td>4.355</td>\n",
       "    </tr>\n",
       "    <tr>\n",
       "      <th>80.0</th>\n",
       "      <td>5.075</td>\n",
       "    </tr>\n",
       "    <tr>\n",
       "      <th>83.0</th>\n",
       "      <td>5.165</td>\n",
       "    </tr>\n",
       "    <tr>\n",
       "      <th>90.0</th>\n",
       "      <td>5.525</td>\n",
       "    </tr>\n",
       "    <tr>\n",
       "      <th>95.0</th>\n",
       "      <td>5.885</td>\n",
       "    </tr>\n",
       "    <tr>\n",
       "      <th>99.0</th>\n",
       "      <td>6.515</td>\n",
       "    </tr>\n",
       "    <tr>\n",
       "      <th>99.5</th>\n",
       "      <td>6.695</td>\n",
       "    </tr>\n",
       "    <tr>\n",
       "      <th>99.9</th>\n",
       "      <td>7.145</td>\n",
       "    </tr>\n",
       "  </tbody>\n",
       "</table>\n",
       "</div>"
      ],
      "text/plain": [
       "             values\n",
       "percentiles        \n",
       "1.0           2.105\n",
       "5.0           2.735\n",
       "10.0          3.095\n",
       "17.0          3.455\n",
       "20.0          3.545\n",
       "50.0          4.355\n",
       "80.0          5.075\n",
       "83.0          5.165\n",
       "90.0          5.525\n",
       "95.0          5.885\n",
       "99.0          6.515\n",
       "99.5          6.695\n",
       "99.9          7.145"
      ]
     },
     "metadata": {},
     "output_type": "display_data"
    }
   ],
   "source": [
    "TGLOB = misc.tglob_ar6('ssp585', start_date, ye)\n",
    "TGLOBs = TGLOB.sel(time=slice(ys,None))\n",
    "\n",
    "T_gic = TGLOBs - TGLOB.sel(time=slice(1986,2005)).mean(dim='time')\n",
    "Td_gic = misc.normal_distrib(T_gic, GAM, NormD)\n",
    "comp_plot_dist_temp(Td_gic[:,-1], -1, 8, 'GMST', SCE)"
   ]
  },
  {
   "cell_type": "markdown",
   "metadata": {},
   "source": [
    "AR6 provides temperature projections for ssp585 just a tiny bit higher than rcp85 in AR5"
   ]
  },
  {
   "cell_type": "markdown",
   "metadata": {},
   "source": [
    "### Test the glacier projection function"
   ]
  },
  {
   "cell_type": "code",
   "execution_count": 8,
   "metadata": {},
   "outputs": [
    {
     "data": {
      "text/plain": [
       "<module 'func_gic' from '../code/func_gic.py'>"
      ]
     },
     "execution_count": 8,
     "metadata": {},
     "output_type": "execute_result"
    }
   ],
   "source": [
    "importlib.reload(gic)"
   ]
  },
  {
   "cell_type": "code",
   "execution_count": 13,
   "metadata": {},
   "outputs": [
    {
     "data": {
      "image/png": "[encoded data removed]",
      "text/plain": [
       "<Figure size 432x288 with 1 Axes>"
      ]
     },
     "metadata": {
      "needs_background": "light"
     },
     "output_type": "display_data"
    },
    {
     "name": "stdout",
     "output_type": "stream",
     "text": [
      "### Distribution ###\n"
     ]
    },
    {
     "data": {
      "text/html": [
       "<div>\n",
       "<style scoped>\n",
       "    .dataframe tbody tr th:only-of-type {\n",
       "        vertical-align: middle;\n",
       "    }\n",
       "\n",
       "    .dataframe tbody tr th {\n",
       "        vertical-align: top;\n",
       "    }\n",
       "\n",
       "    .dataframe thead th {\n",
       "        text-align: right;\n",
       "    }\n",
       "</style>\n",
       "<table border=\"1\" class=\"dataframe\">\n",
       "  <thead>\n",
       "    <tr style=\"text-align: right;\">\n",
       "      <th></th>\n",
       "      <th>values</th>\n",
       "    </tr>\n",
       "    <tr>\n",
       "      <th>percentiles</th>\n",
       "      <th></th>\n",
       "    </tr>\n",
       "  </thead>\n",
       "  <tbody>\n",
       "    <tr>\n",
       "      <th>1.0</th>\n",
       "      <td>8.975</td>\n",
       "    </tr>\n",
       "    <tr>\n",
       "      <th>5.0</th>\n",
       "      <td>11.375</td>\n",
       "    </tr>\n",
       "    <tr>\n",
       "      <th>10.0</th>\n",
       "      <td>12.675</td>\n",
       "    </tr>\n",
       "    <tr>\n",
       "      <th>17.0</th>\n",
       "      <td>13.875</td>\n",
       "    </tr>\n",
       "    <tr>\n",
       "      <th>20.0</th>\n",
       "      <td>14.325</td>\n",
       "    </tr>\n",
       "    <tr>\n",
       "      <th>50.0</th>\n",
       "      <td>17.725</td>\n",
       "    </tr>\n",
       "    <tr>\n",
       "      <th>80.0</th>\n",
       "      <td>21.425</td>\n",
       "    </tr>\n",
       "    <tr>\n",
       "      <th>83.0</th>\n",
       "      <td>21.925</td>\n",
       "    </tr>\n",
       "    <tr>\n",
       "      <th>90.0</th>\n",
       "      <td>23.475</td>\n",
       "    </tr>\n",
       "    <tr>\n",
       "      <th>95.0</th>\n",
       "      <td>25.225</td>\n",
       "    </tr>\n",
       "    <tr>\n",
       "      <th>99.0</th>\n",
       "      <td>28.625</td>\n",
       "    </tr>\n",
       "    <tr>\n",
       "      <th>99.5</th>\n",
       "      <td>29.875</td>\n",
       "    </tr>\n",
       "    <tr>\n",
       "      <th>99.9</th>\n",
       "      <td>32.675</td>\n",
       "    </tr>\n",
       "  </tbody>\n",
       "</table>\n",
       "</div>"
      ],
      "text/plain": [
       "             values\n",
       "percentiles        \n",
       "1.0           8.975\n",
       "5.0          11.375\n",
       "10.0         12.675\n",
       "17.0         13.875\n",
       "20.0         14.325\n",
       "50.0         17.725\n",
       "80.0         21.425\n",
       "83.0         21.925\n",
       "90.0         23.475\n",
       "95.0         25.225\n",
       "99.0         28.625\n",
       "99.5         29.875\n",
       "99.9         32.675"
      ]
     },
     "metadata": {},
     "output_type": "display_data"
    }
   ],
   "source": [
    "NormDs  = np.random.normal(0, 1, N)   # This distribution is then kept for correlation\n",
    "X_gic = gic.gic(Td_gic, NormDs, 'AR5')\n",
    "comp_plot_dist(X_gic[:,-1], -20.5, 100.5, 'Glaciers and ice caps', SCE)\n"
   ]
  },
  {
   "cell_type": "code",
   "execution_count": 15,
   "metadata": {},
   "outputs": [
    {
     "data": {
      "image/png": "[encoded data removed]",
      "text/plain": [
       "<Figure size 432x288 with 1 Axes>"
      ]
     },
     "metadata": {
      "needs_background": "light"
     },
     "output_type": "display_data"
    },
    {
     "name": "stdout",
     "output_type": "stream",
     "text": [
      "### Distribution ###\n"
     ]
    },
    {
     "data": {
      "text/html": [
       "<div>\n",
       "<style scoped>\n",
       "    .dataframe tbody tr th:only-of-type {\n",
       "        vertical-align: middle;\n",
       "    }\n",
       "\n",
       "    .dataframe tbody tr th {\n",
       "        vertical-align: top;\n",
       "    }\n",
       "\n",
       "    .dataframe thead th {\n",
       "        text-align: right;\n",
       "    }\n",
       "</style>\n",
       "<table border=\"1\" class=\"dataframe\">\n",
       "  <thead>\n",
       "    <tr style=\"text-align: right;\">\n",
       "      <th></th>\n",
       "      <th>values</th>\n",
       "    </tr>\n",
       "    <tr>\n",
       "      <th>percentiles</th>\n",
       "      <th></th>\n",
       "    </tr>\n",
       "  </thead>\n",
       "  <tbody>\n",
       "    <tr>\n",
       "      <th>1.0</th>\n",
       "      <td>8.275</td>\n",
       "    </tr>\n",
       "    <tr>\n",
       "      <th>5.0</th>\n",
       "      <td>10.325</td>\n",
       "    </tr>\n",
       "    <tr>\n",
       "      <th>10.0</th>\n",
       "      <td>11.525</td>\n",
       "    </tr>\n",
       "    <tr>\n",
       "      <th>17.0</th>\n",
       "      <td>12.625</td>\n",
       "    </tr>\n",
       "    <tr>\n",
       "      <th>20.0</th>\n",
       "      <td>13.025</td>\n",
       "    </tr>\n",
       "    <tr>\n",
       "      <th>50.0</th>\n",
       "      <td>16.075</td>\n",
       "    </tr>\n",
       "    <tr>\n",
       "      <th>80.0</th>\n",
       "      <td>19.375</td>\n",
       "    </tr>\n",
       "    <tr>\n",
       "      <th>83.0</th>\n",
       "      <td>19.875</td>\n",
       "    </tr>\n",
       "    <tr>\n",
       "      <th>90.0</th>\n",
       "      <td>21.225</td>\n",
       "    </tr>\n",
       "    <tr>\n",
       "      <th>95.0</th>\n",
       "      <td>22.775</td>\n",
       "    </tr>\n",
       "    <tr>\n",
       "      <th>99.0</th>\n",
       "      <td>25.775</td>\n",
       "    </tr>\n",
       "    <tr>\n",
       "      <th>99.5</th>\n",
       "      <td>26.925</td>\n",
       "    </tr>\n",
       "    <tr>\n",
       "      <th>99.9</th>\n",
       "      <td>29.375</td>\n",
       "    </tr>\n",
       "  </tbody>\n",
       "</table>\n",
       "</div>"
      ],
      "text/plain": [
       "             values\n",
       "percentiles        \n",
       "1.0           8.275\n",
       "5.0          10.325\n",
       "10.0         11.525\n",
       "17.0         12.625\n",
       "20.0         13.025\n",
       "50.0         16.075\n",
       "80.0         19.375\n",
       "83.0         19.875\n",
       "90.0         21.225\n",
       "95.0         22.775\n",
       "99.0         25.775\n",
       "99.5         26.925\n",
       "99.9         29.375"
      ]
     },
     "metadata": {},
     "output_type": "display_data"
    }
   ],
   "source": [
    "NormDs  = np.random.normal(0, 1, N)   # This distribution is then kept for correlation\n",
    "X_gic = gic.gic_ipcc(Td_gic, NormDs, 'AR6')\n",
    "comp_plot_dist(X_gic[:,-1], -20.5, 100.5, 'Glaciers and ice caps', SCE)\n"
   ]
  },
  {
   "cell_type": "markdown",
   "metadata": {},
   "source": [
    "### Test the Greenland SMB function"
   ]
  },
  {
   "cell_type": "code",
   "execution_count": 12,
   "metadata": {},
   "outputs": [
    {
     "data": {
      "image/png": "[encoded data removed]",
      "text/plain": [
       "<Figure size 432x288 with 1 Axes>"
      ]
     },
     "metadata": {
      "needs_background": "light"
     },
     "output_type": "display_data"
    },
    {
     "name": "stdout",
     "output_type": "stream",
     "text": [
      "### Distribution ###\n"
     ]
    },
    {
     "data": {
      "text/html": [
       "<div>\n",
       "<style scoped>\n",
       "    .dataframe tbody tr th:only-of-type {\n",
       "        vertical-align: middle;\n",
       "    }\n",
       "\n",
       "    .dataframe tbody tr th {\n",
       "        vertical-align: top;\n",
       "    }\n",
       "\n",
       "    .dataframe thead th {\n",
       "        text-align: right;\n",
       "    }\n",
       "</style>\n",
       "<table border=\"1\" class=\"dataframe\">\n",
       "  <thead>\n",
       "    <tr style=\"text-align: right;\">\n",
       "      <th></th>\n",
       "      <th>values</th>\n",
       "    </tr>\n",
       "    <tr>\n",
       "      <th>percentiles</th>\n",
       "      <th></th>\n",
       "    </tr>\n",
       "  </thead>\n",
       "  <tbody>\n",
       "    <tr>\n",
       "      <th>1.0</th>\n",
       "      <td>2.625</td>\n",
       "    </tr>\n",
       "    <tr>\n",
       "      <th>5.0</th>\n",
       "      <td>3.875</td>\n",
       "    </tr>\n",
       "    <tr>\n",
       "      <th>10.0</th>\n",
       "      <td>4.725</td>\n",
       "    </tr>\n",
       "    <tr>\n",
       "      <th>17.0</th>\n",
       "      <td>5.625</td>\n",
       "    </tr>\n",
       "    <tr>\n",
       "      <th>20.0</th>\n",
       "      <td>5.925</td>\n",
       "    </tr>\n",
       "    <tr>\n",
       "      <th>50.0</th>\n",
       "      <td>9.275</td>\n",
       "    </tr>\n",
       "    <tr>\n",
       "      <th>80.0</th>\n",
       "      <td>14.275</td>\n",
       "    </tr>\n",
       "    <tr>\n",
       "      <th>83.0</th>\n",
       "      <td>15.125</td>\n",
       "    </tr>\n",
       "    <tr>\n",
       "      <th>90.0</th>\n",
       "      <td>17.825</td>\n",
       "    </tr>\n",
       "    <tr>\n",
       "      <th>95.0</th>\n",
       "      <td>21.375</td>\n",
       "    </tr>\n",
       "    <tr>\n",
       "      <th>99.0</th>\n",
       "      <td>29.775</td>\n",
       "    </tr>\n",
       "    <tr>\n",
       "      <th>99.5</th>\n",
       "      <td>33.875</td>\n",
       "    </tr>\n",
       "    <tr>\n",
       "      <th>99.9</th>\n",
       "      <td>43.575</td>\n",
       "    </tr>\n",
       "  </tbody>\n",
       "</table>\n",
       "</div>"
      ],
      "text/plain": [
       "             values\n",
       "percentiles        \n",
       "1.0           2.625\n",
       "5.0           3.875\n",
       "10.0          4.725\n",
       "17.0          5.625\n",
       "20.0          5.925\n",
       "50.0          9.275\n",
       "80.0         14.275\n",
       "83.0         15.125\n",
       "90.0         17.825\n",
       "95.0         21.375\n",
       "99.0         29.775\n",
       "99.5         33.875\n",
       "99.9         43.575"
      ]
     },
     "metadata": {},
     "output_type": "display_data"
    }
   ],
   "source": [
    "T_g = TGLOBs - TGLOB.sel(time=slice(1980,1999)).mean(dim='time')\n",
    "Td_g = misc.normal_distrib(T_g, GAM, NormD)\n",
    "\n",
    "NormDl = np.random.normal(0, 1, N)\n",
    "X_gsmb = gre.fett13(fac, Td_g, NormDl, GRE)\n",
    "comp_plot_dist(X_gsmb[:,-1], -20.5, 100.5, 'Greenland SMB', SCE)"
   ]
  },
  {
   "cell_type": "markdown",
   "metadata": {},
   "source": [
    "### Test Antarctic SMB"
   ]
  },
  {
   "cell_type": "code",
   "execution_count": 70,
   "metadata": {},
   "outputs": [
    {
     "data": {
      "image/png": "[encoded data removed]",
      "text/plain": [
       "<Figure size 432x288 with 1 Axes>"
      ]
     },
     "metadata": {
      "needs_background": "light"
     },
     "output_type": "display_data"
    },
    {
     "name": "stdout",
     "output_type": "stream",
     "text": [
      "### Distribution ###\n"
     ]
    },
    {
     "data": {
      "text/html": [
       "<div>\n",
       "<style scoped>\n",
       "    .dataframe tbody tr th:only-of-type {\n",
       "        vertical-align: middle;\n",
       "    }\n",
       "\n",
       "    .dataframe tbody tr th {\n",
       "        vertical-align: top;\n",
       "    }\n",
       "\n",
       "    .dataframe thead th {\n",
       "        text-align: right;\n",
       "    }\n",
       "</style>\n",
       "<table border=\"1\" class=\"dataframe\">\n",
       "  <thead>\n",
       "    <tr style=\"text-align: right;\">\n",
       "      <th></th>\n",
       "      <th>values</th>\n",
       "    </tr>\n",
       "    <tr>\n",
       "      <th>percentiles</th>\n",
       "      <th></th>\n",
       "    </tr>\n",
       "  </thead>\n",
       "  <tbody>\n",
       "    <tr>\n",
       "      <th>1.0</th>\n",
       "      <td>-13.0</td>\n",
       "    </tr>\n",
       "    <tr>\n",
       "      <th>5.0</th>\n",
       "      <td>-11.0</td>\n",
       "    </tr>\n",
       "    <tr>\n",
       "      <th>10.0</th>\n",
       "      <td>-9.0</td>\n",
       "    </tr>\n",
       "    <tr>\n",
       "      <th>17.0</th>\n",
       "      <td>-8.0</td>\n",
       "    </tr>\n",
       "    <tr>\n",
       "      <th>20.0</th>\n",
       "      <td>-8.0</td>\n",
       "    </tr>\n",
       "    <tr>\n",
       "      <th>50.0</th>\n",
       "      <td>-6.0</td>\n",
       "    </tr>\n",
       "    <tr>\n",
       "      <th>80.0</th>\n",
       "      <td>-4.0</td>\n",
       "    </tr>\n",
       "    <tr>\n",
       "      <th>83.0</th>\n",
       "      <td>-4.0</td>\n",
       "    </tr>\n",
       "    <tr>\n",
       "      <th>90.0</th>\n",
       "      <td>-3.0</td>\n",
       "    </tr>\n",
       "    <tr>\n",
       "      <th>95.0</th>\n",
       "      <td>-3.0</td>\n",
       "    </tr>\n",
       "    <tr>\n",
       "      <th>99.0</th>\n",
       "      <td>-2.0</td>\n",
       "    </tr>\n",
       "    <tr>\n",
       "      <th>99.5</th>\n",
       "      <td>-1.0</td>\n",
       "    </tr>\n",
       "    <tr>\n",
       "      <th>99.9</th>\n",
       "      <td>-1.0</td>\n",
       "    </tr>\n",
       "  </tbody>\n",
       "</table>\n",
       "</div>"
      ],
      "text/plain": [
       "             values\n",
       "percentiles        \n",
       "1.0           -13.0\n",
       "5.0           -11.0\n",
       "10.0           -9.0\n",
       "17.0           -8.0\n",
       "20.0           -8.0\n",
       "50.0           -6.0\n",
       "80.0           -4.0\n",
       "83.0           -4.0\n",
       "90.0           -3.0\n",
       "95.0           -3.0\n",
       "99.0           -2.0\n",
       "99.5           -1.0\n",
       "99.9           -1.0"
      ]
     },
     "metadata": {},
     "output_type": "display_data"
    }
   ],
   "source": [
    "Tref_a = misc.Tref(1985, 2005, TGLOB, TIME)   # Antarctic SMB\n",
    "Td_a = misc.TempDist(TGLOBs, Tref_a, GAM, NormD)\n",
    "NormDl = np.random.normal(0, 1, N)\n",
    "X_asmb = ant.ant_smb_ar5(NormDl, fac, Td_a)\n",
    "comp_plot_dist(X_asmb[:,-1], -20.5, 100.5, 'Antarctic SMB', SCE)"
   ]
  },
  {
   "cell_type": "markdown",
   "metadata": {},
   "source": [
    "### Test land water storage"
   ]
  },
  {
   "cell_type": "code",
   "execution_count": 21,
   "metadata": {},
   "outputs": [
    {
     "data": {
      "image/png": "[encoded data removed]",
      "text/plain": [
       "<Figure size 432x288 with 1 Axes>"
      ]
     },
     "metadata": {
      "needs_background": "light"
     },
     "output_type": "display_data"
    },
    {
     "name": "stdout",
     "output_type": "stream",
     "text": [
      "### Distribution ###\n"
     ]
    },
    {
     "data": {
      "text/html": [
       "<div>\n",
       "<style scoped>\n",
       "    .dataframe tbody tr th:only-of-type {\n",
       "        vertical-align: middle;\n",
       "    }\n",
       "\n",
       "    .dataframe tbody tr th {\n",
       "        vertical-align: top;\n",
       "    }\n",
       "\n",
       "    .dataframe thead th {\n",
       "        text-align: right;\n",
       "    }\n",
       "</style>\n",
       "<table border=\"1\" class=\"dataframe\">\n",
       "  <thead>\n",
       "    <tr style=\"text-align: right;\">\n",
       "      <th></th>\n",
       "      <th>values</th>\n",
       "    </tr>\n",
       "    <tr>\n",
       "      <th>percentiles</th>\n",
       "      <th></th>\n",
       "    </tr>\n",
       "  </thead>\n",
       "  <tbody>\n",
       "    <tr>\n",
       "      <th>1.0</th>\n",
       "      <td>-2.075</td>\n",
       "    </tr>\n",
       "    <tr>\n",
       "      <th>5.0</th>\n",
       "      <td>-0.025</td>\n",
       "    </tr>\n",
       "    <tr>\n",
       "      <th>10.0</th>\n",
       "      <td>1.075</td>\n",
       "    </tr>\n",
       "    <tr>\n",
       "      <th>17.0</th>\n",
       "      <td>2.075</td>\n",
       "    </tr>\n",
       "    <tr>\n",
       "      <th>20.0</th>\n",
       "      <td>2.425</td>\n",
       "    </tr>\n",
       "    <tr>\n",
       "      <th>50.0</th>\n",
       "      <td>4.975</td>\n",
       "    </tr>\n",
       "    <tr>\n",
       "      <th>80.0</th>\n",
       "      <td>7.525</td>\n",
       "    </tr>\n",
       "    <tr>\n",
       "      <th>83.0</th>\n",
       "      <td>7.875</td>\n",
       "    </tr>\n",
       "    <tr>\n",
       "      <th>90.0</th>\n",
       "      <td>8.825</td>\n",
       "    </tr>\n",
       "    <tr>\n",
       "      <th>95.0</th>\n",
       "      <td>9.925</td>\n",
       "    </tr>\n",
       "    <tr>\n",
       "      <th>99.0</th>\n",
       "      <td>12.025</td>\n",
       "    </tr>\n",
       "    <tr>\n",
       "      <th>99.5</th>\n",
       "      <td>12.775</td>\n",
       "    </tr>\n",
       "    <tr>\n",
       "      <th>99.9</th>\n",
       "      <td>14.275</td>\n",
       "    </tr>\n",
       "  </tbody>\n",
       "</table>\n",
       "</div>"
      ],
      "text/plain": [
       "             values\n",
       "percentiles        \n",
       "1.0          -2.075\n",
       "5.0          -0.025\n",
       "10.0          1.075\n",
       "17.0          2.075\n",
       "20.0          2.425\n",
       "50.0          4.975\n",
       "80.0          7.525\n",
       "83.0          7.875\n",
       "90.0          8.825\n",
       "95.0          9.925\n",
       "99.0         12.025\n",
       "99.5         12.775\n",
       "99.9         14.275"
      ]
     },
     "metadata": {},
     "output_type": "display_data"
    }
   ],
   "source": [
    "X_landw = misc.landw_ar5(ys, TIME2, N)\n",
    "comp_plot_dist(X_landw[:,-1], -20.5, 100.5, 'Land water changes', SCE)"
   ]
  },
  {
   "cell_type": "markdown",
   "metadata": {},
   "source": [
    "### Test Antarctic dynamics"
   ]
  },
  {
   "cell_type": "markdown",
   "metadata": {},
   "source": [
    "### AR5"
   ]
  },
  {
   "cell_type": "code",
   "execution_count": 72,
   "metadata": {},
   "outputs": [
    {
     "data": {
      "image/png": "[encoded data removed]",
      "text/plain": [
       "<Figure size 432x288 with 1 Axes>"
      ]
     },
     "metadata": {
      "needs_background": "light"
     },
     "output_type": "display_data"
    },
    {
     "name": "stdout",
     "output_type": "stream",
     "text": [
      "### Distribution ###\n"
     ]
    },
    {
     "data": {
      "text/html": [
       "<div>\n",
       "<style scoped>\n",
       "    .dataframe tbody tr th:only-of-type {\n",
       "        vertical-align: middle;\n",
       "    }\n",
       "\n",
       "    .dataframe tbody tr th {\n",
       "        vertical-align: top;\n",
       "    }\n",
       "\n",
       "    .dataframe thead th {\n",
       "        text-align: right;\n",
       "    }\n",
       "</style>\n",
       "<table border=\"1\" class=\"dataframe\">\n",
       "  <thead>\n",
       "    <tr style=\"text-align: right;\">\n",
       "      <th></th>\n",
       "      <th>values</th>\n",
       "    </tr>\n",
       "    <tr>\n",
       "      <th>percentiles</th>\n",
       "      <th></th>\n",
       "    </tr>\n",
       "  </thead>\n",
       "  <tbody>\n",
       "    <tr>\n",
       "      <th>1.0</th>\n",
       "      <td>-20.0</td>\n",
       "    </tr>\n",
       "    <tr>\n",
       "      <th>5.0</th>\n",
       "      <td>-1.0</td>\n",
       "    </tr>\n",
       "    <tr>\n",
       "      <th>10.0</th>\n",
       "      <td>0.0</td>\n",
       "    </tr>\n",
       "    <tr>\n",
       "      <th>17.0</th>\n",
       "      <td>1.0</td>\n",
       "    </tr>\n",
       "    <tr>\n",
       "      <th>20.0</th>\n",
       "      <td>2.0</td>\n",
       "    </tr>\n",
       "    <tr>\n",
       "      <th>50.0</th>\n",
       "      <td>8.0</td>\n",
       "    </tr>\n",
       "    <tr>\n",
       "      <th>80.0</th>\n",
       "      <td>14.0</td>\n",
       "    </tr>\n",
       "    <tr>\n",
       "      <th>83.0</th>\n",
       "      <td>14.0</td>\n",
       "    </tr>\n",
       "    <tr>\n",
       "      <th>90.0</th>\n",
       "      <td>16.0</td>\n",
       "    </tr>\n",
       "    <tr>\n",
       "      <th>95.0</th>\n",
       "      <td>17.0</td>\n",
       "    </tr>\n",
       "    <tr>\n",
       "      <th>99.0</th>\n",
       "      <td>18.0</td>\n",
       "    </tr>\n",
       "    <tr>\n",
       "      <th>99.5</th>\n",
       "      <td>18.0</td>\n",
       "    </tr>\n",
       "    <tr>\n",
       "      <th>99.9</th>\n",
       "      <td>18.0</td>\n",
       "    </tr>\n",
       "  </tbody>\n",
       "</table>\n",
       "</div>"
      ],
      "text/plain": [
       "             values\n",
       "percentiles        \n",
       "1.0           -20.0\n",
       "5.0            -1.0\n",
       "10.0            0.0\n",
       "17.0            1.0\n",
       "20.0            2.0\n",
       "50.0            8.0\n",
       "80.0           14.0\n",
       "83.0           14.0\n",
       "90.0           16.0\n",
       "95.0           17.0\n",
       "99.0           18.0\n",
       "99.5           18.0\n",
       "99.9           18.0"
      ]
     },
     "metadata": {},
     "output_type": "display_data"
    }
   ],
   "source": [
    "Unif_AA   = np.random.uniform(0, 1, N)\n",
    "#### 2nd order projection starting from observations and ending between -2 and 18.5 cm\n",
    "X_ant = misc.proj2order(TIME2, a1_up_a, a1_lo_a, 18.5, -2, Unif_AA)\n",
    "comp_plot_dist(X_ant[:,-1], -20.5, 100.5, 'Antarctic dynamics', SCE)"
   ]
  },
  {
   "cell_type": "markdown",
   "metadata": {},
   "source": [
    "### SROCC"
   ]
  },
  {
   "cell_type": "code",
   "execution_count": 9,
   "metadata": {},
   "outputs": [
    {
     "data": {
      "image/png": "[encoded data removed]",
      "text/plain": [
       "<Figure size 432x288 with 1 Axes>"
      ]
     },
     "metadata": {
      "needs_background": "light"
     },
     "output_type": "display_data"
    },
    {
     "name": "stdout",
     "output_type": "stream",
     "text": [
      "### Distribution ###\n"
     ]
    },
    {
     "data": {
      "text/html": [
       "<div>\n",
       "<style scoped>\n",
       "    .dataframe tbody tr th:only-of-type {\n",
       "        vertical-align: middle;\n",
       "    }\n",
       "\n",
       "    .dataframe tbody tr th {\n",
       "        vertical-align: top;\n",
       "    }\n",
       "\n",
       "    .dataframe thead th {\n",
       "        text-align: right;\n",
       "    }\n",
       "</style>\n",
       "<table border=\"1\" class=\"dataframe\">\n",
       "  <thead>\n",
       "    <tr style=\"text-align: right;\">\n",
       "      <th></th>\n",
       "      <th>values</th>\n",
       "    </tr>\n",
       "    <tr>\n",
       "      <th>percentiles</th>\n",
       "      <th></th>\n",
       "    </tr>\n",
       "  </thead>\n",
       "  <tbody>\n",
       "    <tr>\n",
       "      <th>1.0</th>\n",
       "      <td>-15.0</td>\n",
       "    </tr>\n",
       "    <tr>\n",
       "      <th>5.0</th>\n",
       "      <td>-7.0</td>\n",
       "    </tr>\n",
       "    <tr>\n",
       "      <th>10.0</th>\n",
       "      <td>-2.0</td>\n",
       "    </tr>\n",
       "    <tr>\n",
       "      <th>17.0</th>\n",
       "      <td>2.0</td>\n",
       "    </tr>\n",
       "    <tr>\n",
       "      <th>20.0</th>\n",
       "      <td>4.0</td>\n",
       "    </tr>\n",
       "    <tr>\n",
       "      <th>50.0</th>\n",
       "      <td>16.0</td>\n",
       "    </tr>\n",
       "    <tr>\n",
       "      <th>80.0</th>\n",
       "      <td>27.0</td>\n",
       "    </tr>\n",
       "    <tr>\n",
       "      <th>83.0</th>\n",
       "      <td>29.0</td>\n",
       "    </tr>\n",
       "    <tr>\n",
       "      <th>90.0</th>\n",
       "      <td>33.0</td>\n",
       "    </tr>\n",
       "    <tr>\n",
       "      <th>95.0</th>\n",
       "      <td>38.0</td>\n",
       "    </tr>\n",
       "    <tr>\n",
       "      <th>99.0</th>\n",
       "      <td>48.0</td>\n",
       "    </tr>\n",
       "    <tr>\n",
       "      <th>99.5</th>\n",
       "      <td>52.0</td>\n",
       "    </tr>\n",
       "    <tr>\n",
       "      <th>99.9</th>\n",
       "      <td>59.0</td>\n",
       "    </tr>\n",
       "  </tbody>\n",
       "</table>\n",
       "</div>"
      ],
      "text/plain": [
       "             values\n",
       "percentiles        \n",
       "1.0           -15.0\n",
       "5.0            -7.0\n",
       "10.0           -2.0\n",
       "17.0            2.0\n",
       "20.0            4.0\n",
       "50.0           16.0\n",
       "80.0           27.0\n",
       "83.0           29.0\n",
       "90.0           33.0\n",
       "95.0           38.0\n",
       "99.0           48.0\n",
       "99.5           52.0\n",
       "99.9           59.0"
      ]
     },
     "metadata": {},
     "output_type": "display_data"
    }
   ],
   "source": [
    "X_ant = ant.ant_dyn_srocc(SCE, a1_up_a, a1_lo_a, TIME2, N)\n",
    "comp_plot_dist(X_ant[:,-1], -20.5, 100.5, 'Antarctic dynamics', SCE)"
   ]
  },
  {
   "cell_type": "markdown",
   "metadata": {},
   "source": [
    "### AR6"
   ]
  },
  {
   "cell_type": "code",
   "execution_count": 25,
   "metadata": {},
   "outputs": [
    {
     "data": {
      "image/png": "[encoded data removed]",
      "text/plain": [
       "<Figure size 432x288 with 1 Axes>"
      ]
     },
     "metadata": {
      "needs_background": "light"
     },
     "output_type": "display_data"
    },
    {
     "name": "stdout",
     "output_type": "stream",
     "text": [
      "### Distribution ###\n"
     ]
    },
    {
     "data": {
      "text/html": [
       "<div>\n",
       "<style scoped>\n",
       "    .dataframe tbody tr th:only-of-type {\n",
       "        vertical-align: middle;\n",
       "    }\n",
       "\n",
       "    .dataframe tbody tr th {\n",
       "        vertical-align: top;\n",
       "    }\n",
       "\n",
       "    .dataframe thead th {\n",
       "        text-align: right;\n",
       "    }\n",
       "</style>\n",
       "<table border=\"1\" class=\"dataframe\">\n",
       "  <thead>\n",
       "    <tr style=\"text-align: right;\">\n",
       "      <th></th>\n",
       "      <th>values</th>\n",
       "    </tr>\n",
       "    <tr>\n",
       "      <th>percentiles</th>\n",
       "      <th></th>\n",
       "    </tr>\n",
       "  </thead>\n",
       "  <tbody>\n",
       "    <tr>\n",
       "      <th>1.0</th>\n",
       "      <td>-16.675</td>\n",
       "    </tr>\n",
       "    <tr>\n",
       "      <th>5.0</th>\n",
       "      <td>-6.825</td>\n",
       "    </tr>\n",
       "    <tr>\n",
       "      <th>10.0</th>\n",
       "      <td>-1.325</td>\n",
       "    </tr>\n",
       "    <tr>\n",
       "      <th>17.0</th>\n",
       "      <td>3.725</td>\n",
       "    </tr>\n",
       "    <tr>\n",
       "      <th>20.0</th>\n",
       "      <td>5.475</td>\n",
       "    </tr>\n",
       "    <tr>\n",
       "      <th>50.0</th>\n",
       "      <td>18.475</td>\n",
       "    </tr>\n",
       "    <tr>\n",
       "      <th>80.0</th>\n",
       "      <td>31.475</td>\n",
       "    </tr>\n",
       "    <tr>\n",
       "      <th>83.0</th>\n",
       "      <td>33.225</td>\n",
       "    </tr>\n",
       "    <tr>\n",
       "      <th>90.0</th>\n",
       "      <td>38.325</td>\n",
       "    </tr>\n",
       "    <tr>\n",
       "      <th>95.0</th>\n",
       "      <td>43.825</td>\n",
       "    </tr>\n",
       "    <tr>\n",
       "      <th>99.0</th>\n",
       "      <td>54.625</td>\n",
       "    </tr>\n",
       "    <tr>\n",
       "      <th>99.5</th>\n",
       "      <td>58.225</td>\n",
       "    </tr>\n",
       "    <tr>\n",
       "      <th>99.9</th>\n",
       "      <td>65.775</td>\n",
       "    </tr>\n",
       "  </tbody>\n",
       "</table>\n",
       "</div>"
      ],
      "text/plain": [
       "             values\n",
       "percentiles        \n",
       "1.0         -16.675\n",
       "5.0          -6.825\n",
       "10.0         -1.325\n",
       "17.0          3.725\n",
       "20.0          5.475\n",
       "50.0         18.475\n",
       "80.0         31.475\n",
       "83.0         33.225\n",
       "90.0         38.325\n",
       "95.0         43.825\n",
       "99.0         54.625\n",
       "99.5         58.225\n",
       "99.9         65.775"
      ]
     },
     "metadata": {},
     "output_type": "display_data"
    }
   ],
   "source": [
    "SCE = 'ssp585'\n",
    "X_ant = ant.ant_ar6(TIME2, a1_up_a, a1_lo_a, SCE, NormD)\n",
    "comp_plot_dist(X_ant[:,-1], -30.5, 100.5, 'Total antarctica', SCE)"
   ]
  },
  {
   "cell_type": "code",
   "execution_count": 24,
   "metadata": {},
   "outputs": [
    {
     "data": {
      "text/plain": [
       "array([2006, 2007, 2008, 2009, 2010, 2011, 2012, 2013, 2014, 2015, 2016,\n",
       "       2017, 2018, 2019, 2020, 2021, 2022, 2023, 2024, 2025, 2026, 2027,\n",
       "       2028, 2029, 2030, 2031, 2032, 2033, 2034, 2035, 2036, 2037, 2038,\n",
       "       2039, 2040, 2041, 2042, 2043, 2044, 2045, 2046, 2047, 2048, 2049,\n",
       "       2050, 2051, 2052, 2053, 2054, 2055, 2056, 2057, 2058, 2059, 2060,\n",
       "       2061, 2062, 2063, 2064, 2065, 2066, 2067, 2068, 2069, 2070, 2071,\n",
       "       2072, 2073, 2074, 2075, 2076, 2077, 2078, 2079, 2080, 2081, 2082,\n",
       "       2083, 2084, 2085, 2086, 2087, 2088, 2089, 2090, 2091, 2092, 2093,\n",
       "       2094, 2095, 2096, 2097, 2098, 2099, 2100])"
      ]
     },
     "execution_count": 24,
     "metadata": {},
     "output_type": "execute_result"
    }
   ],
   "source": [
    "TIME2"
   ]
  },
  {
   "cell_type": "markdown",
   "metadata": {},
   "source": [
    "### Test Greenland dynamics"
   ]
  },
  {
   "cell_type": "code",
   "execution_count": 73,
   "metadata": {},
   "outputs": [
    {
     "data": {
      "image/png": "[encoded data removed]",
      "text/plain": [
       "<Figure size 432x288 with 1 Axes>"
      ]
     },
     "metadata": {
      "needs_background": "light"
     },
     "output_type": "display_data"
    },
    {
     "name": "stdout",
     "output_type": "stream",
     "text": [
      "### Distribution ###\n"
     ]
    },
    {
     "data": {
      "text/html": [
       "<div>\n",
       "<style scoped>\n",
       "    .dataframe tbody tr th:only-of-type {\n",
       "        vertical-align: middle;\n",
       "    }\n",
       "\n",
       "    .dataframe tbody tr th {\n",
       "        vertical-align: top;\n",
       "    }\n",
       "\n",
       "    .dataframe thead th {\n",
       "        text-align: right;\n",
       "    }\n",
       "</style>\n",
       "<table border=\"1\" class=\"dataframe\">\n",
       "  <thead>\n",
       "    <tr style=\"text-align: right;\">\n",
       "      <th></th>\n",
       "      <th>values</th>\n",
       "    </tr>\n",
       "    <tr>\n",
       "      <th>percentiles</th>\n",
       "      <th></th>\n",
       "    </tr>\n",
       "  </thead>\n",
       "  <tbody>\n",
       "    <tr>\n",
       "      <th>1.0</th>\n",
       "      <td>-20.0</td>\n",
       "    </tr>\n",
       "    <tr>\n",
       "      <th>5.0</th>\n",
       "      <td>-20.0</td>\n",
       "    </tr>\n",
       "    <tr>\n",
       "      <th>10.0</th>\n",
       "      <td>-20.0</td>\n",
       "    </tr>\n",
       "    <tr>\n",
       "      <th>17.0</th>\n",
       "      <td>-20.0</td>\n",
       "    </tr>\n",
       "    <tr>\n",
       "      <th>20.0</th>\n",
       "      <td>-20.0</td>\n",
       "    </tr>\n",
       "    <tr>\n",
       "      <th>50.0</th>\n",
       "      <td>-20.0</td>\n",
       "    </tr>\n",
       "    <tr>\n",
       "      <th>80.0</th>\n",
       "      <td>0.0</td>\n",
       "    </tr>\n",
       "    <tr>\n",
       "      <th>83.0</th>\n",
       "      <td>0.0</td>\n",
       "    </tr>\n",
       "    <tr>\n",
       "      <th>90.0</th>\n",
       "      <td>0.0</td>\n",
       "    </tr>\n",
       "    <tr>\n",
       "      <th>95.0</th>\n",
       "      <td>0.0</td>\n",
       "    </tr>\n",
       "    <tr>\n",
       "      <th>99.0</th>\n",
       "      <td>0.0</td>\n",
       "    </tr>\n",
       "    <tr>\n",
       "      <th>99.5</th>\n",
       "      <td>0.0</td>\n",
       "    </tr>\n",
       "    <tr>\n",
       "      <th>99.9</th>\n",
       "      <td>0.0</td>\n",
       "    </tr>\n",
       "  </tbody>\n",
       "</table>\n",
       "</div>"
      ],
      "text/plain": [
       "             values\n",
       "percentiles        \n",
       "1.0           -20.0\n",
       "5.0           -20.0\n",
       "10.0          -20.0\n",
       "17.0          -20.0\n",
       "20.0          -20.0\n",
       "50.0          -20.0\n",
       "80.0            0.0\n",
       "83.0            0.0\n",
       "90.0            0.0\n",
       "95.0            0.0\n",
       "99.0            0.0\n",
       "99.5            0.0\n",
       "99.9            0.0"
      ]
     },
     "metadata": {},
     "output_type": "display_data"
    },
    {
     "data": {
      "text/plain": [
       "array([0., 0., 0., 0., 0., 0., 0., 0., 0., 0., 0., 0., 0., 0., 0., 0., 0.,\n",
       "       0., 0., 0., 1., 0., 0., 0., 0., 0., 0., 0., 0., 0., 0., 0., 0., 0.,\n",
       "       0., 0., 0., 0., 0., 0., 0., 0., 0., 0., 0., 0., 0., 0., 0., 0., 0.,\n",
       "       0., 0., 0., 0., 0., 0., 0., 0., 0., 0., 0., 0., 0., 0., 0., 0., 0.,\n",
       "       0., 0., 0., 0., 0., 0., 0., 0., 0., 0., 0., 0., 0., 0., 0., 0., 0.,\n",
       "       0., 0., 0., 0., 0., 0., 0., 0., 0., 0., 0., 0., 0., 0., 0., 0., 0.,\n",
       "       0., 0., 0., 0., 0., 0., 0., 0., 0., 0., 0., 0., 0., 0., 0., 0., 0.,\n",
       "       0., 0.])"
      ]
     },
     "execution_count": 73,
     "metadata": {},
     "output_type": "execute_result"
    }
   ],
   "source": [
    "# First order term (cm/y), equal to half of observations in 2006\n",
    "a1_up_gdyn        = 0.5 * a1_up_g\n",
    "a1_lo_gdyn        = 0.5 * a1_lo_g\n",
    "UnifDd = np.random.uniform(0, 1, N)  # Sample a new independent distribution\n",
    "\n",
    "if GRE == 'KNMI14':\n",
    "    X_gre  = misc.proj2order(TIME2, a1_up_gdyn, a1_lo_gdyn, 7.4, 1.7, UnifDd)\n",
    "elif GRE == 'IPCC':\n",
    "    if SCE in ['rcp26', 'rcp45']:\n",
    "        Delta_gre_up_2100 = 6.3\n",
    "        Delta_gre_lo_2100 = 1.4\n",
    "    elif SCE == 'rcp85':\n",
    "        Delta_gre_up_2100 = 8.5\n",
    "        Delta_gre_lo_2100 = 2\n",
    "    X_gre  = misc.proj2order(TIME2, a1_up_gdyn, a1_lo_gdyn, Delta_gre_up_2100, \n",
    "                        Delta_gre_lo_2100, UnifDd)\n",
    "comp_plot_dist(X_gre[:,10], -20.5, 100.5, 'Greenland dynamics', SCE)\n",
    "\n",
    "lo = -20.5\n",
    "hi = 100.5\n",
    "nbin = int(hi - lo) \n",
    "X_gre_pdf, bins = np.histogram(X_gre[:,10], bins=nbin, range=(lo, hi), density=True)\n",
    "X_gre_pdf"
   ]
  },
  {
   "cell_type": "markdown",
   "metadata": {},
   "source": [
    "### Test antarctic dynamics from KNMI14 projections "
   ]
  },
  {
   "cell_type": "code",
   "execution_count": 74,
   "metadata": {},
   "outputs": [
    {
     "name": "stderr",
     "output_type": "stream",
     "text": [
      "../code/func_ant.py:65: RuntimeWarning: divide by zero encountered in log\n",
      "  sig_ant  = 1/alpha_98*np.log((Delta_ant_up_KNMI-Delta_ant_lo)/Diff)\n"
     ]
    },
    {
     "data": {
      "image/png": "[encoded data removed]",
      "text/plain": [
       "<Figure size 432x288 with 1 Axes>"
      ]
     },
     "metadata": {
      "needs_background": "light"
     },
     "output_type": "display_data"
    },
    {
     "name": "stdout",
     "output_type": "stream",
     "text": [
      "### Distribution ###\n"
     ]
    },
    {
     "data": {
      "text/html": [
       "<div>\n",
       "<style scoped>\n",
       "    .dataframe tbody tr th:only-of-type {\n",
       "        vertical-align: middle;\n",
       "    }\n",
       "\n",
       "    .dataframe tbody tr th {\n",
       "        vertical-align: top;\n",
       "    }\n",
       "\n",
       "    .dataframe thead th {\n",
       "        text-align: right;\n",
       "    }\n",
       "</style>\n",
       "<table border=\"1\" class=\"dataframe\">\n",
       "  <thead>\n",
       "    <tr style=\"text-align: right;\">\n",
       "      <th></th>\n",
       "      <th>values</th>\n",
       "    </tr>\n",
       "    <tr>\n",
       "      <th>percentiles</th>\n",
       "      <th></th>\n",
       "    </tr>\n",
       "  </thead>\n",
       "  <tbody>\n",
       "    <tr>\n",
       "      <th>1.0</th>\n",
       "      <td>0.0</td>\n",
       "    </tr>\n",
       "    <tr>\n",
       "      <th>5.0</th>\n",
       "      <td>1.0</td>\n",
       "    </tr>\n",
       "    <tr>\n",
       "      <th>10.0</th>\n",
       "      <td>3.0</td>\n",
       "    </tr>\n",
       "    <tr>\n",
       "      <th>17.0</th>\n",
       "      <td>4.0</td>\n",
       "    </tr>\n",
       "    <tr>\n",
       "      <th>20.0</th>\n",
       "      <td>4.0</td>\n",
       "    </tr>\n",
       "    <tr>\n",
       "      <th>50.0</th>\n",
       "      <td>10.0</td>\n",
       "    </tr>\n",
       "    <tr>\n",
       "      <th>80.0</th>\n",
       "      <td>18.0</td>\n",
       "    </tr>\n",
       "    <tr>\n",
       "      <th>83.0</th>\n",
       "      <td>19.0</td>\n",
       "    </tr>\n",
       "    <tr>\n",
       "      <th>90.0</th>\n",
       "      <td>24.0</td>\n",
       "    </tr>\n",
       "    <tr>\n",
       "      <th>95.0</th>\n",
       "      <td>31.0</td>\n",
       "    </tr>\n",
       "    <tr>\n",
       "      <th>99.0</th>\n",
       "      <td>47.0</td>\n",
       "    </tr>\n",
       "    <tr>\n",
       "      <th>99.5</th>\n",
       "      <td>55.0</td>\n",
       "    </tr>\n",
       "    <tr>\n",
       "      <th>99.9</th>\n",
       "      <td>73.0</td>\n",
       "    </tr>\n",
       "  </tbody>\n",
       "</table>\n",
       "</div>"
      ],
      "text/plain": [
       "             values\n",
       "percentiles        \n",
       "1.0             0.0\n",
       "5.0             1.0\n",
       "10.0            3.0\n",
       "17.0            4.0\n",
       "20.0            4.0\n",
       "50.0           10.0\n",
       "80.0           18.0\n",
       "83.0           19.0\n",
       "90.0           24.0\n",
       "95.0           31.0\n",
       "99.0           47.0\n",
       "99.5           55.0\n",
       "99.9           73.0"
      ]
     },
     "metadata": {},
     "output_type": "display_data"
    }
   ],
   "source": [
    "X_ant_KNMI14 = ant.ant_dyn_knmi14(SCE, a1_up_a, a1_lo_a, ys, ye, TIME2, N)\n",
    "comp_plot_dist(X_ant_KNMI14[:,-1], -20.5, 100.5, 'Antarctic dynamics KNMI14', \n",
    "               SCE)\n"
   ]
  },
  {
   "cell_type": "markdown",
   "metadata": {},
   "source": [
    "### Tables of global results"
   ]
  },
  {
   "cell_type": "code",
   "execution_count": 75,
   "metadata": {},
   "outputs": [
    {
     "data": {
      "text/html": [
       "<div>\n",
       "<style scoped>\n",
       "    .dataframe tbody tr th:only-of-type {\n",
       "        vertical-align: middle;\n",
       "    }\n",
       "\n",
       "    .dataframe tbody tr th {\n",
       "        vertical-align: top;\n",
       "    }\n",
       "\n",
       "    .dataframe thead th {\n",
       "        text-align: right;\n",
       "    }\n",
       "</style>\n",
       "<table border=\"1\" class=\"dataframe\">\n",
       "  <thead>\n",
       "    <tr style=\"text-align: right;\">\n",
       "      <th></th>\n",
       "      <th>A1B med</th>\n",
       "      <th>A1B 5th</th>\n",
       "      <th>A1B 95th</th>\n",
       "      <th>RCP2.6 med</th>\n",
       "      <th>RCP2.6 5th</th>\n",
       "      <th>RCP2.6 95th</th>\n",
       "      <th>RCP4.5 med</th>\n",
       "      <th>RCP4.5 5th</th>\n",
       "      <th>RCP4.5 95th</th>\n",
       "      <th>RCP6.0 med</th>\n",
       "      <th>RCP6.0 5th</th>\n",
       "      <th>RCP6.0 95th</th>\n",
       "      <th>RCP8.5 med</th>\n",
       "      <th>RCP8.5 5th</th>\n",
       "      <th>RCP8.5 95th</th>\n",
       "    </tr>\n",
       "    <tr>\n",
       "      <th>Processes</th>\n",
       "      <th></th>\n",
       "      <th></th>\n",
       "      <th></th>\n",
       "      <th></th>\n",
       "      <th></th>\n",
       "      <th></th>\n",
       "      <th></th>\n",
       "      <th></th>\n",
       "      <th></th>\n",
       "      <th></th>\n",
       "      <th></th>\n",
       "      <th></th>\n",
       "      <th></th>\n",
       "      <th></th>\n",
       "      <th></th>\n",
       "    </tr>\n",
       "  </thead>\n",
       "  <tbody>\n",
       "    <tr>\n",
       "      <th>Thermal expansion</th>\n",
       "      <td>0.24</td>\n",
       "      <td>0.18</td>\n",
       "      <td>0.30</td>\n",
       "      <td>0.15</td>\n",
       "      <td>0.11</td>\n",
       "      <td>0.20</td>\n",
       "      <td>0.20</td>\n",
       "      <td>0.15</td>\n",
       "      <td>0.25</td>\n",
       "      <td>0.22</td>\n",
       "      <td>0.17</td>\n",
       "      <td>0.27</td>\n",
       "      <td>0.32</td>\n",
       "      <td>0.25</td>\n",
       "      <td>0.39</td>\n",
       "    </tr>\n",
       "    <tr>\n",
       "      <th>Glaciers</th>\n",
       "      <td>0.16</td>\n",
       "      <td>0.09</td>\n",
       "      <td>0.23</td>\n",
       "      <td>0.11</td>\n",
       "      <td>0.05</td>\n",
       "      <td>0.17</td>\n",
       "      <td>0.13</td>\n",
       "      <td>0.07</td>\n",
       "      <td>0.20</td>\n",
       "      <td>0.14</td>\n",
       "      <td>0.07</td>\n",
       "      <td>0.20</td>\n",
       "      <td>0.18</td>\n",
       "      <td>0.10</td>\n",
       "      <td>0.26</td>\n",
       "    </tr>\n",
       "    <tr>\n",
       "      <th>Greenland Ice Sheet SMB</th>\n",
       "      <td>0.07</td>\n",
       "      <td>0.03</td>\n",
       "      <td>0.15</td>\n",
       "      <td>0.03</td>\n",
       "      <td>0.01</td>\n",
       "      <td>0.08</td>\n",
       "      <td>0.05</td>\n",
       "      <td>0.02</td>\n",
       "      <td>0.11</td>\n",
       "      <td>0.05</td>\n",
       "      <td>0.02</td>\n",
       "      <td>0.12</td>\n",
       "      <td>0.10</td>\n",
       "      <td>0.04</td>\n",
       "      <td>0.22</td>\n",
       "    </tr>\n",
       "    <tr>\n",
       "      <th>Antarctic Ice Sheet SMB</th>\n",
       "      <td>–0.04</td>\n",
       "      <td>–0.07</td>\n",
       "      <td>–0.01</td>\n",
       "      <td>–0.02</td>\n",
       "      <td>–0.05</td>\n",
       "      <td>–0.00</td>\n",
       "      <td>–0.03</td>\n",
       "      <td>–0.06</td>\n",
       "      <td>–0.01</td>\n",
       "      <td>–0.03</td>\n",
       "      <td>–0.06</td>\n",
       "      <td>–0.01</td>\n",
       "      <td>–0.05</td>\n",
       "      <td>–0.09</td>\n",
       "      <td>–0.02</td>\n",
       "    </tr>\n",
       "    <tr>\n",
       "      <th>Greenland Ice Sheet Rapid Dynamics</th>\n",
       "      <td>0.04</td>\n",
       "      <td>0.01</td>\n",
       "      <td>0.06</td>\n",
       "      <td>0.04</td>\n",
       "      <td>0.01</td>\n",
       "      <td>0.06</td>\n",
       "      <td>0.04</td>\n",
       "      <td>0.01</td>\n",
       "      <td>0.06</td>\n",
       "      <td>0.04</td>\n",
       "      <td>0.01</td>\n",
       "      <td>0.06</td>\n",
       "      <td>0.05</td>\n",
       "      <td>0.02</td>\n",
       "      <td>0.09</td>\n",
       "    </tr>\n",
       "    <tr>\n",
       "      <th>Antarctic Ice Sheet Rapid Dynamics</th>\n",
       "      <td>0.08</td>\n",
       "      <td>–0.02</td>\n",
       "      <td>0.19</td>\n",
       "      <td>0.08</td>\n",
       "      <td>–0.02</td>\n",
       "      <td>0.19</td>\n",
       "      <td>0.08</td>\n",
       "      <td>–0.02</td>\n",
       "      <td>0.19</td>\n",
       "      <td>0.08</td>\n",
       "      <td>–0.02</td>\n",
       "      <td>0.19</td>\n",
       "      <td>0.08</td>\n",
       "      <td>–0.02</td>\n",
       "      <td>0.19</td>\n",
       "    </tr>\n",
       "    <tr>\n",
       "      <th>Land Water Storage</th>\n",
       "      <td>0.05</td>\n",
       "      <td>–0.01</td>\n",
       "      <td>0.11</td>\n",
       "      <td>0.05</td>\n",
       "      <td>–0.01</td>\n",
       "      <td>0.11</td>\n",
       "      <td>0.05</td>\n",
       "      <td>–0.01</td>\n",
       "      <td>0.11</td>\n",
       "      <td>0.05</td>\n",
       "      <td>–0.01</td>\n",
       "      <td>0.11</td>\n",
       "      <td>0.05</td>\n",
       "      <td>–0.01</td>\n",
       "      <td>0.11</td>\n",
       "    </tr>\n",
       "    <tr>\n",
       "      <th>Sea Level Rise</th>\n",
       "      <td>0.60</td>\n",
       "      <td>0.42</td>\n",
       "      <td>0.80</td>\n",
       "      <td>0.44</td>\n",
       "      <td>0.28</td>\n",
       "      <td>0.61</td>\n",
       "      <td>0.53</td>\n",
       "      <td>0.36</td>\n",
       "      <td>0.71</td>\n",
       "      <td>0.55</td>\n",
       "      <td>0.38</td>\n",
       "      <td>0.73</td>\n",
       "      <td>0.74</td>\n",
       "      <td>0.52</td>\n",
       "      <td>0.98</td>\n",
       "    </tr>\n",
       "    <tr>\n",
       "      <th>Greenland Ice Sheet</th>\n",
       "      <td>0.11</td>\n",
       "      <td>0.07</td>\n",
       "      <td>0.19</td>\n",
       "      <td>0.08</td>\n",
       "      <td>0.04</td>\n",
       "      <td>0.12</td>\n",
       "      <td>0.09</td>\n",
       "      <td>0.05</td>\n",
       "      <td>0.16</td>\n",
       "      <td>0.09</td>\n",
       "      <td>0.06</td>\n",
       "      <td>0.16</td>\n",
       "      <td>0.15</td>\n",
       "      <td>0.09</td>\n",
       "      <td>0.28</td>\n",
       "    </tr>\n",
       "    <tr>\n",
       "      <th>Antarctic Ice Sheet</th>\n",
       "      <td>0.05</td>\n",
       "      <td>–0.06</td>\n",
       "      <td>0.15</td>\n",
       "      <td>0.06</td>\n",
       "      <td>–0.04</td>\n",
       "      <td>0.16</td>\n",
       "      <td>0.05</td>\n",
       "      <td>–0.05</td>\n",
       "      <td>0.15</td>\n",
       "      <td>0.05</td>\n",
       "      <td>–0.05</td>\n",
       "      <td>0.15</td>\n",
       "      <td>0.04</td>\n",
       "      <td>–0.08</td>\n",
       "      <td>0.14</td>\n",
       "    </tr>\n",
       "    <tr>\n",
       "      <th>Ice-Sheet Rapid Dynamics</th>\n",
       "      <td>0.12</td>\n",
       "      <td>0.03</td>\n",
       "      <td>0.22</td>\n",
       "      <td>0.12</td>\n",
       "      <td>0.03</td>\n",
       "      <td>0.22</td>\n",
       "      <td>0.12</td>\n",
       "      <td>0.03</td>\n",
       "      <td>0.22</td>\n",
       "      <td>0.12</td>\n",
       "      <td>0.03</td>\n",
       "      <td>0.22</td>\n",
       "      <td>0.14</td>\n",
       "      <td>0.04</td>\n",
       "      <td>0.24</td>\n",
       "    </tr>\n",
       "  </tbody>\n",
       "</table>\n",
       "</div>"
      ],
      "text/plain": [
       "                                   A1B med A1B 5th A1B 95th RCP2.6 med  \\\n",
       "Processes                                                                \n",
       "Thermal expansion                     0.24    0.18     0.30       0.15   \n",
       "Glaciers                              0.16    0.09     0.23       0.11   \n",
       "Greenland Ice Sheet SMB               0.07    0.03     0.15       0.03   \n",
       "Antarctic Ice Sheet SMB              –0.04   –0.07    –0.01      –0.02   \n",
       "Greenland Ice Sheet Rapid Dynamics    0.04    0.01     0.06       0.04   \n",
       "Antarctic Ice Sheet Rapid Dynamics    0.08   –0.02     0.19       0.08   \n",
       "Land Water Storage                    0.05   –0.01     0.11       0.05   \n",
       "Sea Level Rise                        0.60    0.42     0.80       0.44   \n",
       "Greenland Ice Sheet                   0.11    0.07     0.19       0.08   \n",
       "Antarctic Ice Sheet                   0.05   –0.06     0.15       0.06   \n",
       "Ice-Sheet Rapid Dynamics              0.12    0.03     0.22       0.12   \n",
       "\n",
       "                                   RCP2.6 5th RCP2.6 95th RCP4.5 med  \\\n",
       "Processes                                                              \n",
       "Thermal expansion                        0.11        0.20       0.20   \n",
       "Glaciers                                 0.05        0.17       0.13   \n",
       "Greenland Ice Sheet SMB                  0.01        0.08       0.05   \n",
       "Antarctic Ice Sheet SMB                 –0.05       –0.00      –0.03   \n",
       "Greenland Ice Sheet Rapid Dynamics       0.01        0.06       0.04   \n",
       "Antarctic Ice Sheet Rapid Dynamics      –0.02        0.19       0.08   \n",
       "Land Water Storage                      –0.01        0.11       0.05   \n",
       "Sea Level Rise                           0.28        0.61       0.53   \n",
       "Greenland Ice Sheet                      0.04        0.12       0.09   \n",
       "Antarctic Ice Sheet                     –0.04        0.16       0.05   \n",
       "Ice-Sheet Rapid Dynamics                 0.03        0.22       0.12   \n",
       "\n",
       "                                   RCP4.5 5th RCP4.5 95th RCP6.0 med  \\\n",
       "Processes                                                              \n",
       "Thermal expansion                        0.15        0.25       0.22   \n",
       "Glaciers                                 0.07        0.20       0.14   \n",
       "Greenland Ice Sheet SMB                  0.02        0.11       0.05   \n",
       "Antarctic Ice Sheet SMB                 –0.06       –0.01      –0.03   \n",
       "Greenland Ice Sheet Rapid Dynamics       0.01        0.06       0.04   \n",
       "Antarctic Ice Sheet Rapid Dynamics      –0.02        0.19       0.08   \n",
       "Land Water Storage                      –0.01        0.11       0.05   \n",
       "Sea Level Rise                           0.36        0.71       0.55   \n",
       "Greenland Ice Sheet                      0.05        0.16       0.09   \n",
       "Antarctic Ice Sheet                     –0.05        0.15       0.05   \n",
       "Ice-Sheet Rapid Dynamics                 0.03        0.22       0.12   \n",
       "\n",
       "                                   RCP6.0 5th RCP6.0 95th RCP8.5 med  \\\n",
       "Processes                                                              \n",
       "Thermal expansion                        0.17        0.27       0.32   \n",
       "Glaciers                                 0.07        0.20       0.18   \n",
       "Greenland Ice Sheet SMB                  0.02        0.12       0.10   \n",
       "Antarctic Ice Sheet SMB                 –0.06       –0.01      –0.05   \n",
       "Greenland Ice Sheet Rapid Dynamics       0.01        0.06       0.05   \n",
       "Antarctic Ice Sheet Rapid Dynamics      –0.02        0.19       0.08   \n",
       "Land Water Storage                      –0.01        0.11       0.05   \n",
       "Sea Level Rise                           0.38        0.73       0.74   \n",
       "Greenland Ice Sheet                      0.06        0.16       0.15   \n",
       "Antarctic Ice Sheet                     –0.05        0.15       0.04   \n",
       "Ice-Sheet Rapid Dynamics                 0.03        0.22       0.14   \n",
       "\n",
       "                                   RCP8.5 5th RCP8.5 95th  \n",
       "Processes                                                  \n",
       "Thermal expansion                        0.25        0.39  \n",
       "Glaciers                                 0.10        0.26  \n",
       "Greenland Ice Sheet SMB                  0.04        0.22  \n",
       "Antarctic Ice Sheet SMB                 –0.09       –0.02  \n",
       "Greenland Ice Sheet Rapid Dynamics       0.02        0.09  \n",
       "Antarctic Ice Sheet Rapid Dynamics      –0.02        0.19  \n",
       "Land Water Storage                      –0.01        0.11  \n",
       "Sea Level Rise                           0.52        0.98  \n",
       "Greenland Ice Sheet                      0.09        0.28  \n",
       "Antarctic Ice Sheet                     –0.08        0.14  \n",
       "Ice-Sheet Rapid Dynamics                 0.04        0.24  "
      ]
     },
     "execution_count": 75,
     "metadata": {},
     "output_type": "execute_result"
    }
   ],
   "source": [
    "AR5_df = pd.read_csv('../ref_results/SLR_AR5_2100', sep=';', comment='#') # , header=1\n",
    "AR5_df = AR5_df.set_index('Processes')\n",
    "AR5_df\n"
   ]
  },
  {
   "cell_type": "markdown",
   "metadata": {},
   "source": [
    "### Test Bamber et al. 2019 functions"
   ]
  },
  {
   "cell_type": "code",
   "execution_count": 76,
   "metadata": {},
   "outputs": [
    {
     "data": {
      "text/plain": [
       "<module 'func_B19' from '../code/func_B19.py'>"
      ]
     },
     "execution_count": 76,
     "metadata": {},
     "output_type": "execute_result"
    }
   ],
   "source": [
    "importlib.reload(b19)"
   ]
  },
  {
   "cell_type": "code",
   "execution_count": 77,
   "metadata": {},
   "outputs": [
    {
     "data": {
      "text/plain": [
       "array([[[[ 0.9585524 ,  0.77373971],\n",
       "         [ 0.79219789,  1.265177  ]],\n",
       "\n",
       "        [[ 2.        ,  5.        ],\n",
       "         [ 3.        ,  0.        ]],\n",
       "\n",
       "        [[ 5.02844808, 17.99010175],\n",
       "         [ 7.14703945, 26.44528395]]],\n",
       "\n",
       "\n",
       "       [[[ 1.19811757,  0.64641699],\n",
       "         [ 0.9684769 ,  0.66677909]],\n",
       "\n",
       "        [[ 0.        ,  1.        ],\n",
       "         [ 0.        ,  1.        ]],\n",
       "\n",
       "        [[ 4.40567565, 18.87865761],\n",
       "         [ 5.9365423 , 40.12039764]]],\n",
       "\n",
       "\n",
       "       [[[ 2.16853964,  0.15616428],\n",
       "         [ 1.48937135,  0.23388903]],\n",
       "\n",
       "        [[-3.        ,  1.        ],\n",
       "         [-4.        ,  1.        ]],\n",
       "\n",
       "        [[ 1.38448557, 12.90129197],\n",
       "         [ 2.86618874, 26.96745124]]]])"
      ]
     },
     "execution_count": 77,
     "metadata": {},
     "output_type": "execute_result"
    }
   ],
   "source": [
    "path = '../../BamberDataDistribution/parameters_mean_std_opt.csv'\n",
    "PAR_ar = b19.ReadB19(path)\n",
    "PAR_ar"
   ]
  },
  {
   "cell_type": "code",
   "execution_count": 78,
   "metadata": {},
   "outputs": [
    {
     "data": {
      "image/png": "[encoded data removed]",
      "text/plain": [
       "<Figure size 432x288 with 1 Axes>"
      ]
     },
     "metadata": {
      "needs_background": "light"
     },
     "output_type": "display_data"
    }
   ],
   "source": [
    "# Bamber et al. 2019 temperature pathways\n",
    "t0 = 2000\n",
    "t1 = 2050\n",
    "t2 = 2100\n",
    "\n",
    "# First order interpolation along temperature integral\n",
    "# Define the temperature functions for the low and high scenarios\n",
    "T0 = 0.8     # Should be floats, integers lead to problem in the computations\n",
    "Tl50 = 1.5\n",
    "Tl100 = 2.\n",
    "Th50 = 2.\n",
    "Th100 = 5.\n",
    "\n",
    "Tl = b19.TempF(T0, Tl50, Tl100, t0, t1, t2)\n",
    "Th = b19.TempF(T0, Th50, Th100, t0, t1, t2)\n",
    "\n",
    "### Plot\n",
    "t = np.arange(t0, t2+1)\n",
    "\n",
    "fig, ax = plt.subplots()\n",
    "ax.plot(t, Tl)\n",
    "ax.plot(t, Th)\n",
    "\n",
    "ax.set(xlabel='time (year)', ylabel='Temperature (ºC)',\n",
    "       title='B19 scenarios')\n",
    "ax.grid()"
   ]
  },
  {
   "cell_type": "code",
   "execution_count": 79,
   "metadata": {},
   "outputs": [
    {
     "name": "stdout",
     "output_type": "stream",
     "text": [
      "Warning: The shape parameter was set to 0.001 605 times out of 200000 samples to avoid negative values\n"
     ]
    },
    {
     "data": {
      "image/png": "[encoded data removed]",
      "text/plain": [
       "<Figure size 432x288 with 1 Axes>"
      ]
     },
     "metadata": {
      "needs_background": "light"
     },
     "output_type": "display_data"
    },
    {
     "name": "stdout",
     "output_type": "stream",
     "text": [
      "### Distribution ###\n"
     ]
    },
    {
     "data": {
      "text/html": [
       "<div>\n",
       "<style scoped>\n",
       "    .dataframe tbody tr th:only-of-type {\n",
       "        vertical-align: middle;\n",
       "    }\n",
       "\n",
       "    .dataframe tbody tr th {\n",
       "        vertical-align: top;\n",
       "    }\n",
       "\n",
       "    .dataframe thead th {\n",
       "        text-align: right;\n",
       "    }\n",
       "</style>\n",
       "<table border=\"1\" class=\"dataframe\">\n",
       "  <thead>\n",
       "    <tr style=\"text-align: right;\">\n",
       "      <th></th>\n",
       "      <th>values</th>\n",
       "    </tr>\n",
       "    <tr>\n",
       "      <th>percentiles</th>\n",
       "      <th></th>\n",
       "    </tr>\n",
       "  </thead>\n",
       "  <tbody>\n",
       "    <tr>\n",
       "      <th>1.0</th>\n",
       "      <td>1.0</td>\n",
       "    </tr>\n",
       "    <tr>\n",
       "      <th>5.0</th>\n",
       "      <td>4.0</td>\n",
       "    </tr>\n",
       "    <tr>\n",
       "      <th>10.0</th>\n",
       "      <td>6.0</td>\n",
       "    </tr>\n",
       "    <tr>\n",
       "      <th>17.0</th>\n",
       "      <td>8.0</td>\n",
       "    </tr>\n",
       "    <tr>\n",
       "      <th>20.0</th>\n",
       "      <td>8.0</td>\n",
       "    </tr>\n",
       "    <tr>\n",
       "      <th>50.0</th>\n",
       "      <td>17.0</td>\n",
       "    </tr>\n",
       "    <tr>\n",
       "      <th>80.0</th>\n",
       "      <td>43.0</td>\n",
       "    </tr>\n",
       "    <tr>\n",
       "      <th>83.0</th>\n",
       "      <td>47.0</td>\n",
       "    </tr>\n",
       "    <tr>\n",
       "      <th>90.0</th>\n",
       "      <td>64.0</td>\n",
       "    </tr>\n",
       "    <tr>\n",
       "      <th>95.0</th>\n",
       "      <td>86.0</td>\n",
       "    </tr>\n",
       "    <tr>\n",
       "      <th>99.0</th>\n",
       "      <td>140.0</td>\n",
       "    </tr>\n",
       "    <tr>\n",
       "      <th>99.5</th>\n",
       "      <td>163.0</td>\n",
       "    </tr>\n",
       "    <tr>\n",
       "      <th>99.9</th>\n",
       "      <td>226.0</td>\n",
       "    </tr>\n",
       "  </tbody>\n",
       "</table>\n",
       "</div>"
      ],
      "text/plain": [
       "             values\n",
       "percentiles        \n",
       "1.0             1.0\n",
       "5.0             4.0\n",
       "10.0            6.0\n",
       "17.0            8.0\n",
       "20.0            8.0\n",
       "50.0           17.0\n",
       "80.0           43.0\n",
       "83.0           47.0\n",
       "90.0           64.0\n",
       "95.0           86.0\n",
       "99.0          140.0\n",
       "99.5          163.0\n",
       "99.9          226.0"
      ]
     },
     "metadata": {},
     "output_type": "display_data"
    }
   ],
   "source": [
    "# Greenland\n",
    "GAM = 1.64\n",
    "Tref_b   = misc.Tref(2000, 2000, TGLOB, TIME)\n",
    "Td_b = misc.TempDist(TGLOBs, Tref_b, GAM, NormD)\n",
    "\n",
    "UnifP_GIS = np.random.uniform(0, 1, N)\n",
    "\n",
    "X_gsmb = b19.Bamber19('GIS', UnifP_GIS, [a1_lo_g, a1_up_g], ys, Td_b)\n",
    "X_gsmb = X_gsmb + 0.3    # Contribution between 1995 and 2005 in mm\n",
    "\n",
    "comp_plot_dist(X_gsmb[:,-1], -20.5, 350.5, 'Total Greenland B19', \n",
    "               SCE)\n",
    "# !!! The above computation is sensitive to the right end of the \n",
    "#histogram computation"
   ]
  },
  {
   "cell_type": "code",
   "execution_count": 80,
   "metadata": {},
   "outputs": [
    {
     "name": "stdout",
     "output_type": "stream",
     "text": [
      "Warning: The shape parameter was set to 0.001 26 times out of 200000 samples to avoid negative values\n",
      "Warning: The shape parameter was set to 0.001 862 times out of 200000 samples to avoid negative values\n"
     ]
    },
    {
     "data": {
      "image/png": "[encoded data removed]",
      "text/plain": [
       "<Figure size 432x288 with 1 Axes>"
      ]
     },
     "metadata": {
      "needs_background": "light"
     },
     "output_type": "display_data"
    },
    {
     "name": "stdout",
     "output_type": "stream",
     "text": [
      "### Distribution ###\n"
     ]
    },
    {
     "data": {
      "text/html": [
       "<div>\n",
       "<style scoped>\n",
       "    .dataframe tbody tr th:only-of-type {\n",
       "        vertical-align: middle;\n",
       "    }\n",
       "\n",
       "    .dataframe tbody tr th {\n",
       "        vertical-align: top;\n",
       "    }\n",
       "\n",
       "    .dataframe thead th {\n",
       "        text-align: right;\n",
       "    }\n",
       "</style>\n",
       "<table border=\"1\" class=\"dataframe\">\n",
       "  <thead>\n",
       "    <tr style=\"text-align: right;\">\n",
       "      <th></th>\n",
       "      <th>values</th>\n",
       "    </tr>\n",
       "    <tr>\n",
       "      <th>percentiles</th>\n",
       "      <th></th>\n",
       "    </tr>\n",
       "  </thead>\n",
       "  <tbody>\n",
       "    <tr>\n",
       "      <th>1.0</th>\n",
       "      <td>-69.0</td>\n",
       "    </tr>\n",
       "    <tr>\n",
       "      <th>5.0</th>\n",
       "      <td>-41.0</td>\n",
       "    </tr>\n",
       "    <tr>\n",
       "      <th>10.0</th>\n",
       "      <td>-28.0</td>\n",
       "    </tr>\n",
       "    <tr>\n",
       "      <th>17.0</th>\n",
       "      <td>-18.0</td>\n",
       "    </tr>\n",
       "    <tr>\n",
       "      <th>20.0</th>\n",
       "      <td>-16.0</td>\n",
       "    </tr>\n",
       "    <tr>\n",
       "      <th>50.0</th>\n",
       "      <td>-2.0</td>\n",
       "    </tr>\n",
       "    <tr>\n",
       "      <th>80.0</th>\n",
       "      <td>5.0</td>\n",
       "    </tr>\n",
       "    <tr>\n",
       "      <th>83.0</th>\n",
       "      <td>6.0</td>\n",
       "    </tr>\n",
       "    <tr>\n",
       "      <th>90.0</th>\n",
       "      <td>10.0</td>\n",
       "    </tr>\n",
       "    <tr>\n",
       "      <th>95.0</th>\n",
       "      <td>15.0</td>\n",
       "    </tr>\n",
       "    <tr>\n",
       "      <th>99.0</th>\n",
       "      <td>27.0</td>\n",
       "    </tr>\n",
       "    <tr>\n",
       "      <th>99.5</th>\n",
       "      <td>32.0</td>\n",
       "    </tr>\n",
       "    <tr>\n",
       "      <th>99.9</th>\n",
       "      <td>46.0</td>\n",
       "    </tr>\n",
       "  </tbody>\n",
       "</table>\n",
       "</div>"
      ],
      "text/plain": [
       "             values\n",
       "percentiles        \n",
       "1.0           -69.0\n",
       "5.0           -41.0\n",
       "10.0          -28.0\n",
       "17.0          -18.0\n",
       "20.0          -16.0\n",
       "50.0           -2.0\n",
       "80.0            5.0\n",
       "83.0            6.0\n",
       "90.0           10.0\n",
       "95.0           15.0\n",
       "99.0           27.0\n",
       "99.5           32.0\n",
       "99.9           46.0"
      ]
     },
     "metadata": {},
     "output_type": "display_data"
    }
   ],
   "source": [
    "# Antarctica\n",
    "UnifP_WAIS = np.random.uniform(0, 1, N)\n",
    "UnifP_EAIS = np.random.uniform(0, 1, N)\n",
    "\n",
    "X_ant_wais = b19.Bamber19(\"WAIS\", UnifP_WAIS, [a1_lo_a, a1_up_a], ys, Td_b)\n",
    "X_ant_eais = b19.Bamber19(\"EAIS\", UnifP_EAIS, [0, 0], ys, Td_b)\n",
    "X_ant = X_ant_wais + X_ant_eais    # Contribution between 1995 and 2005 in mm\n",
    "\n",
    "comp_plot_dist(X_ant[:,50], -100.5, 350.5, 'Total Atarctica B19', \n",
    "               SCE)"
   ]
  },
  {
   "cell_type": "code",
   "execution_count": 81,
   "metadata": {},
   "outputs": [
    {
     "data": {
      "image/png": "[encoded data removed]",
      "text/plain": [
       "<Figure size 432x288 with 1 Axes>"
      ]
     },
     "metadata": {
      "needs_background": "light"
     },
     "output_type": "display_data"
    },
    {
     "name": "stdout",
     "output_type": "stream",
     "text": [
      "### Distribution ###\n"
     ]
    },
    {
     "data": {
      "text/html": [
       "<div>\n",
       "<style scoped>\n",
       "    .dataframe tbody tr th:only-of-type {\n",
       "        vertical-align: middle;\n",
       "    }\n",
       "\n",
       "    .dataframe tbody tr th {\n",
       "        vertical-align: top;\n",
       "    }\n",
       "\n",
       "    .dataframe thead th {\n",
       "        text-align: right;\n",
       "    }\n",
       "</style>\n",
       "<table border=\"1\" class=\"dataframe\">\n",
       "  <thead>\n",
       "    <tr style=\"text-align: right;\">\n",
       "      <th></th>\n",
       "      <th>values</th>\n",
       "    </tr>\n",
       "    <tr>\n",
       "      <th>percentiles</th>\n",
       "      <th></th>\n",
       "    </tr>\n",
       "  </thead>\n",
       "  <tbody>\n",
       "    <tr>\n",
       "      <th>1.0</th>\n",
       "      <td>-14.0</td>\n",
       "    </tr>\n",
       "    <tr>\n",
       "      <th>5.0</th>\n",
       "      <td>-7.0</td>\n",
       "    </tr>\n",
       "    <tr>\n",
       "      <th>10.0</th>\n",
       "      <td>-3.0</td>\n",
       "    </tr>\n",
       "    <tr>\n",
       "      <th>17.0</th>\n",
       "      <td>-1.0</td>\n",
       "    </tr>\n",
       "    <tr>\n",
       "      <th>20.0</th>\n",
       "      <td>-1.0</td>\n",
       "    </tr>\n",
       "    <tr>\n",
       "      <th>50.0</th>\n",
       "      <td>1.0</td>\n",
       "    </tr>\n",
       "    <tr>\n",
       "      <th>80.0</th>\n",
       "      <td>6.0</td>\n",
       "    </tr>\n",
       "    <tr>\n",
       "      <th>83.0</th>\n",
       "      <td>7.0</td>\n",
       "    </tr>\n",
       "    <tr>\n",
       "      <th>90.0</th>\n",
       "      <td>10.0</td>\n",
       "    </tr>\n",
       "    <tr>\n",
       "      <th>95.0</th>\n",
       "      <td>14.0</td>\n",
       "    </tr>\n",
       "    <tr>\n",
       "      <th>99.0</th>\n",
       "      <td>26.0</td>\n",
       "    </tr>\n",
       "    <tr>\n",
       "      <th>99.5</th>\n",
       "      <td>31.0</td>\n",
       "    </tr>\n",
       "    <tr>\n",
       "      <th>99.9</th>\n",
       "      <td>44.0</td>\n",
       "    </tr>\n",
       "  </tbody>\n",
       "</table>\n",
       "</div>"
      ],
      "text/plain": [
       "             values\n",
       "percentiles        \n",
       "1.0           -14.0\n",
       "5.0            -7.0\n",
       "10.0           -3.0\n",
       "17.0           -1.0\n",
       "20.0           -1.0\n",
       "50.0            1.0\n",
       "80.0            6.0\n",
       "83.0            7.0\n",
       "90.0           10.0\n",
       "95.0           14.0\n",
       "99.0           26.0\n",
       "99.5           31.0\n",
       "99.9           44.0"
      ]
     },
     "metadata": {},
     "output_type": "display_data"
    }
   ],
   "source": [
    "comp_plot_dist(X_ant_wais[:,50], -20.5, 350.5, 'WAIS B19', \n",
    "               SCE)"
   ]
  },
  {
   "cell_type": "code",
   "execution_count": 82,
   "metadata": {},
   "outputs": [
    {
     "data": {
      "image/png": "[encoded data removed]",
      "text/plain": [
       "<Figure size 432x288 with 1 Axes>"
      ]
     },
     "metadata": {
      "needs_background": "light"
     },
     "output_type": "display_data"
    },
    {
     "name": "stdout",
     "output_type": "stream",
     "text": [
      "### Distribution ###\n"
     ]
    },
    {
     "data": {
      "text/html": [
       "<div>\n",
       "<style scoped>\n",
       "    .dataframe tbody tr th:only-of-type {\n",
       "        vertical-align: middle;\n",
       "    }\n",
       "\n",
       "    .dataframe tbody tr th {\n",
       "        vertical-align: top;\n",
       "    }\n",
       "\n",
       "    .dataframe thead th {\n",
       "        text-align: right;\n",
       "    }\n",
       "</style>\n",
       "<table border=\"1\" class=\"dataframe\">\n",
       "  <thead>\n",
       "    <tr style=\"text-align: right;\">\n",
       "      <th></th>\n",
       "      <th>values</th>\n",
       "    </tr>\n",
       "    <tr>\n",
       "      <th>percentiles</th>\n",
       "      <th></th>\n",
       "    </tr>\n",
       "  </thead>\n",
       "  <tbody>\n",
       "    <tr>\n",
       "      <th>1.0</th>\n",
       "      <td>0.0</td>\n",
       "    </tr>\n",
       "    <tr>\n",
       "      <th>5.0</th>\n",
       "      <td>0.0</td>\n",
       "    </tr>\n",
       "    <tr>\n",
       "      <th>10.0</th>\n",
       "      <td>0.0</td>\n",
       "    </tr>\n",
       "    <tr>\n",
       "      <th>17.0</th>\n",
       "      <td>0.0</td>\n",
       "    </tr>\n",
       "    <tr>\n",
       "      <th>20.0</th>\n",
       "      <td>0.0</td>\n",
       "    </tr>\n",
       "    <tr>\n",
       "      <th>50.0</th>\n",
       "      <td>1.0</td>\n",
       "    </tr>\n",
       "    <tr>\n",
       "      <th>80.0</th>\n",
       "      <td>6.0</td>\n",
       "    </tr>\n",
       "    <tr>\n",
       "      <th>83.0</th>\n",
       "      <td>7.0</td>\n",
       "    </tr>\n",
       "    <tr>\n",
       "      <th>90.0</th>\n",
       "      <td>14.0</td>\n",
       "    </tr>\n",
       "    <tr>\n",
       "      <th>95.0</th>\n",
       "      <td>25.0</td>\n",
       "    </tr>\n",
       "    <tr>\n",
       "      <th>99.0</th>\n",
       "      <td>60.0</td>\n",
       "    </tr>\n",
       "    <tr>\n",
       "      <th>99.5</th>\n",
       "      <td>79.0</td>\n",
       "    </tr>\n",
       "    <tr>\n",
       "      <th>99.9</th>\n",
       "      <td>124.0</td>\n",
       "    </tr>\n",
       "  </tbody>\n",
       "</table>\n",
       "</div>"
      ],
      "text/plain": [
       "             values\n",
       "percentiles        \n",
       "1.0             0.0\n",
       "5.0             0.0\n",
       "10.0            0.0\n",
       "17.0            0.0\n",
       "20.0            0.0\n",
       "50.0            1.0\n",
       "80.0            6.0\n",
       "83.0            7.0\n",
       "90.0           14.0\n",
       "95.0           25.0\n",
       "99.0           60.0\n",
       "99.5           79.0\n",
       "99.9          124.0"
      ]
     },
     "metadata": {},
     "output_type": "display_data"
    }
   ],
   "source": [
    "comp_plot_dist(X_ant_eais[:,-1], -20.5, 250.5, 'EAIS B19', \n",
    "               SCE)"
   ]
  },
  {
   "cell_type": "code",
   "execution_count": null,
   "metadata": {},
   "outputs": [],
   "source": []
  }
 ],
 "metadata": {
  "kernelspec": {
   "display_name": "Python [conda env:p38ds] *",
   "language": "python",
   "name": "conda-env-p38ds-py"
  },
  "language_info": {
   "codemirror_mode": {
    "name": "ipython",
    "version": 3
   },
   "file_extension": ".py",
   "mimetype": "text/x-python",
   "name": "python",
   "nbconvert_exporter": "python",
   "pygments_lexer": "ipython3",
   "version": "3.8.5"
  }
 },
 "nbformat": 4,
 "nbformat_minor": 4
}
