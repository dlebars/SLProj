{
 "cells": [
  {
   "cell_type": "markdown",
   "metadata": {},
   "source": [
    "## Test individual sea level contributors"
   ]
  },
  {
   "cell_type": "code",
   "execution_count": 26,
   "metadata": {},
   "outputs": [],
   "source": [
    "import glob\n",
    "import sys\n",
    "sys.path.append('../code')\n",
    "\n",
    "import numpy as np\n",
    "import matplotlib.pyplot as plt\n",
    "import importlib\n",
    "import pandas as pd\n",
    "import xarray as xr\n",
    "from IPython.display import display\n",
    "\n",
    "import func_odyn as odyn\n",
    "import func_misc as misc\n",
    "import func_gic as gic\n",
    "import func_gre as gre\n",
    "import func_ant as ant\n",
    "import func_B19 as b19\n",
    "\n",
    "# Interactive plots\n",
    "#%matplotlib widget\n",
    "# Static plots\n",
    "%matplotlib inline"
   ]
  },
  {
   "cell_type": "code",
   "execution_count": 39,
   "metadata": {},
   "outputs": [
    {
     "data": {
      "text/plain": [
       "<module 'func_ant' from '../code/func_ant.py'>"
      ]
     },
     "execution_count": 39,
     "metadata": {},
     "output_type": "execute_result"
    }
   ],
   "source": [
    "importlib.reload(odyn)\n",
    "importlib.reload(misc)\n",
    "importlib.reload(ant)\n"
   ]
  },
  {
   "cell_type": "code",
   "execution_count": 28,
   "metadata": {},
   "outputs": [],
   "source": [
    "SCE = 'rcp85'\n",
    "ROOT = '/Users/dewilebars/Projects/Project_ProbSLR/Data_Proj/'\n",
    "DIR_T = ROOT+'Data_AR5/Tglobal/'\n",
    "DIR_T_cmip6 = f'{ROOT}Data_CMIP6/tas-global-averaged_20200429/'\n",
    "#DIR_T_cmip6 = f'{ROOT}Data_CMIP6/tas-global-area-averaged/'\n",
    "DIR_IPCC = ROOT+'Data_AR5/Final_Projections/'\n",
    "DIR_O       = ROOT + 'Data_AR5/Ocean/1x1_reg/'\n",
    "DIR_OG      = ROOT + 'Data_AR5/Ocean/globalmeans_from_1x1_glob/'\n",
    "\n",
    "N = int(1e5)\n",
    "start_date = 1980    # Start reading data\n",
    "ys = 2006   # Starting point for the integration, if this is changed problems in functions\n",
    "ye = 2100   # End year for computation\n",
    "nb_y = ye-start_date+1       # Period where data needs to be read\n",
    "nb_y2 = ye - ys +1           # Period of integration of the model\n",
    "TIME       = np.arange( start_date, ye + 1 )\n",
    "TIME2      = np.arange( ys, ye + 1, 1 )\n",
    "GAM = 1\n",
    "GRE = 'KNMI14'\n",
    "NormD  = np.random.normal(0, 1, N)\n",
    "Aoc = 3.6704e14              # Ocean Area (m2)\n",
    "rho_w = 1e3                  # Water density (kg.m-3)\n",
    "fac = -1e12 / (Aoc * rho_w)  # Convert Giga tones to m sea level\n",
    "MOD = [\"ACCESS1-0\",\"BCC-CSM1-1\",\"CanESM2\",\"CNRM-CM5\",\"CSIRO-Mk3-6-0\",\"GFDL-ESM2G\", \\\n",
    "    \"GFDL-ESM2M\",\"GISS-E2-R\",\"HadGEM2-CC\",\"HadGEM2-ES\",\"inmcm4\",\"IPSL-CM5A-LR\", \\\n",
    "    \"IPSL-CM5A-MR\",\"MIROC5\",\"MIROC-ESM-CHEM\",\"MIROC-ESM\",\"MPI-ESM-LR\",\"MPI-ESM-MR\", \\\n",
    "    \"MRI-CGCM3\",\"NorESM1-ME\",\"NorESM1-M\"]\n",
    "i_ys   = np.where(TIME == ys)[0][0]\n",
    "\n",
    "#### Specific parameters\n",
    "## Initial Antarctic dynamics contribution\n",
    "a1_up_a           = 0.061    # Unit is cm/y, equal to observations in 2006\n",
    "a1_lo_a           = 0.021\n",
    "## Initial Greenland dynamics contribution\n",
    "a1_up_g           = 0.076    # Unit is cm/y, equal to observations in 2006\n",
    "a1_lo_g           = 0.043\n",
    "\n",
    "ref_steric = [1986, 2005] # Reference period for steric sea level"
   ]
  },
  {
   "cell_type": "code",
   "execution_count": 29,
   "metadata": {},
   "outputs": [],
   "source": [
    "def comp_plot_dist(X_ens, lo, hi, title_in, SCE):\n",
    "    '''Easily compute the distribution, plot a histogram and table of percentile \n",
    "    values'''\n",
    "    nbin = int(hi - lo)*20 \n",
    "    X_pdf, bins = np.histogram(X_ens, bins=nbin, range=(lo, hi), density=True)\n",
    "    bin_centers = (bins[1:] + bins[:-1])/2\n",
    "\n",
    "    plt.bar(bin_centers, X_pdf, width=1)\n",
    "    plt.ylabel('PDF')\n",
    "    plt.title(title_in + ' for '+SCE)\n",
    "    plt.show()\n",
    "    \n",
    "    Perc  = (1,5,10,17,20,50,80,83,90,95,99,99.5,99.9)\n",
    "    perc = misc.perc_df(X_pdf, Perc, bin_centers)\n",
    "    print(\"### Distribution ###\")\n",
    "    display(perc)"
   ]
  },
  {
   "cell_type": "markdown",
   "metadata": {},
   "source": [
    "### Test ocean dynamics function: odyn.odyn_glob_ipcc"
   ]
  },
  {
   "cell_type": "code",
   "execution_count": 30,
   "metadata": {},
   "outputs": [
    {
     "name": "stdout",
     "output_type": "stream",
     "text": [
      "(3, 100000, 95)\n"
     ]
    },
    {
     "data": {
      "image/png": "[encoded data removed]",
      "text/plain": [
       "<Figure size 432x288 with 1 Axes>"
      ]
     },
     "metadata": {
      "needs_background": "light"
     },
     "output_type": "display_data"
    },
    {
     "name": "stdout",
     "output_type": "stream",
     "text": [
      "### Distribution ###\n"
     ]
    },
    {
     "data": {
      "text/html": [
       "<div>\n",
       "<style scoped>\n",
       "    .dataframe tbody tr th:only-of-type {\n",
       "        vertical-align: middle;\n",
       "    }\n",
       "\n",
       "    .dataframe tbody tr th {\n",
       "        vertical-align: top;\n",
       "    }\n",
       "\n",
       "    .dataframe thead th {\n",
       "        text-align: right;\n",
       "    }\n",
       "</style>\n",
       "<table border=\"1\" class=\"dataframe\">\n",
       "  <thead>\n",
       "    <tr style=\"text-align: right;\">\n",
       "      <th></th>\n",
       "      <th>values</th>\n",
       "    </tr>\n",
       "    <tr>\n",
       "      <th>percentiles</th>\n",
       "      <th></th>\n",
       "    </tr>\n",
       "  </thead>\n",
       "  <tbody>\n",
       "    <tr>\n",
       "      <th>1.0</th>\n",
       "      <td>21.675</td>\n",
       "    </tr>\n",
       "    <tr>\n",
       "      <th>5.0</th>\n",
       "      <td>24.675</td>\n",
       "    </tr>\n",
       "    <tr>\n",
       "      <th>10.0</th>\n",
       "      <td>26.225</td>\n",
       "    </tr>\n",
       "    <tr>\n",
       "      <th>17.0</th>\n",
       "      <td>27.625</td>\n",
       "    </tr>\n",
       "    <tr>\n",
       "      <th>20.0</th>\n",
       "      <td>28.125</td>\n",
       "    </tr>\n",
       "    <tr>\n",
       "      <th>50.0</th>\n",
       "      <td>31.775</td>\n",
       "    </tr>\n",
       "    <tr>\n",
       "      <th>80.0</th>\n",
       "      <td>35.375</td>\n",
       "    </tr>\n",
       "    <tr>\n",
       "      <th>83.0</th>\n",
       "      <td>35.875</td>\n",
       "    </tr>\n",
       "    <tr>\n",
       "      <th>90.0</th>\n",
       "      <td>37.275</td>\n",
       "    </tr>\n",
       "    <tr>\n",
       "      <th>95.0</th>\n",
       "      <td>38.825</td>\n",
       "    </tr>\n",
       "    <tr>\n",
       "      <th>99.0</th>\n",
       "      <td>41.725</td>\n",
       "    </tr>\n",
       "    <tr>\n",
       "      <th>99.5</th>\n",
       "      <td>42.825</td>\n",
       "    </tr>\n",
       "    <tr>\n",
       "      <th>99.9</th>\n",
       "      <td>45.075</td>\n",
       "    </tr>\n",
       "  </tbody>\n",
       "</table>\n",
       "</div>"
      ],
      "text/plain": [
       "             values\n",
       "percentiles        \n",
       "1.0          21.675\n",
       "5.0          24.675\n",
       "10.0         26.225\n",
       "17.0         27.625\n",
       "20.0         28.125\n",
       "50.0         31.775\n",
       "80.0         35.375\n",
       "83.0         35.875\n",
       "90.0         37.275\n",
       "95.0         38.825\n",
       "99.0         41.725\n",
       "99.5         42.825\n",
       "99.9         45.075"
      ]
     },
     "metadata": {},
     "output_type": "display_data"
    }
   ],
   "source": [
    "X_O = odyn.odyn_glob_ipcc(SCE, DIR_IPCC, N, nb_y2, GAM, NormD)\n",
    "print(X_O.shape)\n",
    "comp_plot_dist(X_O[0,:,-1], -20.5, 100.5, 'Plot thermal expansion', SCE)\n"
   ]
  },
  {
   "cell_type": "markdown",
   "metadata": {},
   "source": [
    "### Test ocean dynamics function: odyn.odyn_loc"
   ]
  },
  {
   "cell_type": "code",
   "execution_count": 31,
   "metadata": {},
   "outputs": [
    {
     "name": "stderr",
     "output_type": "stream",
     "text": [
      "/Users/dewilebars/anaconda3/envs/p38ds/lib/python3.8/site-packages/xarray/core/nanops.py:142: RuntimeWarning: Mean of empty slice\n",
      "  return np.nanmean(a, axis=axis, dtype=dtype)\n"
     ]
    },
    {
     "name": "stdout",
     "output_type": "stream",
     "text": [
      "(3, 100000, 95)\n"
     ]
    },
    {
     "data": {
      "image/png": "[encoded data removed]",
      "text/plain": [
       "<Figure size 432x288 with 1 Axes>"
      ]
     },
     "metadata": {
      "needs_background": "light"
     },
     "output_type": "display_data"
    },
    {
     "name": "stdout",
     "output_type": "stream",
     "text": [
      "### Distribution ###\n"
     ]
    },
    {
     "data": {
      "text/html": [
       "<div>\n",
       "<style scoped>\n",
       "    .dataframe tbody tr th:only-of-type {\n",
       "        vertical-align: middle;\n",
       "    }\n",
       "\n",
       "    .dataframe tbody tr th {\n",
       "        vertical-align: top;\n",
       "    }\n",
       "\n",
       "    .dataframe thead th {\n",
       "        text-align: right;\n",
       "    }\n",
       "</style>\n",
       "<table border=\"1\" class=\"dataframe\">\n",
       "  <thead>\n",
       "    <tr style=\"text-align: right;\">\n",
       "      <th></th>\n",
       "      <th>values</th>\n",
       "    </tr>\n",
       "    <tr>\n",
       "      <th>percentiles</th>\n",
       "      <th></th>\n",
       "    </tr>\n",
       "  </thead>\n",
       "  <tbody>\n",
       "    <tr>\n",
       "      <th>1.0</th>\n",
       "      <td>22.625</td>\n",
       "    </tr>\n",
       "    <tr>\n",
       "      <th>5.0</th>\n",
       "      <td>30.325</td>\n",
       "    </tr>\n",
       "    <tr>\n",
       "      <th>10.0</th>\n",
       "      <td>34.225</td>\n",
       "    </tr>\n",
       "    <tr>\n",
       "      <th>17.0</th>\n",
       "      <td>37.825</td>\n",
       "    </tr>\n",
       "    <tr>\n",
       "      <th>20.0</th>\n",
       "      <td>39.075</td>\n",
       "    </tr>\n",
       "    <tr>\n",
       "      <th>50.0</th>\n",
       "      <td>48.275</td>\n",
       "    </tr>\n",
       "    <tr>\n",
       "      <th>80.0</th>\n",
       "      <td>57.475</td>\n",
       "    </tr>\n",
       "    <tr>\n",
       "      <th>83.0</th>\n",
       "      <td>58.675</td>\n",
       "    </tr>\n",
       "    <tr>\n",
       "      <th>90.0</th>\n",
       "      <td>62.225</td>\n",
       "    </tr>\n",
       "    <tr>\n",
       "      <th>95.0</th>\n",
       "      <td>66.225</td>\n",
       "    </tr>\n",
       "    <tr>\n",
       "      <th>99.0</th>\n",
       "      <td>73.575</td>\n",
       "    </tr>\n",
       "    <tr>\n",
       "      <th>99.5</th>\n",
       "      <td>76.425</td>\n",
       "    </tr>\n",
       "    <tr>\n",
       "      <th>99.9</th>\n",
       "      <td>82.075</td>\n",
       "    </tr>\n",
       "  </tbody>\n",
       "</table>\n",
       "</div>"
      ],
      "text/plain": [
       "             values\n",
       "percentiles        \n",
       "1.0          22.625\n",
       "5.0          30.325\n",
       "10.0         34.225\n",
       "17.0         37.825\n",
       "20.0         39.075\n",
       "50.0         48.275\n",
       "80.0         57.475\n",
       "83.0         58.675\n",
       "90.0         62.225\n",
       "95.0         66.225\n",
       "99.0         73.575\n",
       "99.5         76.425\n",
       "99.9         82.075"
      ]
     },
     "metadata": {},
     "output_type": "display_data"
    }
   ],
   "source": [
    "LOC = 60, 51, -3.5, 7.5 # lat_N, lat_S, lon_W, lon_E\n",
    "LowPass = False\n",
    "\n",
    "X_O = odyn.odyn_loc(SCE, MOD, DIR_O, DIR_OG, LOC, \n",
    "                    ref_steric, ye, N, ys, GAM, NormD, LowPass)\n",
    "print(X_O.shape)\n",
    "comp_plot_dist(X_O[0,:,-1], -20.5, 100.5, 'Plot thermal expansion', SCE)\n"
   ]
  },
  {
   "cell_type": "markdown",
   "metadata": {},
   "source": [
    "### Test ocean dynamics function: odyn.odyn_cmip"
   ]
  },
  {
   "cell_type": "code",
   "execution_count": 32,
   "metadata": {},
   "outputs": [
    {
     "data": {
      "text/plain": [
       "<module 'func_odyn' from '../code/func_odyn.py'>"
      ]
     },
     "execution_count": 32,
     "metadata": {},
     "output_type": "execute_result"
    }
   ],
   "source": [
    "# Works for ye greater than 2100 if LowPass is on by extrapolating a 2nd order fit of each model in the future \n",
    "importlib.reload(odyn)"
   ]
  },
  {
   "cell_type": "code",
   "execution_count": 33,
   "metadata": {},
   "outputs": [
    {
     "ename": "TypeError",
     "evalue": "odyn_cmip() missing 1 required positional argument: 'BiasCorr'",
     "output_type": "error",
     "traceback": [
      "\u001b[0;31m---------------------------------------------------------------------------\u001b[0m",
      "\u001b[0;31mTypeError\u001b[0m                                 Traceback (most recent call last)",
      "\u001b[0;32m<ipython-input-33-3b0405157b6e>\u001b[0m in \u001b[0;36m<module>\u001b[0;34m\u001b[0m\n\u001b[1;32m      3\u001b[0m \u001b[0mDIR_CMIP\u001b[0m \u001b[0;34m=\u001b[0m \u001b[0;34m'../../CMIP_SeaLevel/outputs/'\u001b[0m\u001b[0;34m\u001b[0m\u001b[0;34m\u001b[0m\u001b[0m\n\u001b[1;32m      4\u001b[0m \u001b[0;34m\u001b[0m\u001b[0m\n\u001b[0;32m----> 5\u001b[0;31m X_O2 = odyn.odyn_cmip('ssp585', DIR_CMIP, LOC, \n\u001b[0m\u001b[1;32m      6\u001b[0m                      ref_steric, 2100, N, ys, GAM, NormD, LowPass)\n\u001b[1;32m      7\u001b[0m \u001b[0mprint\u001b[0m\u001b[0;34m(\u001b[0m\u001b[0mX_O2\u001b[0m\u001b[0;34m.\u001b[0m\u001b[0mshape\u001b[0m\u001b[0;34m)\u001b[0m\u001b[0;34m\u001b[0m\u001b[0;34m\u001b[0m\u001b[0m\n",
      "\u001b[0;31mTypeError\u001b[0m: odyn_cmip() missing 1 required positional argument: 'BiasCorr'"
     ]
    }
   ],
   "source": [
    "LowPass = False\n",
    "LOC = [60, 51, -3.5, 7.5]\n",
    "DIR_CMIP = '../../CMIP_SeaLevel/outputs/'\n",
    "\n",
    "X_O2 = odyn.odyn_cmip('ssp585', DIR_CMIP, LOC, \n",
    "                     ref_steric, 2100, N, ys, GAM, NormD, LowPass)\n",
    "print(X_O2.shape)\n",
    "comp_plot_dist(X_O2[0,:,-1], -20.5, 200.5, 'Plot thermal expansion', SCE)"
   ]
  },
  {
   "cell_type": "code",
   "execution_count": null,
   "metadata": {},
   "outputs": [],
   "source": [
    "X_O2 = odyn.odyn_cmip('rcp85', DIR_CMIP, LOC, \n",
    "                     ref_steric, 2100, N, ys, GAM, NormD, LowPass)\n",
    "print(X_O2.shape)\n",
    "comp_plot_dist(X_O2[0,:,-1], -20.5, 200.5, 'Plot thermal expansion', SCE)"
   ]
  },
  {
   "cell_type": "markdown",
   "metadata": {},
   "source": [
    "### Test the temperature projection function"
   ]
  },
  {
   "cell_type": "code",
   "execution_count": null,
   "metadata": {},
   "outputs": [],
   "source": [
    "importlib.reload(misc)"
   ]
  },
  {
   "cell_type": "code",
   "execution_count": null,
   "metadata": {},
   "outputs": [],
   "source": [
    "def comp_plot_dist_temp(X_ens, lo, hi, title_in, SCE):\n",
    "    '''Easily compute the distribution, plot a histogram and table of percentile \n",
    "    values'''\n",
    "    nbin = 100\n",
    "    X_pdf, bins = np.histogram(X_ens, bins=nbin, range=(lo, hi), density=True)\n",
    "    bin_centers = (bins[1:] + bins[:-1])/2\n",
    "\n",
    "    plt.bar(bin_centers, X_pdf, width=1)\n",
    "    plt.ylabel('PDF')\n",
    "    plt.title(title_in + ' for '+SCE)\n",
    "    plt.show()\n",
    "    \n",
    "    Perc  = (1,5,10,17,20,50,80,83,90,95,99,99.5,99.9)\n",
    "    perc = misc.perc_df(X_pdf, Perc, bin_centers)\n",
    "    print(\"### Distribution ###\")\n",
    "    display(perc)"
   ]
  },
  {
   "cell_type": "code",
   "execution_count": null,
   "metadata": {},
   "outputs": [],
   "source": [
    "LowPass = False\n",
    "SCE = 'rcp85'\n",
    "ye = 2100\n",
    "\n",
    "path = DIR_T+'global_tas_Amon_*_'+SCE+'_r1i1p1.dat'\n",
    "files  = glob.glob(path)\n",
    "\n",
    "TGLOB = misc.tglob_cmip5( files, SCE, start_date, ye , LowPass, False)\n",
    "TGLOBs = TGLOB.sel(time=slice(ys,None))\n",
    "T_gic = TGLOBs - TGLOB.sel(time=slice(1986,2005)).mean(dim='time')\n",
    "Td_gic = misc.normal_distrib(T_gic, GAM, NormD)\n",
    "comp_plot_dist_temp(Td_gic[:,-1], -1, 8, 'GMST', SCE)"
   ]
  },
  {
   "cell_type": "code",
   "execution_count": null,
   "metadata": {},
   "outputs": [],
   "source": [
    "TGLOB = misc.tglob_cmip6(DIR_T_cmip6, 'ssp585', start_date, ye, LowPass, False)\n",
    "TGLOBs = TGLOB.sel(time=slice(ys,None))\n",
    "\n",
    "T_gic = TGLOBs - TGLOB.sel(time=slice(1986,2005)).mean(dim='time')\n",
    "Td_gic = misc.normal_distrib(T_gic, GAM, NormD)\n",
    "comp_plot_dist_temp(Td_gic[:,-1], -1, 8, 'GMST', SCE)"
   ]
  },
  {
   "cell_type": "code",
   "execution_count": null,
   "metadata": {},
   "outputs": [],
   "source": [
    "TGLOB = misc.tglob_ar6('ssp585', start_date, ye)\n",
    "TGLOBs = TGLOB.sel(time=slice(ys,None))\n",
    "\n",
    "T_gic = TGLOBs - TGLOB.sel(time=slice(1986,2005)).mean(dim='time')\n",
    "Td_gic = misc.normal_distrib(T_gic, GAM, NormD)\n",
    "comp_plot_dist_temp(Td_gic[:,-1], -1, 8, 'GMST', SCE)"
   ]
  },
  {
   "cell_type": "markdown",
   "metadata": {},
   "source": [
    "AR6 provides temperature projections for ssp585 just a tiny bit higher than rcp85 in AR5"
   ]
  },
  {
   "cell_type": "markdown",
   "metadata": {},
   "source": [
    "### Test the glacier projection function"
   ]
  },
  {
   "cell_type": "code",
   "execution_count": null,
   "metadata": {},
   "outputs": [],
   "source": [
    "importlib.reload(gic)"
   ]
  },
  {
   "cell_type": "code",
   "execution_count": null,
   "metadata": {},
   "outputs": [],
   "source": [
    "NormDs  = np.random.normal(0, 1, N)   # This distribution is then kept for correlation\n",
    "X_gic = gic.gic(Td_gic, NormDs, 'AR5')\n",
    "comp_plot_dist(X_gic[:,-1], -20.5, 100.5, 'Glaciers and ice caps', SCE)\n"
   ]
  },
  {
   "cell_type": "code",
   "execution_count": null,
   "metadata": {},
   "outputs": [],
   "source": [
    "NormDs  = np.random.normal(0, 1, N)   # This distribution is then kept for correlation\n",
    "X_gic = gic.gic_ipcc(Td_gic, NormDs, 'AR6')\n",
    "comp_plot_dist(X_gic[:,-1], -20.5, 100.5, 'Glaciers and ice caps', SCE)\n"
   ]
  },
  {
   "cell_type": "markdown",
   "metadata": {},
   "source": [
    "### Test the Greenland SMB function"
   ]
  },
  {
   "cell_type": "code",
   "execution_count": null,
   "metadata": {},
   "outputs": [],
   "source": [
    "T_g = TGLOBs - TGLOB.sel(time=slice(1980,1999)).mean(dim='time')\n",
    "Td_g = misc.normal_distrib(T_g, GAM, NormD)\n",
    "\n",
    "NormDl = np.random.normal(0, 1, N)\n",
    "X_gsmb = gre.fett13(fac, Td_g, NormDl, GRE)\n",
    "comp_plot_dist(X_gsmb[:,-1], -20.5, 100.5, 'Greenland SMB', SCE)"
   ]
  },
  {
   "cell_type": "markdown",
   "metadata": {},
   "source": [
    "### Test Antarctic SMB"
   ]
  },
  {
   "cell_type": "code",
   "execution_count": null,
   "metadata": {},
   "outputs": [],
   "source": [
    "Tref_a = misc.Tref(1985, 2005, TGLOB, TIME)   # Antarctic SMB\n",
    "Td_a = misc.TempDist(TGLOBs, Tref_a, GAM, NormD)\n",
    "NormDl = np.random.normal(0, 1, N)\n",
    "X_asmb = ant.ant_smb_ar5(NormDl, fac, Td_a)\n",
    "comp_plot_dist(X_asmb[:,-1], -20.5, 100.5, 'Antarctic SMB', SCE)"
   ]
  },
  {
   "cell_type": "markdown",
   "metadata": {},
   "source": [
    "### Test land water storage"
   ]
  },
  {
   "cell_type": "code",
   "execution_count": null,
   "metadata": {},
   "outputs": [],
   "source": [
    "X_landw = misc.landw_ar5(ys, TIME2, N)\n",
    "comp_plot_dist(X_landw[:,-1], -20.5, 100.5, 'Land water changes', SCE)"
   ]
  },
  {
   "cell_type": "markdown",
   "metadata": {},
   "source": [
    "### Test Antarctic dynamics"
   ]
  },
  {
   "cell_type": "markdown",
   "metadata": {},
   "source": [
    "### AR5"
   ]
  },
  {
   "cell_type": "code",
   "execution_count": 34,
   "metadata": {},
   "outputs": [
    {
     "data": {
      "image/png": "[encoded data removed]",
      "text/plain": [
       "<Figure size 432x288 with 1 Axes>"
      ]
     },
     "metadata": {
      "needs_background": "light"
     },
     "output_type": "display_data"
    },
    {
     "name": "stdout",
     "output_type": "stream",
     "text": [
      "### Distribution ###\n"
     ]
    },
    {
     "data": {
      "text/html": [
       "<div>\n",
       "<style scoped>\n",
       "    .dataframe tbody tr th:only-of-type {\n",
       "        vertical-align: middle;\n",
       "    }\n",
       "\n",
       "    .dataframe tbody tr th {\n",
       "        vertical-align: top;\n",
       "    }\n",
       "\n",
       "    .dataframe thead th {\n",
       "        text-align: right;\n",
       "    }\n",
       "</style>\n",
       "<table border=\"1\" class=\"dataframe\">\n",
       "  <thead>\n",
       "    <tr style=\"text-align: right;\">\n",
       "      <th></th>\n",
       "      <th>values</th>\n",
       "    </tr>\n",
       "    <tr>\n",
       "      <th>percentiles</th>\n",
       "      <th></th>\n",
       "    </tr>\n",
       "  </thead>\n",
       "  <tbody>\n",
       "    <tr>\n",
       "      <th>1.0</th>\n",
       "      <td>-1.825</td>\n",
       "    </tr>\n",
       "    <tr>\n",
       "      <th>5.0</th>\n",
       "      <td>-0.975</td>\n",
       "    </tr>\n",
       "    <tr>\n",
       "      <th>10.0</th>\n",
       "      <td>0.025</td>\n",
       "    </tr>\n",
       "    <tr>\n",
       "      <th>17.0</th>\n",
       "      <td>1.475</td>\n",
       "    </tr>\n",
       "    <tr>\n",
       "      <th>20.0</th>\n",
       "      <td>2.025</td>\n",
       "    </tr>\n",
       "    <tr>\n",
       "      <th>50.0</th>\n",
       "      <td>8.225</td>\n",
       "    </tr>\n",
       "    <tr>\n",
       "      <th>80.0</th>\n",
       "      <td>14.375</td>\n",
       "    </tr>\n",
       "    <tr>\n",
       "      <th>83.0</th>\n",
       "      <td>14.925</td>\n",
       "    </tr>\n",
       "    <tr>\n",
       "      <th>90.0</th>\n",
       "      <td>16.425</td>\n",
       "    </tr>\n",
       "    <tr>\n",
       "      <th>95.0</th>\n",
       "      <td>17.475</td>\n",
       "    </tr>\n",
       "    <tr>\n",
       "      <th>99.0</th>\n",
       "      <td>18.275</td>\n",
       "    </tr>\n",
       "    <tr>\n",
       "      <th>99.5</th>\n",
       "      <td>18.375</td>\n",
       "    </tr>\n",
       "    <tr>\n",
       "      <th>99.9</th>\n",
       "      <td>18.475</td>\n",
       "    </tr>\n",
       "  </tbody>\n",
       "</table>\n",
       "</div>"
      ],
      "text/plain": [
       "             values\n",
       "percentiles        \n",
       "1.0          -1.825\n",
       "5.0          -0.975\n",
       "10.0          0.025\n",
       "17.0          1.475\n",
       "20.0          2.025\n",
       "50.0          8.225\n",
       "80.0         14.375\n",
       "83.0         14.925\n",
       "90.0         16.425\n",
       "95.0         17.475\n",
       "99.0         18.275\n",
       "99.5         18.375\n",
       "99.9         18.475"
      ]
     },
     "metadata": {},
     "output_type": "display_data"
    }
   ],
   "source": [
    "Unif_AA   = np.random.uniform(0, 1, N)\n",
    "#### 2nd order projection starting from observations and ending between -2 and 18.5 cm\n",
    "X_ant = misc.proj2order(TIME2, a1_up_a, a1_lo_a, 18.5, -2, Unif_AA)\n",
    "comp_plot_dist(X_ant[:,-1], -20.5, 100.5, 'Antarctic dynamics', SCE)"
   ]
  },
  {
   "cell_type": "markdown",
   "metadata": {},
   "source": [
    "### SROCC"
   ]
  },
  {
   "cell_type": "code",
   "execution_count": 35,
   "metadata": {},
   "outputs": [
    {
     "data": {
      "image/png": "[encoded data removed]",
      "text/plain": [
       "<Figure size 432x288 with 1 Axes>"
      ]
     },
     "metadata": {
      "needs_background": "light"
     },
     "output_type": "display_data"
    },
    {
     "name": "stdout",
     "output_type": "stream",
     "text": [
      "### Distribution ###\n"
     ]
    },
    {
     "data": {
      "text/html": [
       "<div>\n",
       "<style scoped>\n",
       "    .dataframe tbody tr th:only-of-type {\n",
       "        vertical-align: middle;\n",
       "    }\n",
       "\n",
       "    .dataframe tbody tr th {\n",
       "        vertical-align: top;\n",
       "    }\n",
       "\n",
       "    .dataframe thead th {\n",
       "        text-align: right;\n",
       "    }\n",
       "</style>\n",
       "<table border=\"1\" class=\"dataframe\">\n",
       "  <thead>\n",
       "    <tr style=\"text-align: right;\">\n",
       "      <th></th>\n",
       "      <th>values</th>\n",
       "    </tr>\n",
       "    <tr>\n",
       "      <th>percentiles</th>\n",
       "      <th></th>\n",
       "    </tr>\n",
       "  </thead>\n",
       "  <tbody>\n",
       "    <tr>\n",
       "      <th>1.0</th>\n",
       "      <td>-14.425</td>\n",
       "    </tr>\n",
       "    <tr>\n",
       "      <th>5.0</th>\n",
       "      <td>-6.475</td>\n",
       "    </tr>\n",
       "    <tr>\n",
       "      <th>10.0</th>\n",
       "      <td>-1.675</td>\n",
       "    </tr>\n",
       "    <tr>\n",
       "      <th>17.0</th>\n",
       "      <td>2.775</td>\n",
       "    </tr>\n",
       "    <tr>\n",
       "      <th>20.0</th>\n",
       "      <td>4.325</td>\n",
       "    </tr>\n",
       "    <tr>\n",
       "      <th>50.0</th>\n",
       "      <td>15.975</td>\n",
       "    </tr>\n",
       "    <tr>\n",
       "      <th>80.0</th>\n",
       "      <td>27.725</td>\n",
       "    </tr>\n",
       "    <tr>\n",
       "      <th>83.0</th>\n",
       "      <td>29.325</td>\n",
       "    </tr>\n",
       "    <tr>\n",
       "      <th>90.0</th>\n",
       "      <td>33.925</td>\n",
       "    </tr>\n",
       "    <tr>\n",
       "      <th>95.0</th>\n",
       "      <td>39.075</td>\n",
       "    </tr>\n",
       "    <tr>\n",
       "      <th>99.0</th>\n",
       "      <td>48.825</td>\n",
       "    </tr>\n",
       "    <tr>\n",
       "      <th>99.5</th>\n",
       "      <td>52.275</td>\n",
       "    </tr>\n",
       "    <tr>\n",
       "      <th>99.9</th>\n",
       "      <td>59.625</td>\n",
       "    </tr>\n",
       "  </tbody>\n",
       "</table>\n",
       "</div>"
      ],
      "text/plain": [
       "             values\n",
       "percentiles        \n",
       "1.0         -14.425\n",
       "5.0          -6.475\n",
       "10.0         -1.675\n",
       "17.0          2.775\n",
       "20.0          4.325\n",
       "50.0         15.975\n",
       "80.0         27.725\n",
       "83.0         29.325\n",
       "90.0         33.925\n",
       "95.0         39.075\n",
       "99.0         48.825\n",
       "99.5         52.275\n",
       "99.9         59.625"
      ]
     },
     "metadata": {},
     "output_type": "display_data"
    }
   ],
   "source": [
    "X_ant = ant.ant_dyn_srocc(SCE, a1_up_a, a1_lo_a, TIME2, N)\n",
    "comp_plot_dist(X_ant[:,-1], -20.5, 100.5, 'Antarctic dynamics', SCE)"
   ]
  },
  {
   "cell_type": "markdown",
   "metadata": {},
   "source": [
    "### AR6"
   ]
  },
  {
   "cell_type": "code",
   "execution_count": 42,
   "metadata": {},
   "outputs": [
    {
     "data": {
      "image/png": "[encoded data removed]",
      "text/plain": [
       "<Figure size 432x288 with 1 Axes>"
      ]
     },
     "metadata": {
      "needs_background": "light"
     },
     "output_type": "display_data"
    },
    {
     "name": "stdout",
     "output_type": "stream",
     "text": [
      "### Distribution ###\n"
     ]
    },
    {
     "data": {
      "text/html": [
       "<div>\n",
       "<style scoped>\n",
       "    .dataframe tbody tr th:only-of-type {\n",
       "        vertical-align: middle;\n",
       "    }\n",
       "\n",
       "    .dataframe tbody tr th {\n",
       "        vertical-align: top;\n",
       "    }\n",
       "\n",
       "    .dataframe thead th {\n",
       "        text-align: right;\n",
       "    }\n",
       "</style>\n",
       "<table border=\"1\" class=\"dataframe\">\n",
       "  <thead>\n",
       "    <tr style=\"text-align: right;\">\n",
       "      <th></th>\n",
       "      <th>values</th>\n",
       "    </tr>\n",
       "    <tr>\n",
       "      <th>percentiles</th>\n",
       "      <th></th>\n",
       "    </tr>\n",
       "  </thead>\n",
       "  <tbody>\n",
       "    <tr>\n",
       "      <th>1.0</th>\n",
       "      <td>-19.625</td>\n",
       "    </tr>\n",
       "    <tr>\n",
       "      <th>5.0</th>\n",
       "      <td>-8.675</td>\n",
       "    </tr>\n",
       "    <tr>\n",
       "      <th>10.0</th>\n",
       "      <td>-2.725</td>\n",
       "    </tr>\n",
       "    <tr>\n",
       "      <th>17.0</th>\n",
       "      <td>2.775</td>\n",
       "    </tr>\n",
       "    <tr>\n",
       "      <th>20.0</th>\n",
       "      <td>4.725</td>\n",
       "    </tr>\n",
       "    <tr>\n",
       "      <th>50.0</th>\n",
       "      <td>18.975</td>\n",
       "    </tr>\n",
       "    <tr>\n",
       "      <th>80.0</th>\n",
       "      <td>49.975</td>\n",
       "    </tr>\n",
       "    <tr>\n",
       "      <th>83.0</th>\n",
       "      <td>54.075</td>\n",
       "    </tr>\n",
       "    <tr>\n",
       "      <th>90.0</th>\n",
       "      <td>66.025</td>\n",
       "    </tr>\n",
       "    <tr>\n",
       "      <th>95.0</th>\n",
       "      <td>79.225</td>\n",
       "    </tr>\n",
       "    <tr>\n",
       "      <th>99.0</th>\n",
       "      <td>102.925</td>\n",
       "    </tr>\n",
       "    <tr>\n",
       "      <th>99.5</th>\n",
       "      <td>111.425</td>\n",
       "    </tr>\n",
       "    <tr>\n",
       "      <th>99.9</th>\n",
       "      <td>123.025</td>\n",
       "    </tr>\n",
       "  </tbody>\n",
       "</table>\n",
       "</div>"
      ],
      "text/plain": [
       "              values\n",
       "percentiles         \n",
       "1.0          -19.625\n",
       "5.0           -8.675\n",
       "10.0          -2.725\n",
       "17.0           2.775\n",
       "20.0           4.725\n",
       "50.0          18.975\n",
       "80.0          49.975\n",
       "83.0          54.075\n",
       "90.0          66.025\n",
       "95.0          79.225\n",
       "99.0         102.925\n",
       "99.5         111.425\n",
       "99.9         123.025"
      ]
     },
     "metadata": {},
     "output_type": "display_data"
    }
   ],
   "source": [
    "SCE = 'ssp585_hpp'\n",
    "X_ant = ant.ant_ar6(TIME2, a1_up_a, a1_lo_a, SCE, NormD)\n",
    "comp_plot_dist(X_ant[:,-1], -30.5, 130.5, 'Total antarctica', SCE)"
   ]
  },
  {
   "cell_type": "markdown",
   "metadata": {},
   "source": [
    "### Test Greenland dynamics"
   ]
  },
  {
   "cell_type": "code",
   "execution_count": null,
   "metadata": {},
   "outputs": [],
   "source": [
    "# First order term (cm/y), equal to half of observations in 2006\n",
    "a1_up_gdyn        = 0.5 * a1_up_g\n",
    "a1_lo_gdyn        = 0.5 * a1_lo_g\n",
    "UnifDd = np.random.uniform(0, 1, N)  # Sample a new independent distribution\n",
    "\n",
    "if GRE == 'KNMI14':\n",
    "    X_gre  = misc.proj2order(TIME2, a1_up_gdyn, a1_lo_gdyn, 7.4, 1.7, UnifDd)\n",
    "elif GRE == 'IPCC':\n",
    "    if SCE in ['rcp26', 'rcp45']:\n",
    "        Delta_gre_up_2100 = 6.3\n",
    "        Delta_gre_lo_2100 = 1.4\n",
    "    elif SCE == 'rcp85':\n",
    "        Delta_gre_up_2100 = 8.5\n",
    "        Delta_gre_lo_2100 = 2\n",
    "    X_gre  = misc.proj2order(TIME2, a1_up_gdyn, a1_lo_gdyn, Delta_gre_up_2100, \n",
    "                        Delta_gre_lo_2100, UnifDd)\n",
    "comp_plot_dist(X_gre[:,10], -20.5, 100.5, 'Greenland dynamics', SCE)\n",
    "\n",
    "lo = -20.5\n",
    "hi = 100.5\n",
    "nbin = int(hi - lo) \n",
    "X_gre_pdf, bins = np.histogram(X_gre[:,10], bins=nbin, range=(lo, hi), density=True)\n",
    "X_gre_pdf"
   ]
  },
  {
   "cell_type": "markdown",
   "metadata": {},
   "source": [
    "### Test antarctic dynamics from KNMI14 projections "
   ]
  },
  {
   "cell_type": "code",
   "execution_count": null,
   "metadata": {},
   "outputs": [],
   "source": [
    "X_ant_KNMI14 = ant.ant_dyn_knmi14(SCE, a1_up_a, a1_lo_a, ys, ye, TIME2, N)\n",
    "comp_plot_dist(X_ant_KNMI14[:,-1], -20.5, 100.5, 'Antarctic dynamics KNMI14', \n",
    "               SCE)\n"
   ]
  },
  {
   "cell_type": "markdown",
   "metadata": {},
   "source": [
    "### Tables of global results"
   ]
  },
  {
   "cell_type": "code",
   "execution_count": null,
   "metadata": {},
   "outputs": [],
   "source": [
    "AR5_df = pd.read_csv('../ref_results/SLR_AR5_2100', sep=';', comment='#') # , header=1\n",
    "AR5_df = AR5_df.set_index('Processes')\n",
    "AR5_df\n"
   ]
  },
  {
   "cell_type": "markdown",
   "metadata": {},
   "source": [
    "### Test Bamber et al. 2019 functions"
   ]
  },
  {
   "cell_type": "code",
   "execution_count": null,
   "metadata": {},
   "outputs": [],
   "source": [
    "importlib.reload(b19)"
   ]
  },
  {
   "cell_type": "code",
   "execution_count": null,
   "metadata": {},
   "outputs": [],
   "source": [
    "path = '../../BamberDataDistribution/parameters_mean_std_opt.csv'\n",
    "PAR_ar = b19.ReadB19(path)\n",
    "PAR_ar"
   ]
  },
  {
   "cell_type": "code",
   "execution_count": null,
   "metadata": {},
   "outputs": [],
   "source": [
    "# Bamber et al. 2019 temperature pathways\n",
    "t0 = 2000\n",
    "t1 = 2050\n",
    "t2 = 2100\n",
    "\n",
    "# First order interpolation along temperature integral\n",
    "# Define the temperature functions for the low and high scenarios\n",
    "T0 = 0.8     # Should be floats, integers lead to problem in the computations\n",
    "Tl50 = 1.5\n",
    "Tl100 = 2.\n",
    "Th50 = 2.\n",
    "Th100 = 5.\n",
    "\n",
    "Tl = b19.TempF(T0, Tl50, Tl100, t0, t1, t2)\n",
    "Th = b19.TempF(T0, Th50, Th100, t0, t1, t2)\n",
    "\n",
    "### Plot\n",
    "t = np.arange(t0, t2+1)\n",
    "\n",
    "fig, ax = plt.subplots()\n",
    "ax.plot(t, Tl)\n",
    "ax.plot(t, Th)\n",
    "\n",
    "ax.set(xlabel='time (year)', ylabel='Temperature (ºC)',\n",
    "       title='B19 scenarios')\n",
    "ax.grid()"
   ]
  },
  {
   "cell_type": "code",
   "execution_count": null,
   "metadata": {},
   "outputs": [],
   "source": [
    "# Greenland\n",
    "GAM = 1.64\n",
    "Tref_b   = misc.Tref(2000, 2000, TGLOB, TIME)\n",
    "Td_b = misc.TempDist(TGLOBs, Tref_b, GAM, NormD)\n",
    "\n",
    "UnifP_GIS = np.random.uniform(0, 1, N)\n",
    "\n",
    "X_gsmb = b19.Bamber19('GIS', UnifP_GIS, [a1_lo_g, a1_up_g], ys, Td_b)\n",
    "X_gsmb = X_gsmb + 0.3    # Contribution between 1995 and 2005 in mm\n",
    "\n",
    "comp_plot_dist(X_gsmb[:,-1], -20.5, 350.5, 'Total Greenland B19', \n",
    "               SCE)\n",
    "# !!! The above computation is sensitive to the right end of the \n",
    "#histogram computation"
   ]
  },
  {
   "cell_type": "code",
   "execution_count": null,
   "metadata": {},
   "outputs": [],
   "source": [
    "# Antarctica\n",
    "UnifP_WAIS = np.random.uniform(0, 1, N)\n",
    "UnifP_EAIS = np.random.uniform(0, 1, N)\n",
    "\n",
    "X_ant_wais = b19.Bamber19(\"WAIS\", UnifP_WAIS, [a1_lo_a, a1_up_a], ys, Td_b)\n",
    "X_ant_eais = b19.Bamber19(\"EAIS\", UnifP_EAIS, [0, 0], ys, Td_b)\n",
    "X_ant = X_ant_wais + X_ant_eais    # Contribution between 1995 and 2005 in mm\n",
    "\n",
    "comp_plot_dist(X_ant[:,50], -100.5, 350.5, 'Total Atarctica B19', \n",
    "               SCE)"
   ]
  },
  {
   "cell_type": "code",
   "execution_count": null,
   "metadata": {},
   "outputs": [],
   "source": [
    "comp_plot_dist(X_ant_wais[:,50], -20.5, 350.5, 'WAIS B19', \n",
    "               SCE)"
   ]
  },
  {
   "cell_type": "code",
   "execution_count": null,
   "metadata": {},
   "outputs": [],
   "source": [
    "comp_plot_dist(X_ant_eais[:,-1], -20.5, 250.5, 'EAIS B19', \n",
    "               SCE)"
   ]
  },
  {
   "cell_type": "code",
   "execution_count": null,
   "metadata": {},
   "outputs": [],
   "source": []
  }
 ],
 "metadata": {
  "kernelspec": {
   "display_name": "Python [conda env:p38ds] *",
   "language": "python",
   "name": "conda-env-p38ds-py"
  },
  "language_info": {
   "codemirror_mode": {
    "name": "ipython",
    "version": 3
   },
   "file_extension": ".py",
   "mimetype": "text/x-python",
   "name": "python",
   "nbconvert_exporter": "python",
   "pygments_lexer": "ipython3",
   "version": "3.8.5"
  }
 },
 "nbformat": 4,
 "nbformat_minor": 4
}
