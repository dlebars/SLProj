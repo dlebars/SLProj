{
 "cells": [
  {
   "cell_type": "markdown",
   "id": "fae31dc4-0947-4643-b108-0a88bc8011a8",
   "metadata": {},
   "source": [
    "# Compare fingerprints from AR5 (Aimée Slangen) and from Thomas Frederikse"
   ]
  },
  {
   "cell_type": "code",
   "execution_count": 1,
   "id": "bd5a2716-47d7-4cf1-a6ae-833a8b2c9bf5",
   "metadata": {},
   "outputs": [],
   "source": [
    "root = '/Users/dewilebars/Projects/'\n",
    "budget_dir = f'{root}/SLBudget/'\n",
    "slproj_dir = f'{root}/Project_ProbSLR/SLProj/'\n",
    "\n",
    "import sys\n",
    "sys.path.append(f'{budget_dir}code')\n",
    "sys.path.append(f'{slproj_dir}code')\n",
    "\n",
    "import xarray as xr\n",
    "\n",
    "import SeaLevelContrib as slc\n",
    "import func_misc as misc"
   ]
  },
  {
   "cell_type": "code",
   "execution_count": 2,
   "id": "4f72b695-2bf8-48e7-be30-cf22cf5d134e",
   "metadata": {},
   "outputs": [],
   "source": [
    "finger_dir = f'{root}/Project_ProbSLR/Data_Proj/Data_AR5/Fingerprints/'"
   ]
  },
  {
   "cell_type": "code",
   "execution_count": 3,
   "id": "c106f279-9757-49e4-9816-d73fba98eb90",
   "metadata": {},
   "outputs": [],
   "source": [
    "LOC_FP = [53, 5] # lat, lon\n",
    "\n",
    "f_gic = xr.open_dataset(finger_dir+'Relative_GLACIERS_reg.nc', \\\n",
    "                             decode_times=False)\n",
    "F_gic = misc.finger1D(LOC_FP[0], LOC_FP[1], f_gic.latitude, f_gic.longitude, \n",
    "                      f_gic.RSL)[-1].values.item()/100\n",
    "\n",
    "f_ic        = xr.open_dataset(finger_dir+'Relative_icesheets_reg.nc')\n",
    "lat_ic      = f_ic.latitude #tofloat?\n",
    "lon_ic      = f_ic.longitude\n",
    "F_gsmb      = misc.finger1D(LOC_FP[0], LOC_FP[1], lat_ic, lon_ic, f_ic.SMB_GRE).values.item()/100\n",
    "F_asmb      = misc.finger1D(LOC_FP[0], LOC_FP[1], lat_ic, lon_ic, f_ic.SMB_ANT).values.item()/100\n",
    "F_gdyn      = misc.finger1D(LOC_FP[0], LOC_FP[1], lat_ic, lon_ic, f_ic.DYN_GRE).values.item()/100\n",
    "F_adyn      = misc.finger1D(LOC_FP[0], LOC_FP[1], lat_ic, lon_ic, f_ic.DYN_ANT).values.item()/100\n",
    "\n",
    "f_gw       = xr.open_dataset(finger_dir+'Relative_GROUNDWATER_reg.nc', \\\n",
    "                             decode_times=False)\n",
    "F_gw       = misc.finger1D(LOC_FP[0], LOC_FP[1], f_gw.latitude, f_gw.longitude, f_gw.GROUND)[-1].values.item()/100"
   ]
  },
  {
   "cell_type": "code",
   "execution_count": 4,
   "id": "2ff4318e-a78b-49ea-a0d8-28b97d456ef3",
   "metadata": {},
   "outputs": [
    {
     "data": {
      "text/plain": [
       "[0.7480514526367188,\n",
       " 0.20718278884887695,\n",
       " 1.0741610717773438,\n",
       " 0.2208646011352539,\n",
       " 1.1093885803222656,\n",
       " 0.7055201721191406]"
      ]
     },
     "execution_count": 4,
     "metadata": {},
     "output_type": "execute_result"
    }
   ],
   "source": [
    "fingerprints = [F_gic, F_gsmb, F_asmb, F_gdyn, F_adyn, F_gw]\n",
    "fingerprints"
   ]
  },
  {
   "cell_type": "code",
   "execution_count": 5,
   "id": "67d62091-ecf4-40ea-a533-9ee8cca94cac",
   "metadata": {},
   "outputs": [
    {
     "data": {
      "text/plain": [
       "time\n",
       "1900    0.705184\n",
       "1901    0.703905\n",
       "1902    0.702048\n",
       "1903    0.700123\n",
       "1904    0.701289\n",
       "          ...   \n",
       "2014    0.805275\n",
       "2015    0.825311\n",
       "2016    0.817467\n",
       "2017    0.822315\n",
       "2018    0.815624\n",
       "Length: 119, dtype: float64"
      ]
     },
     "execution_count": 5,
     "metadata": {},
     "output_type": "execute_result"
    }
   ],
   "source": [
    "slc.contrib_frederikse2020([20], 'glac')['Glaciers']/slc.contrib_frederikse2020_glob('Glaciers')['Glaciers [mean]']"
   ]
  },
  {
   "cell_type": "markdown",
   "id": "e54076e5-2a95-454e-a9a7-b37f465d5dbe",
   "metadata": {},
   "source": [
    "It seems very similar."
   ]
  },
  {
   "cell_type": "code",
   "execution_count": null,
   "id": "7641be17-fe98-416c-a355-644c9b3ff299",
   "metadata": {},
   "outputs": [],
   "source": []
  }
 ],
 "metadata": {
  "kernelspec": {
   "display_name": "Python 3",
   "language": "python",
   "name": "python3"
  },
  "language_info": {
   "codemirror_mode": {
    "name": "ipython",
    "version": 3
   },
   "file_extension": ".py",
   "mimetype": "text/x-python",
   "name": "python",
   "nbconvert_exporter": "python",
   "pygments_lexer": "ipython3",
   "version": "3.9.4"
  }
 },
 "nbformat": 4,
 "nbformat_minor": 5
}
