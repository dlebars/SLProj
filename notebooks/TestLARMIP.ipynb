{
 "cells": [
  {
   "cell_type": "markdown",
   "metadata": {},
   "source": [
    "# Test LARMIP and LARMIP-2"
   ]
  },
  {
   "cell_type": "code",
   "execution_count": 15,
   "metadata": {},
   "outputs": [],
   "source": [
    "import sys\n",
    "sys.path.append('../code')\n",
    "import importlib\n",
    "import glob\n",
    "\n",
    "import numpy as np\n",
    "import matplotlib.pyplot as plt\n",
    "import xarray as xr\n",
    "from IPython.display import display\n",
    "\n",
    "import func_misc as misc\n",
    "import func_ant as ant"
   ]
  },
  {
   "cell_type": "code",
   "execution_count": 30,
   "metadata": {},
   "outputs": [
    {
     "data": {
      "text/plain": [
       "<module 'func_ant' from '../code/func_ant.py'>"
      ]
     },
     "execution_count": 30,
     "metadata": {},
     "output_type": "execute_result"
    }
   ],
   "source": [
    "importlib.reload(ant)"
   ]
  },
  {
   "cell_type": "code",
   "execution_count": 3,
   "metadata": {},
   "outputs": [],
   "source": [
    "def comp_plot_dist(X_ens, lo, hi, title_in, SCE):\n",
    "    '''Easily compute the distribution, plot a histogram and table of percentile \n",
    "    values'''\n",
    "    nbin = int(hi - lo) \n",
    "    X_pdf, bins = np.histogram(X_ens, bins=nbin, range=(lo, hi), density=True)\n",
    "    bin_centers = (bins[1:] + bins[:-1])/2\n",
    "\n",
    "    plt.bar(bin_centers, X_pdf, width=1)\n",
    "    plt.ylabel('PDF')\n",
    "    plt.title(title_in + ' for '+SCE)\n",
    "    plt.show()\n",
    "    \n",
    "    Perc  = (1,5,10,17,20,50,80,83,90,95,99,99.5,99.9)\n",
    "    perc = misc.perc_df(X_pdf, Perc, bin_centers)\n",
    "    print(\"### Distribution ###\")\n",
    "    display(perc)"
   ]
  },
  {
   "cell_type": "code",
   "execution_count": 37,
   "metadata": {},
   "outputs": [],
   "source": [
    "data_dir = '/Users/dewilebars/Projects/Project_ProbSLR/Data_Proj/'\n",
    "DIR_T = data_dir+'Data_AR5/Tglobal/'\n",
    "start_date2 = 2006\n",
    "\n",
    "LowPass = False\n",
    "SCE = 'rcp45'\n",
    "GAM = 1\n",
    "MOD = [\"ACCESS1-0\",\"BCC-CSM1-1\",\"CanESM2\",\"CNRM-CM5\",\"CSIRO-Mk3-6-0\",\"GFDL-ESM2G\", \\\n",
    "    \"GFDL-ESM2M\",\"GISS-E2-R\",\"HadGEM2-CC\",\"HadGEM2-ES\",\"inmcm4\",\"IPSL-CM5A-LR\", \\\n",
    "    \"IPSL-CM5A-MR\",\"MIROC5\",\"MIROC-ESM-CHEM\",\"MIROC-ESM\",\"MPI-ESM-LR\",\"MPI-ESM-MR\", \\\n",
    "    \"MRI-CGCM3\",\"NorESM1-ME\",\"NorESM1-M\"]\n",
    "\n",
    "N = int(1e5)\n",
    "NormD  = np.random.normal(0, 1, N)\n",
    "TEMPf = 'AR5' # 'all', 'AR5'\n",
    "\n",
    "if TEMPf == 'all':\n",
    "    path = DIR_T+'global_tas_Amon_*_'+SCE+'_r1i1p1.dat'\n",
    "    if nl.INFO:\n",
    "        print(path)\n",
    "    files     = glob.glob(path)\n",
    "elif TEMPf == 'AR5':\n",
    "    files = misc.temp_path_AR5(MOD, DIR_T, SCE)\n",
    "else:\n",
    "    print('Option TEMPf: ' + nl.TEMPf + ' is not supported')\n",
    "    \n",
    "temp_files = files\n",
    "UnifDd = np.random.uniform(0, 1, N)"
   ]
  },
  {
   "cell_type": "code",
   "execution_count": 38,
   "metadata": {},
   "outputs": [
    {
     "name": "stdout",
     "output_type": "stream",
     "text": [
      "CPU times: user 15 s, sys: 5.3 s, total: 20.3 s\n",
      "Wall time: 21.9 s\n"
     ]
    }
   ],
   "source": [
    "%%time\n",
    "X_ant = ant.ant_dyn_larmip_t(SCE, MOD, start_date2, GAM, NormD, UnifDd, data_dir, files, 'LARMIP', LowPass)"
   ]
  },
  {
   "cell_type": "code",
   "execution_count": 39,
   "metadata": {},
   "outputs": [
    {
     "data": {
      "image/png": "[encoded data removed]",
      "text/plain": [
       "<Figure size 432x288 with 1 Axes>"
      ]
     },
     "metadata": {
      "needs_background": "light"
     },
     "output_type": "display_data"
    },
    {
     "name": "stdout",
     "output_type": "stream",
     "text": [
      "### Distribution ###\n"
     ]
    },
    {
     "data": {
      "text/html": [
       "<div>\n",
       "<style scoped>\n",
       "    .dataframe tbody tr th:only-of-type {\n",
       "        vertical-align: middle;\n",
       "    }\n",
       "\n",
       "    .dataframe tbody tr th {\n",
       "        vertical-align: top;\n",
       "    }\n",
       "\n",
       "    .dataframe thead th {\n",
       "        text-align: right;\n",
       "    }\n",
       "</style>\n",
       "<table border=\"1\" class=\"dataframe\">\n",
       "  <thead>\n",
       "    <tr style=\"text-align: right;\">\n",
       "      <th></th>\n",
       "      <th>values</th>\n",
       "    </tr>\n",
       "    <tr>\n",
       "      <th>percentiles</th>\n",
       "      <th></th>\n",
       "    </tr>\n",
       "  </thead>\n",
       "  <tbody>\n",
       "    <tr>\n",
       "      <th>1.0</th>\n",
       "      <td>1.0</td>\n",
       "    </tr>\n",
       "    <tr>\n",
       "      <th>5.0</th>\n",
       "      <td>3.0</td>\n",
       "    </tr>\n",
       "    <tr>\n",
       "      <th>10.0</th>\n",
       "      <td>5.0</td>\n",
       "    </tr>\n",
       "    <tr>\n",
       "      <th>17.0</th>\n",
       "      <td>7.0</td>\n",
       "    </tr>\n",
       "    <tr>\n",
       "      <th>20.0</th>\n",
       "      <td>7.0</td>\n",
       "    </tr>\n",
       "    <tr>\n",
       "      <th>50.0</th>\n",
       "      <td>13.0</td>\n",
       "    </tr>\n",
       "    <tr>\n",
       "      <th>80.0</th>\n",
       "      <td>22.0</td>\n",
       "    </tr>\n",
       "    <tr>\n",
       "      <th>83.0</th>\n",
       "      <td>23.0</td>\n",
       "    </tr>\n",
       "    <tr>\n",
       "      <th>90.0</th>\n",
       "      <td>28.0</td>\n",
       "    </tr>\n",
       "    <tr>\n",
       "      <th>95.0</th>\n",
       "      <td>35.0</td>\n",
       "    </tr>\n",
       "    <tr>\n",
       "      <th>99.0</th>\n",
       "      <td>55.0</td>\n",
       "    </tr>\n",
       "    <tr>\n",
       "      <th>99.5</th>\n",
       "      <td>64.0</td>\n",
       "    </tr>\n",
       "    <tr>\n",
       "      <th>99.9</th>\n",
       "      <td>84.0</td>\n",
       "    </tr>\n",
       "  </tbody>\n",
       "</table>\n",
       "</div>"
      ],
      "text/plain": [
       "             values\n",
       "percentiles        \n",
       "1.0             1.0\n",
       "5.0             3.0\n",
       "10.0            5.0\n",
       "17.0            7.0\n",
       "20.0            7.0\n",
       "50.0           13.0\n",
       "80.0           22.0\n",
       "83.0           23.0\n",
       "90.0           28.0\n",
       "95.0           35.0\n",
       "99.0           55.0\n",
       "99.5           64.0\n",
       "99.9           84.0"
      ]
     },
     "metadata": {},
     "output_type": "display_data"
    }
   ],
   "source": [
    "comp_plot_dist(X_ant[:,-1], -20.5, 100.5, 'Plot Antarctic dynamics', SCE)"
   ]
  },
  {
   "cell_type": "code",
   "execution_count": 40,
   "metadata": {},
   "outputs": [],
   "source": [
    "X_ant_m = np.mean(X_ant,0)"
   ]
  },
  {
   "cell_type": "code",
   "execution_count": 41,
   "metadata": {},
   "outputs": [
    {
     "data": {
      "text/plain": [
       "[<matplotlib.lines.Line2D at 0x7f9ab0e2c520>]"
      ]
     },
     "execution_count": 41,
     "metadata": {},
     "output_type": "execute_result"
    },
    {
     "data": {
      "image/png": "[encoded data removed]",
      "text/plain": [
       "<Figure size 432x288 with 1 Axes>"
      ]
     },
     "metadata": {
      "needs_background": "light"
     },
     "output_type": "display_data"
    }
   ],
   "source": [
    "plt.plot(X_ant_m)"
   ]
  },
  {
   "cell_type": "markdown",
   "metadata": {},
   "source": [
    "Expected value seems to behave in the same way as the NCL code\n",
    "\n",
    "Why is there a big jump in the distribution in 0?\n",
    "Need some further investigations.\n",
    "\n",
    "Probably from the fact that the coefficients relating GMST and subsurface temperature at the ice shelves are forced to be positive."
   ]
  },
  {
   "cell_type": "markdown",
   "metadata": {},
   "source": [
    "### Continue work with LARMIP2 implementation"
   ]
  },
  {
   "cell_type": "code",
   "execution_count": 32,
   "metadata": {},
   "outputs": [
    {
     "name": "stdout",
     "output_type": "stream",
     "text": [
      "/Users/dewilebars/Projects/Project_ProbSLR/Data_Proj/LRF_Lev20/RFunctions/RF_*_BM08_R5.dat\n"
     ]
    },
    {
     "data": {
      "text/plain": [
       "['/Users/dewilebars/Projects/Project_ProbSLR/Data_Proj/LRF_Lev20/RFunctions/RF_PISM_DMI_BM08_R5.dat',\n",
       " '/Users/dewilebars/Projects/Project_ProbSLR/Data_Proj/LRF_Lev20/RFunctions/RF_GRIS_LSC_BM08_R5.dat',\n",
       " '/Users/dewilebars/Projects/Project_ProbSLR/Data_Proj/LRF_Lev20/RFunctions/RF_PISM_AWI_BM08_R5.dat',\n",
       " '/Users/dewilebars/Projects/Project_ProbSLR/Data_Proj/LRF_Lev20/RFunctions/RF_BISI_LBL_1KM_BM08_R5.dat',\n",
       " '/Users/dewilebars/Projects/Project_ProbSLR/Data_Proj/LRF_Lev20/RFunctions/RF_UA_UNN_BM08_R5.dat',\n",
       " '/Users/dewilebars/Projects/Project_ProbSLR/Data_Proj/LRF_Lev20/RFunctions/RF_PS3D_PSU_BM08_R5.dat',\n",
       " '/Users/dewilebars/Projects/Project_ProbSLR/Data_Proj/LRF_Lev20/RFunctions/RF_SICO_UHO_BM08_R5.dat',\n",
       " '/Users/dewilebars/Projects/Project_ProbSLR/Data_Proj/LRF_Lev20/RFunctions/RF_PISM_VUW_BM08_R5.dat',\n",
       " '/Users/dewilebars/Projects/Project_ProbSLR/Data_Proj/LRF_Lev20/RFunctions/RF_FETI_VUB_BM08_R5.dat',\n",
       " '/Users/dewilebars/Projects/Project_ProbSLR/Data_Proj/LRF_Lev20/RFunctions/RF_IMAU_VUB_BM08_R5.dat',\n",
       " '/Users/dewilebars/Projects/Project_ProbSLR/Data_Proj/LRF_Lev20/RFunctions/RF_AISM_VUB_BM08_R5.dat',\n",
       " '/Users/dewilebars/Projects/Project_ProbSLR/Data_Proj/LRF_Lev20/RFunctions/RF_ISSM_UCI_BM08_R5.dat',\n",
       " '/Users/dewilebars/Projects/Project_ProbSLR/Data_Proj/LRF_Lev20/RFunctions/RF_ISSM_JPL_BM08_R5.dat',\n",
       " '/Users/dewilebars/Projects/Project_ProbSLR/Data_Proj/LRF_Lev20/RFunctions/RF_CISM_NCA_BM08_R5.dat',\n",
       " '/Users/dewilebars/Projects/Project_ProbSLR/Data_Proj/LRF_Lev20/RFunctions/RF_MALI_LAN_BM08_R5.dat',\n",
       " '/Users/dewilebars/Projects/Project_ProbSLR/Data_Proj/LRF_Lev20/RFunctions/RF_BISI_LBL_BM08_R5.dat',\n",
       " '/Users/dewilebars/Projects/Project_ProbSLR/Data_Proj/LRF_Lev20/RFunctions/RF_PISM_PIK_BM08_R5.dat']"
      ]
     },
     "execution_count": 32,
     "metadata": {},
     "output_type": "execute_result"
    }
   ],
   "source": [
    "# Read the text files\n",
    "bm = 'BM08' # basal melt m.y-1. BM02, BM04, BM08, BM16 available. \n",
    "            # BM08 is used in Levermann et al. 2020.\n",
    "reg = 'R5' # R0 to R5 and SU (sum of all regions)\n",
    "# R0 has less members than the other regions...\n",
    "path = f'{data_dir}LRF_Lev20/RFunctions/RF_*_{bm}_{reg}.dat'\n",
    "print(path)\n",
    "\n",
    "files = glob.glob(path)\n",
    "files"
   ]
  },
  {
   "cell_type": "code",
   "execution_count": 31,
   "metadata": {},
   "outputs": [
    {
     "data": {
      "text/plain": [
       "17"
      ]
     },
     "execution_count": 31,
     "metadata": {},
     "output_type": "execute_result"
    }
   ],
   "source": [
    "len(files)"
   ]
  },
  {
   "cell_type": "markdown",
   "metadata": {},
   "source": [
    "Next steps:\n",
    "- Use the LARMIP2 LRF (try to use the same code/function for both LARMIP and LARMIP2 cases)\n",
    "- Use CMIP6 instead of CMIP5 temperature\n",
    "- Compare time series to coefficients\n",
    "- Compute the coefficients for CMIP6\n",
    "- Improve computational efficiency of the method\n",
    "- Where is the script that includes a positive feedback between the freshwater and mass loss?"
   ]
  },
  {
   "cell_type": "code",
   "execution_count": null,
   "metadata": {},
   "outputs": [],
   "source": []
  }
 ],
 "metadata": {
  "kernelspec": {
   "display_name": "Python 3",
   "language": "python",
   "name": "python3"
  },
  "language_info": {
   "codemirror_mode": {
    "name": "ipython",
    "version": 3
   },
   "file_extension": ".py",
   "mimetype": "text/x-python",
   "name": "python",
   "nbconvert_exporter": "python",
   "pygments_lexer": "ipython3",
   "version": "3.8.5"
  }
 },
 "nbformat": 4,
 "nbformat_minor": 4
}
