{
 "cells": [
  {
   "cell_type": "markdown",
   "metadata": {},
   "source": [
    "# Compare future temperature pathways from KNMI14, CMIP5 and CMIP6"
   ]
  },
  {
   "cell_type": "markdown",
   "metadata": {},
   "source": [
    "### Start with developping the functions for CMIP6"
   ]
  },
  {
   "cell_type": "code",
   "execution_count": 1,
   "metadata": {},
   "outputs": [
    {
     "name": "stderr",
     "output_type": "stream",
     "text": [
      "/Users/dewilebars/anaconda3/envs/p37ds/lib/python3.7/site-packages/xarray/core/merge.py:17: FutureWarning: The Panel class is removed from pandas. Accessing it from the top-level namespace will also be removed in the next version\n",
      "  PANDAS_TYPES = (pd.Series, pd.DataFrame, pd.Panel)\n"
     ]
    }
   ],
   "source": [
    "import os\n",
    "import pandas as pd\n",
    "import xarray as xr"
   ]
  },
  {
   "cell_type": "code",
   "execution_count": 2,
   "metadata": {},
   "outputs": [],
   "source": [
    "data_path = '/Users/dewilebars/Projects/Project_ProbSLR/Data_Proj/'\n",
    "data_cmip6_temp = data_path+'Data_CMIP6/tas-global-area-averaged/'\n",
    "\n",
    "#MOD = []"
   ]
  },
  {
   "cell_type": "code",
   "execution_count": 3,
   "metadata": {},
   "outputs": [
    {
     "name": "stdout",
     "output_type": "stream",
     "text": [
      "615\n"
     ]
    },
    {
     "name": "stderr",
     "output_type": "stream",
     "text": [
      "/Users/dewilebars/anaconda3/envs/p37ds/lib/python3.7/site-packages/ipykernel_launcher.py:17: UserWarning: Boolean Series key will be reindexed to match DataFrame index.\n"
     ]
    },
    {
     "data": {
      "text/html": [
       "<div>\n",
       "<style scoped>\n",
       "    .dataframe tbody tr th:only-of-type {\n",
       "        vertical-align: middle;\n",
       "    }\n",
       "\n",
       "    .dataframe tbody tr th {\n",
       "        vertical-align: top;\n",
       "    }\n",
       "\n",
       "    .dataframe thead th {\n",
       "        text-align: right;\n",
       "    }\n",
       "</style>\n",
       "<table border=\"1\" class=\"dataframe\">\n",
       "  <thead>\n",
       "    <tr style=\"text-align: right;\">\n",
       "      <th></th>\n",
       "      <th>Model</th>\n",
       "      <th>Experiment</th>\n",
       "      <th>Ensemble</th>\n",
       "    </tr>\n",
       "  </thead>\n",
       "  <tbody>\n",
       "    <tr>\n",
       "      <th>5</th>\n",
       "      <td>AWI-CM-1-1-MR</td>\n",
       "      <td>ssp126</td>\n",
       "      <td>r1i1p1f1.nc</td>\n",
       "    </tr>\n",
       "    <tr>\n",
       "      <th>16</th>\n",
       "      <td>BCC-CSM2-MR</td>\n",
       "      <td>ssp126</td>\n",
       "      <td>r1i1p1f1.nc</td>\n",
       "    </tr>\n",
       "    <tr>\n",
       "      <th>29</th>\n",
       "      <td>CAMS-CSM1-0</td>\n",
       "      <td>ssp126</td>\n",
       "      <td>r1i1p1f1.nc</td>\n",
       "    </tr>\n",
       "    <tr>\n",
       "      <th>42</th>\n",
       "      <td>CESM2-WACCM</td>\n",
       "      <td>ssp126</td>\n",
       "      <td>r1i1p1f1.nc</td>\n",
       "    </tr>\n",
       "    <tr>\n",
       "      <th>59</th>\n",
       "      <td>CESM2</td>\n",
       "      <td>ssp126</td>\n",
       "      <td>r1i1p1f1.nc</td>\n",
       "    </tr>\n",
       "    <tr>\n",
       "      <th>138</th>\n",
       "      <td>CanESM5</td>\n",
       "      <td>ssp126</td>\n",
       "      <td>r1i1p1f1.nc</td>\n",
       "    </tr>\n",
       "    <tr>\n",
       "      <th>327</th>\n",
       "      <td>EC-Earth3-Veg</td>\n",
       "      <td>ssp126</td>\n",
       "      <td>r1i1p1f1.nc</td>\n",
       "    </tr>\n",
       "    <tr>\n",
       "      <th>360</th>\n",
       "      <td>EC-Earth3</td>\n",
       "      <td>ssp126</td>\n",
       "      <td>r1i1p1f1.nc</td>\n",
       "    </tr>\n",
       "    <tr>\n",
       "      <th>445</th>\n",
       "      <td>INM-CM4-8</td>\n",
       "      <td>ssp126</td>\n",
       "      <td>r1i1p1f1.nc</td>\n",
       "    </tr>\n",
       "    <tr>\n",
       "      <th>457</th>\n",
       "      <td>INM-CM5-0</td>\n",
       "      <td>ssp126</td>\n",
       "      <td>r1i1p1f1.nc</td>\n",
       "    </tr>\n",
       "    <tr>\n",
       "      <th>488</th>\n",
       "      <td>MIROC6</td>\n",
       "      <td>ssp126</td>\n",
       "      <td>r1i1p1f1.nc</td>\n",
       "    </tr>\n",
       "    <tr>\n",
       "      <th>510</th>\n",
       "      <td>MPI-ESM1-2-HR</td>\n",
       "      <td>ssp126</td>\n",
       "      <td>r1i1p1f1.nc</td>\n",
       "    </tr>\n",
       "    <tr>\n",
       "      <th>528</th>\n",
       "      <td>MRI-ESM2-0</td>\n",
       "      <td>ssp126</td>\n",
       "      <td>r1i1p1f1.nc</td>\n",
       "    </tr>\n",
       "    <tr>\n",
       "      <th>545</th>\n",
       "      <td>NESM3</td>\n",
       "      <td>ssp126</td>\n",
       "      <td>r1i1p1f1.nc</td>\n",
       "    </tr>\n",
       "  </tbody>\n",
       "</table>\n",
       "</div>"
      ],
      "text/plain": [
       "             Model Experiment     Ensemble\n",
       "5    AWI-CM-1-1-MR     ssp126  r1i1p1f1.nc\n",
       "16     BCC-CSM2-MR     ssp126  r1i1p1f1.nc\n",
       "29     CAMS-CSM1-0     ssp126  r1i1p1f1.nc\n",
       "42     CESM2-WACCM     ssp126  r1i1p1f1.nc\n",
       "59           CESM2     ssp126  r1i1p1f1.nc\n",
       "138        CanESM5     ssp126  r1i1p1f1.nc\n",
       "327  EC-Earth3-Veg     ssp126  r1i1p1f1.nc\n",
       "360      EC-Earth3     ssp126  r1i1p1f1.nc\n",
       "445      INM-CM4-8     ssp126  r1i1p1f1.nc\n",
       "457      INM-CM5-0     ssp126  r1i1p1f1.nc\n",
       "488         MIROC6     ssp126  r1i1p1f1.nc\n",
       "510  MPI-ESM1-2-HR     ssp126  r1i1p1f1.nc\n",
       "528     MRI-ESM2-0     ssp126  r1i1p1f1.nc\n",
       "545          NESM3     ssp126  r1i1p1f1.nc"
      ]
     },
     "execution_count": 3,
     "metadata": {},
     "output_type": "execute_result"
    }
   ],
   "source": [
    "ens = 'r1i1p1f1'\n",
    "exp = 'ssp126'\n",
    "files = os.listdir(data_cmip6_temp)\n",
    "# for file in files:\n",
    "#     print(file)\n",
    "print(len(files))\n",
    "files.remove('README')\n",
    "files = sorted(files)\n",
    "info_df = pd.DataFrame(columns=['Model', 'Experiment', 'Ensemble'])\n",
    "for i in range(len(files)):\n",
    "    st = files[i].split('_')\n",
    "    if len(st) != 3:\n",
    "        print(i)\n",
    "        print(st)\n",
    "    #st = list(filter(None, st)) # Remove empty '' strings\n",
    "    info_df.loc[i] = [ st[0], st[1], st[2] ]\n",
    "info_df[info_df['Ensemble'] == ens+'.nc'][info_df['Experiment'] == exp]\n"
   ]
  },
  {
   "cell_type": "code",
   "execution_count": 4,
   "metadata": {},
   "outputs": [
    {
     "data": {
      "text/plain": [
       "{'AWI-CM-1-1-MR',\n",
       " 'BCC-CSM2-MR',\n",
       " 'BCC-ESM1',\n",
       " 'CAMS-CSM1-0',\n",
       " 'CESM2',\n",
       " 'CESM2-FV2',\n",
       " 'CESM2-WACCM',\n",
       " 'CESM2-WACCM-FV2',\n",
       " 'CanESM5',\n",
       " 'E3SM-1-0',\n",
       " 'EC-Earth3',\n",
       " 'EC-Earth3-Veg',\n",
       " 'GFDL-ESM4',\n",
       " 'GISS-E2-1-G',\n",
       " 'GISS-E2-1-G-CC',\n",
       " 'GISS-E2-1-H',\n",
       " 'HadGEM3-GC31-LL',\n",
       " 'INM-CM4-8',\n",
       " 'INM-CM5-0',\n",
       " 'MCM-UA-1-0',\n",
       " 'MIROC-ES2L',\n",
       " 'MIROC6',\n",
       " 'MPI-ESM1-2-HR',\n",
       " 'MRI-ESM2-0',\n",
       " 'NESM3',\n",
       " 'NorCPM1',\n",
       " 'NorESM2-LM',\n",
       " 'SAM0-UNICON',\n",
       " 'UKESM1-0-LL'}"
      ]
     },
     "execution_count": 4,
     "metadata": {},
     "output_type": "execute_result"
    }
   ],
   "source": [
    "set(info_df['Model'])"
   ]
  },
  {
   "cell_type": "code",
   "execution_count": 5,
   "metadata": {},
   "outputs": [
    {
     "data": {
      "text/plain": [
       "29"
      ]
     },
     "execution_count": 5,
     "metadata": {},
     "output_type": "execute_result"
    }
   ],
   "source": [
    "len(set(info_df['Model']))"
   ]
  },
  {
   "cell_type": "code",
   "execution_count": 6,
   "metadata": {},
   "outputs": [],
   "source": [
    "def temp_path_CMIP6(DIR_T, ENS, SCE):\n",
    "    '''Build a list of paths of the CMIP6 global mean tas files refering to a \n",
    "    given ensemble and scenario'''\n",
    "    files_all = os.listdir(DIR_T)\n",
    "    files_all.remove('README')\n",
    "    info_df = pd.DataFrame(columns=['Model', 'Experiment', 'Ensemble'])\n",
    "    for i in range(len(files_all)):\n",
    "        st = files_all[i].split('_')\n",
    "        if len(st) != 3:\n",
    "            print('WARNING!!! This file name is not standard')\n",
    "            print(i)\n",
    "            print(st)\n",
    "        info_df.loc[i] = [ st[0], st[1], st[2] ]\n",
    "    sel_df = info_df[info_df['Ensemble'] == ENS+'.nc'][info_df['Experiment'] \n",
    "                                                       == SCE]\n",
    "    files     = []\n",
    "    nb_MOD = len(sel_df)\n",
    "    for m in range(0, nb_MOD-1):\n",
    "        path = DIR_T+sel_df.iloc[m][0]+'_'+sel_df.iloc[m][1]+'_'+sel_df.iloc[m][2]\n",
    "        if path: # Make sure the path is not empty\n",
    "            files.append(path)\n",
    "    return files"
   ]
  },
  {
   "cell_type": "code",
   "execution_count": 7,
   "metadata": {},
   "outputs": [
    {
     "name": "stderr",
     "output_type": "stream",
     "text": [
      "/Users/dewilebars/anaconda3/envs/p37ds/lib/python3.7/site-packages/ipykernel_launcher.py:15: UserWarning: Boolean Series key will be reindexed to match DataFrame index.\n",
      "  from ipykernel import kernelapp as app\n"
     ]
    },
    {
     "data": {
      "text/plain": [
       "['/Users/dewilebars/Projects/Project_ProbSLR/Data_Proj/Data_CMIP6/tas-global-area-averaged/CAMS-CSM1-0_ssp126_r1i1p1f1.nc',\n",
       " '/Users/dewilebars/Projects/Project_ProbSLR/Data_Proj/Data_CMIP6/tas-global-area-averaged/CESM2_ssp126_r1i1p1f1.nc',\n",
       " '/Users/dewilebars/Projects/Project_ProbSLR/Data_Proj/Data_CMIP6/tas-global-area-averaged/MPI-ESM1-2-HR_ssp126_r1i1p1f1.nc',\n",
       " '/Users/dewilebars/Projects/Project_ProbSLR/Data_Proj/Data_CMIP6/tas-global-area-averaged/MIROC6_ssp126_r1i1p1f1.nc',\n",
       " '/Users/dewilebars/Projects/Project_ProbSLR/Data_Proj/Data_CMIP6/tas-global-area-averaged/MRI-ESM2-0_ssp126_r1i1p1f1.nc',\n",
       " '/Users/dewilebars/Projects/Project_ProbSLR/Data_Proj/Data_CMIP6/tas-global-area-averaged/EC-Earth3-Veg_ssp126_r1i1p1f1.nc',\n",
       " '/Users/dewilebars/Projects/Project_ProbSLR/Data_Proj/Data_CMIP6/tas-global-area-averaged/AWI-CM-1-1-MR_ssp126_r1i1p1f1.nc',\n",
       " '/Users/dewilebars/Projects/Project_ProbSLR/Data_Proj/Data_CMIP6/tas-global-area-averaged/BCC-CSM2-MR_ssp126_r1i1p1f1.nc',\n",
       " '/Users/dewilebars/Projects/Project_ProbSLR/Data_Proj/Data_CMIP6/tas-global-area-averaged/CanESM5_ssp126_r1i1p1f1.nc',\n",
       " '/Users/dewilebars/Projects/Project_ProbSLR/Data_Proj/Data_CMIP6/tas-global-area-averaged/EC-Earth3_ssp126_r1i1p1f1.nc',\n",
       " '/Users/dewilebars/Projects/Project_ProbSLR/Data_Proj/Data_CMIP6/tas-global-area-averaged/INM-CM5-0_ssp126_r1i1p1f1.nc',\n",
       " '/Users/dewilebars/Projects/Project_ProbSLR/Data_Proj/Data_CMIP6/tas-global-area-averaged/CESM2-WACCM_ssp126_r1i1p1f1.nc',\n",
       " '/Users/dewilebars/Projects/Project_ProbSLR/Data_Proj/Data_CMIP6/tas-global-area-averaged/INM-CM4-8_ssp126_r1i1p1f1.nc']"
      ]
     },
     "execution_count": 7,
     "metadata": {},
     "output_type": "execute_result"
    }
   ],
   "source": [
    "path_sel = temp_path_CMIP6(data_cmip6_temp, ens, exp)\n",
    "path_sel"
   ]
  },
  {
   "cell_type": "code",
   "execution_count": 37,
   "metadata": {},
   "outputs": [
    {
     "data": {
      "text/plain": [
       "'AWI-CM-1-1-MR'"
      ]
     },
     "execution_count": 37,
     "metadata": {},
     "output_type": "execute_result"
    }
   ],
   "source": [
    "def tglob_cmip6(INFO, DIR_T, SCE, nb_y, start_date, ye):\n",
    "    '''Read the NetCDF files of monthly temperature for each CMIP6 model and \n",
    "    store yearly averged values in and array'''\n",
    "    files_all = os.listdir(DIR_T)\n",
    "    files_all.remove('README')\n",
    "    info_df = pd.DataFrame(columns=['Model', 'Experiment', 'Ensemble'])\n",
    "    for i in range(len(files_all)):\n",
    "        st = files_all[i].split('_')\n",
    "        if len(st) != 3:\n",
    "            print('WARNING!!! This file name is not standard')\n",
    "            print(i)\n",
    "            print(st)\n",
    "        info_df.loc[i] = [ st[0], st[1], st[2] ]\n",
    "    sel_df = info_df[info_df['Ensemble'] == ENS+'.nc'][info_df['Experiment'] \n",
    "                                                       == SCE]\n",
    "    nb_MOD    = len(sel_df)\n",
    "    if INFO:\n",
    "        print('Number of models used for scenario '+ SCE + ' : ' + str(nb_MOD))\n",
    "        print('Models path: ')\n",
    "        print(\"\\n\".join(files))\n",
    "    \n",
    "    TGLOB    = np.zeros([nb_MOD, nb_y])\n",
    "\n",
    "    for m in range(0,nb_MOD):\n",
    "        TEMP_ds  = xr.open_dataset(files[m])\n",
    "        TEMP_y_ds = TEMP_ds.groupby('year').mean(dim='time')\n",
    "        \n",
    "        time     = TEMP['Year'][:]\n",
    "        dim_t    = len(time)\n",
    "        i_start  = np.where(time == start_date)[0][0]\n",
    "        i_end    = np.where(time == ye)[0][0]\n",
    "        TGLOB[m, :i_end + 1 - i_start] = TEMP.iloc[i_start:i_end+1, 1:].mean(axis=1)   \n",
    "        # !Data is in degree Kelvin\n",
    "        #### Issue of missing temperature value for rcp26 after 2100 for this scenario\n",
    "        # it is ok to assume it is constant after 2100\n",
    "        if (SCE == 'rcp26') and (ye > 2100):\n",
    "            i2100 = np.where(time == 2099)\n",
    "            print(i2100)\n",
    "            TGLOB[m,i2100-i_start : ] = TGLOB[m,i2100-i_start]\n",
    "        del(TEMP)\n",
    "        del(time)\n",
    "    return TGLOB"
   ]
  },
  {
   "cell_type": "code",
   "execution_count": 50,
   "metadata": {},
   "outputs": [
    {
     "data": {
      "text/plain": [
       "'AWI-CM-1-1-MR'"
      ]
     },
     "execution_count": 50,
     "metadata": {},
     "output_type": "execute_result"
    }
   ],
   "source": [
    "info_df.loc[0][0]"
   ]
  },
  {
   "cell_type": "code",
   "execution_count": 9,
   "metadata": {},
   "outputs": [
    {
     "data": {
      "text/plain": [
       "[<matplotlib.lines.Line2D at 0x322c8f450>]"
      ]
     },
     "execution_count": 9,
     "metadata": {},
     "output_type": "execute_result"
    },
    {
     "data": {
      "image/png": "[encoded data removed]",
      "text/plain": [
       "<Figure size 432x288 with 1 Axes>"
      ]
     },
     "metadata": {
      "needs_background": "light"
     },
     "output_type": "display_data"
    }
   ],
   "source": [
    "tas_test = xr.open_dataset(data_cmip6_temp+'INM-CM4-8_ssp585_r1i1p1f1.nc')\n",
    "tas_test.tas.plot()"
   ]
  },
  {
   "cell_type": "code",
   "execution_count": 12,
   "metadata": {},
   "outputs": [
    {
     "data": {
      "text/plain": [
       "<xarray.DataArray 'year' (time: 1032)>\n",
       "array([2015, 2015, 2015, ..., 2100, 2100, 2100])\n",
       "Coordinates:\n",
       "  * time         (time) object 2015-01-16 12:00:00 ... 2100-12-16 12:00:00\n",
       "    height       float64 ...\n",
       "    latitude     float64 ...\n",
       "    longitude    float64 ...\n",
       "    season       (time) |S64 ...\n",
       "    season_year  (time) int64 ...\n",
       "    year         (time) int64 2015 2015 2015 2015 2015 ... 2100 2100 2100 2100\n",
       "Attributes:\n",
       "    units:      1\n",
       "    long_name:  year"
      ]
     },
     "execution_count": 12,
     "metadata": {},
     "output_type": "execute_result"
    }
   ],
   "source": [
    "tas_test.year"
   ]
  },
  {
   "cell_type": "code",
   "execution_count": 24,
   "metadata": {},
   "outputs": [
    {
     "data": {
      "text/plain": [
       "[<matplotlib.lines.Line2D at 0x121623d10>]"
      ]
     },
     "execution_count": 24,
     "metadata": {},
     "output_type": "execute_result"
    },
    {
     "data": {
      "image/png": "[encoded data removed]",
      "text/plain": [
       "<Figure size 432x288 with 1 Axes>"
      ]
     },
     "metadata": {
      "needs_background": "light"
     },
     "output_type": "display_data"
    }
   ],
   "source": [
    "tas_y = tas_test.groupby('year').mean(dim='time')\n",
    "tas_y.tas.loc[2050:2100].plot()"
   ]
  },
  {
   "cell_type": "code",
   "execution_count": 23,
   "metadata": {},
   "outputs": [
    {
     "data": {
      "text/plain": [
       "<xarray.Dataset>\n",
       "Dimensions:         (bnds: 2, year: 86)\n",
       "Coordinates:\n",
       "    height          float64 2.0\n",
       "    latitude        float64 0.0\n",
       "    longitude       float64 180.0\n",
       "  * year            (year) int64 2015 2016 2017 2018 ... 2097 2098 2099 2100\n",
       "Dimensions without coordinates: bnds\n",
       "Data variables:\n",
       "    tas             (year) float64 287.4 287.5 287.5 287.6 ... 290.5 290.5 290.5\n",
       "    latitude_bnds   (year, bnds) float64 -90.0 90.0 -90.0 ... 90.0 -90.0 90.0\n",
       "    longitude_bnds  (year, bnds) float64 0.0 360.0 0.0 360.0 ... 360.0 0.0 360.0"
      ]
     },
     "execution_count": 23,
     "metadata": {},
     "output_type": "execute_result"
    }
   ],
   "source": [
    "tas_y.loc[]"
   ]
  },
  {
   "cell_type": "code",
   "execution_count": 26,
   "metadata": {},
   "outputs": [
    {
     "data": {
      "text/plain": [
       "<xarray.DataArray 'year' (year: 51)>\n",
       "array([2050, 2051, 2052, 2053, 2054, 2055, 2056, 2057, 2058, 2059, 2060, 2061,\n",
       "       2062, 2063, 2064, 2065, 2066, 2067, 2068, 2069, 2070, 2071, 2072, 2073,\n",
       "       2074, 2075, 2076, 2077, 2078, 2079, 2080, 2081, 2082, 2083, 2084, 2085,\n",
       "       2086, 2087, 2088, 2089, 2090, 2091, 2092, 2093, 2094, 2095, 2096, 2097,\n",
       "       2098, 2099, 2100])\n",
       "Coordinates:\n",
       "    height     float64 2.0\n",
       "    latitude   float64 0.0\n",
       "    longitude  float64 180.0\n",
       "  * year       (year) int64 2050 2051 2052 2053 2054 ... 2097 2098 2099 2100"
      ]
     },
     "execution_count": 26,
     "metadata": {},
     "output_type": "execute_result"
    }
   ],
   "source": [
    "tas_y.year.loc[2050:2100]"
   ]
  },
  {
   "cell_type": "code",
   "execution_count": null,
   "metadata": {},
   "outputs": [],
   "source": []
  }
 ],
 "metadata": {
  "kernelspec": {
   "display_name": "Python 3",
   "language": "python",
   "name": "python3"
  },
  "language_info": {
   "codemirror_mode": {
    "name": "ipython",
    "version": 3
   },
   "file_extension": ".py",
   "mimetype": "text/x-python",
   "name": "python",
   "nbconvert_exporter": "python",
   "pygments_lexer": "ipython3",
   "version": "3.7.4"
  }
 },
 "nbformat": 4,
 "nbformat_minor": 4
}
